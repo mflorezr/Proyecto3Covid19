{
 "cells": [
  {
   "cell_type": "code",
   "execution_count": 1,
   "metadata": {},
   "outputs": [
    {
     "data": {
      "application/vnd.jupyter.widget-view+json": {
       "model_id": "173d7f3b099b41718fc2e97848f0da9e",
       "version_major": 2,
       "version_minor": 0
      },
      "text/plain": [
       "VBox()"
      ]
     },
     "metadata": {},
     "output_type": "display_data"
    },
    {
     "name": "stdout",
     "output_type": "stream",
     "text": [
      "Starting Spark application\n"
     ]
    },
    {
     "data": {
      "text/html": [
       "<table>\n",
       "<tr><th>ID</th><th>YARN Application ID</th><th>Kind</th><th>State</th><th>Spark UI</th><th>Driver log</th><th>Current session?</th></tr><tr><td>3</td><td>application_1589660637587_0004</td><td>pyspark</td><td>idle</td><td><a target=\"_blank\" href=\"http://ip-172-31-20-232.ec2.internal:20888/proxy/application_1589660637587_0004/\">Link</a></td><td><a target=\"_blank\" href=\"http://ip-172-31-29-212.ec2.internal:8042/node/containerlogs/container_1589660637587_0004_01_000001/livy\">Link</a></td><td>✔</td></tr></table>"
      ],
      "text/plain": [
       "<IPython.core.display.HTML object>"
      ]
     },
     "metadata": {},
     "output_type": "display_data"
    },
    {
     "data": {
      "application/vnd.jupyter.widget-view+json": {
       "model_id": "",
       "version_major": 2,
       "version_minor": 0
      },
      "text/plain": [
       "FloatProgress(value=0.0, bar_style='info', description='Progress:', layout=Layout(height='25px', width='50%'),…"
      ]
     },
     "metadata": {},
     "output_type": "display_data"
    },
    {
     "name": "stdout",
     "output_type": "stream",
     "text": [
      "SparkSession available as 'spark'.\n"
     ]
    },
    {
     "data": {
      "application/vnd.jupyter.widget-view+json": {
       "model_id": "",
       "version_major": 2,
       "version_minor": 0
      },
      "text/plain": [
       "FloatProgress(value=0.0, bar_style='info', description='Progress:', layout=Layout(height='25px', width='50%'),…"
      ]
     },
     "metadata": {},
     "output_type": "display_data"
    },
    {
     "name": "stdout",
     "output_type": "stream",
     "text": [
      "<SparkContext master=yarn appName=livy-session-3>"
     ]
    }
   ],
   "source": [
    "sc"
   ]
  },
  {
   "cell_type": "code",
   "execution_count": 2,
   "metadata": {},
   "outputs": [
    {
     "name": "stdout",
     "output_type": "stream",
     "text": [
      "Starting Spark application\n"
     ]
    },
    {
     "data": {
      "text/html": [
       "<table>\n",
       "<tr><th>ID</th><th>YARN Application ID</th><th>Kind</th><th>State</th><th>Spark UI</th><th>Driver log</th><th>Current session?</th></tr><tr><td>4</td><td>application_1589660637587_0005</td><td>pyspark</td><td>idle</td><td><a target=\"_blank\" href=\"http://ip-172-31-20-232.ec2.internal:20888/proxy/application_1589660637587_0005/\">Link</a></td><td><a target=\"_blank\" href=\"http://ip-172-31-29-212.ec2.internal:8042/node/containerlogs/container_1589660637587_0005_01_000001/livy\">Link</a></td><td>✔</td></tr></table>"
      ],
      "text/plain": [
       "<IPython.core.display.HTML object>"
      ]
     },
     "metadata": {},
     "output_type": "display_data"
    },
    {
     "data": {
      "application/vnd.jupyter.widget-view+json": {
       "model_id": "",
       "version_major": 2,
       "version_minor": 0
      },
      "text/plain": [
       "FloatProgress(value=0.0, bar_style='info', description='Progress:', layout=Layout(height='25px', width='50%'),…"
      ]
     },
     "metadata": {},
     "output_type": "display_data"
    },
    {
     "name": "stdout",
     "output_type": "stream",
     "text": [
      "SparkSession available as 'spark'.\n"
     ]
    },
    {
     "data": {
      "text/html": [
       "Current session configs: <tt>{'conf': {'spark.pyspark.python': 'python3', 'spark.pyspark.virtualenv.enabled': 'true', 'spark.pyspark.virtualenv.type': 'native', 'spark.pyspark.virtualenv.bin.path': '/usr/bin/virtualenv'}, 'kind': 'pyspark'}</tt><br>"
      ],
      "text/plain": [
       "<IPython.core.display.HTML object>"
      ]
     },
     "metadata": {},
     "output_type": "display_data"
    },
    {
     "data": {
      "text/html": [
       "<table>\n",
       "<tr><th>ID</th><th>YARN Application ID</th><th>Kind</th><th>State</th><th>Spark UI</th><th>Driver log</th><th>Current session?</th></tr><tr><td>4</td><td>application_1589660637587_0005</td><td>pyspark</td><td>idle</td><td><a target=\"_blank\" href=\"http://ip-172-31-20-232.ec2.internal:20888/proxy/application_1589660637587_0005/\">Link</a></td><td><a target=\"_blank\" href=\"http://ip-172-31-29-212.ec2.internal:8042/node/containerlogs/container_1589660637587_0005_01_000001/livy\">Link</a></td><td>✔</td></tr></table>"
      ],
      "text/plain": [
       "<IPython.core.display.HTML object>"
      ]
     },
     "metadata": {},
     "output_type": "display_data"
    }
   ],
   "source": [
    "%%configure -f\n",
    "{ \"conf\":{\n",
    "\"spark.pyspark.python\": \"python3\",\n",
    "\"spark.pyspark.virtualenv.enabled\": \"true\",\n",
    "\"spark.pyspark.virtualenv.type\":\"native\",\n",
    "\"spark.pyspark.virtualenv.bin.path\":\"/usr/bin/virtualenv\"\n",
    "}}"
   ]
  },
  {
   "cell_type": "code",
   "execution_count": 3,
   "metadata": {},
   "outputs": [
    {
     "data": {
      "application/vnd.jupyter.widget-view+json": {
       "model_id": "ca1442f692d24c80afb48c30bc55d192",
       "version_major": 2,
       "version_minor": 0
      },
      "text/plain": [
       "VBox()"
      ]
     },
     "metadata": {},
     "output_type": "display_data"
    },
    {
     "data": {
      "application/vnd.jupyter.widget-view+json": {
       "model_id": "",
       "version_major": 2,
       "version_minor": 0
      },
      "text/plain": [
       "FloatProgress(value=0.0, bar_style='info', description='Progress:', layout=Layout(height='25px', width='50%'),…"
      ]
     },
     "metadata": {},
     "output_type": "display_data"
    },
    {
     "name": "stdout",
     "output_type": "stream",
     "text": [
      "Collecting pandas\n",
      "  Using cached pandas-1.0.3-cp36-cp36m-manylinux1_x86_64.whl (10.0 MB)\n",
      "Collecting python-dateutil>=2.6.1\n",
      "  Using cached python_dateutil-2.8.1-py2.py3-none-any.whl (227 kB)\n",
      "Requirement already satisfied: numpy>=1.13.3 in /usr/local/lib64/python3.6/site-packages (from pandas) (1.14.5)\n",
      "Requirement already satisfied: pytz>=2017.2 in /usr/local/lib/python3.6/site-packages (from pandas) (2019.2)\n",
      "Requirement already satisfied: six>=1.5 in /usr/local/lib/python3.6/site-packages (from python-dateutil>=2.6.1->pandas) (1.12.0)\n",
      "Installing collected packages: python-dateutil, pandas\n",
      "Successfully installed pandas-1.0.3 python-dateutil-2.8.1"
     ]
    }
   ],
   "source": [
    "sc.install_pypi_package(\"pandas\")"
   ]
  },
  {
   "cell_type": "code",
   "execution_count": 4,
   "metadata": {},
   "outputs": [
    {
     "data": {
      "application/vnd.jupyter.widget-view+json": {
       "model_id": "0911b19ba21e44ec9a1093608bab4254",
       "version_major": 2,
       "version_minor": 0
      },
      "text/plain": [
       "VBox()"
      ]
     },
     "metadata": {},
     "output_type": "display_data"
    },
    {
     "data": {
      "application/vnd.jupyter.widget-view+json": {
       "model_id": "",
       "version_major": 2,
       "version_minor": 0
      },
      "text/plain": [
       "FloatProgress(value=0.0, bar_style='info', description='Progress:', layout=Layout(height='25px', width='50%'),…"
      ]
     },
     "metadata": {},
     "output_type": "display_data"
    },
    {
     "name": "stdout",
     "output_type": "stream",
     "text": [
      "Collecting matplotlib\n",
      "  Using cached matplotlib-3.2.1-cp36-cp36m-manylinux1_x86_64.whl (12.4 MB)\n",
      "Collecting pyparsing!=2.0.4,!=2.1.2,!=2.1.6,>=2.0.1\n",
      "  Using cached pyparsing-2.4.7-py2.py3-none-any.whl (67 kB)\n",
      "Requirement already satisfied: numpy>=1.11 in /usr/local/lib64/python3.6/site-packages (from matplotlib) (1.14.5)\n",
      "Requirement already satisfied: python-dateutil>=2.1 in /mnt/tmp/1589662039163-0/lib/python3.6/site-packages (from matplotlib) (2.8.1)\n",
      "Collecting kiwisolver>=1.0.1\n",
      "  Using cached kiwisolver-1.2.0-cp36-cp36m-manylinux1_x86_64.whl (88 kB)\n",
      "Collecting cycler>=0.10\n",
      "  Using cached cycler-0.10.0-py2.py3-none-any.whl (6.5 kB)\n",
      "Requirement already satisfied: six>=1.5 in /usr/local/lib/python3.6/site-packages (from python-dateutil>=2.1->matplotlib) (1.12.0)\n",
      "Installing collected packages: pyparsing, kiwisolver, cycler, matplotlib\n",
      "Successfully installed cycler-0.10.0 kiwisolver-1.2.0 matplotlib-3.2.1 pyparsing-2.4.7"
     ]
    }
   ],
   "source": [
    "sc.install_pypi_package(\"matplotlib\")"
   ]
  },
  {
   "cell_type": "code",
   "execution_count": 5,
   "metadata": {},
   "outputs": [
    {
     "data": {
      "application/vnd.jupyter.widget-view+json": {
       "model_id": "dcb478de62224a178d3b04c019515f3d",
       "version_major": 2,
       "version_minor": 0
      },
      "text/plain": [
       "VBox()"
      ]
     },
     "metadata": {},
     "output_type": "display_data"
    },
    {
     "data": {
      "application/vnd.jupyter.widget-view+json": {
       "model_id": "",
       "version_major": 2,
       "version_minor": 0
      },
      "text/plain": [
       "FloatProgress(value=0.0, bar_style='info', description='Progress:', layout=Layout(height='25px', width='50%'),…"
      ]
     },
     "metadata": {},
     "output_type": "display_data"
    }
   ],
   "source": [
    "from pyspark.sql import SparkSession"
   ]
  },
  {
   "cell_type": "code",
   "execution_count": 6,
   "metadata": {},
   "outputs": [
    {
     "data": {
      "application/vnd.jupyter.widget-view+json": {
       "model_id": "5337ae93a82942cebb290ed662c183dd",
       "version_major": 2,
       "version_minor": 0
      },
      "text/plain": [
       "VBox()"
      ]
     },
     "metadata": {},
     "output_type": "display_data"
    },
    {
     "data": {
      "application/vnd.jupyter.widget-view+json": {
       "model_id": "",
       "version_major": 2,
       "version_minor": 0
      },
      "text/plain": [
       "FloatProgress(value=0.0, bar_style='info', description='Progress:', layout=Layout(height='25px', width='50%'),…"
      ]
     },
     "metadata": {},
     "output_type": "display_data"
    }
   ],
   "source": [
    "#import SparkSession\n",
    "spark=SparkSession.builder.appName('data_processing').getOrCreate()"
   ]
  },
  {
   "cell_type": "code",
   "execution_count": 7,
   "metadata": {},
   "outputs": [
    {
     "data": {
      "application/vnd.jupyter.widget-view+json": {
       "model_id": "3281ee6a52304affbce48999a9f3a685",
       "version_major": 2,
       "version_minor": 0
      },
      "text/plain": [
       "VBox()"
      ]
     },
     "metadata": {},
     "output_type": "display_data"
    },
    {
     "data": {
      "application/vnd.jupyter.widget-view+json": {
       "model_id": "",
       "version_major": 2,
       "version_minor": 0
      },
      "text/plain": [
       "FloatProgress(value=0.0, bar_style='info', description='Progress:', layout=Layout(height='25px', width='50%'),…"
      ]
     },
     "metadata": {},
     "output_type": "display_data"
    }
   ],
   "source": [
    "#create spark session object\n",
    "df=spark.read.csv('s3://covid19proyecto3/datasets/colombia/Casos_positivos_de_COVID-19_en_Colombia.csv',inferSchema=True,header=True)"
   ]
  },
  {
   "cell_type": "code",
   "execution_count": 62,
   "metadata": {},
   "outputs": [
    {
     "data": {
      "application/vnd.jupyter.widget-view+json": {
       "model_id": "d1eb69d1986844adb28545ec90982fb6",
       "version_major": 2,
       "version_minor": 0
      },
      "text/plain": [
       "VBox()"
      ]
     },
     "metadata": {},
     "output_type": "display_data"
    },
    {
     "data": {
      "application/vnd.jupyter.widget-view+json": {
       "model_id": "",
       "version_major": 2,
       "version_minor": 0
      },
      "text/plain": [
       "FloatProgress(value=0.0, bar_style='info', description='Progress:', layout=Layout(height='25px', width='50%'),…"
      ]
     },
     "metadata": {},
     "output_type": "display_data"
    },
    {
     "name": "stdout",
     "output_type": "stream",
     "text": [
      "['ID de caso', 'Fecha de notificación', 'Codigo DIVIPOLA', 'Ciudad de ubicación', 'Departamento o Distrito ', 'atención', 'Edad', 'Sexo', 'Tipo', 'Estado', 'País de procedencia', 'FIS', 'Fecha de muerte', 'Fecha diagnostico', 'Fecha recuperado', 'fecha reporte web', 'Fecha Recuperacion', 'Fecha Fallecimiento', 'month_diagnosis', 'month_recovery', 'month_death']"
     ]
    }
   ],
   "source": [
    "# Load csv Dataset \n",
    "df.columns"
   ]
  },
  {
   "cell_type": "code",
   "execution_count": 9,
   "metadata": {},
   "outputs": [
    {
     "data": {
      "application/vnd.jupyter.widget-view+json": {
       "model_id": "e5fa669f88a34f3bb8e57191ccbc5856",
       "version_major": 2,
       "version_minor": 0
      },
      "text/plain": [
       "VBox()"
      ]
     },
     "metadata": {},
     "output_type": "display_data"
    },
    {
     "data": {
      "application/vnd.jupyter.widget-view+json": {
       "model_id": "",
       "version_major": 2,
       "version_minor": 0
      },
      "text/plain": [
       "FloatProgress(value=0.0, bar_style='info', description='Progress:', layout=Layout(height='25px', width='50%'),…"
      ]
     },
     "metadata": {},
     "output_type": "display_data"
    },
    {
     "name": "stdout",
     "output_type": "stream",
     "text": [
      "+------------+-----+\n",
      "|      Estado|count|\n",
      "+------------+-----+\n",
      "|        null|   15|\n",
      "|   Fallecido|  545|\n",
      "|    Moderado|  806|\n",
      "|Asintomático| 1717|\n",
      "|        Leve|10998|\n",
      "|       Grave|  135|\n",
      "+------------+-----+"
     ]
    }
   ],
   "source": [
    "#Estado del paciente\n",
    "df.groupBy('Estado').count().show(10)"
   ]
  },
  {
   "cell_type": "code",
   "execution_count": 10,
   "metadata": {},
   "outputs": [
    {
     "data": {
      "application/vnd.jupyter.widget-view+json": {
       "model_id": "aca6470a66c840ac83905f604300cdd1",
       "version_major": 2,
       "version_minor": 0
      },
      "text/plain": [
       "VBox()"
      ]
     },
     "metadata": {},
     "output_type": "display_data"
    },
    {
     "data": {
      "application/vnd.jupyter.widget-view+json": {
       "model_id": "",
       "version_major": 2,
       "version_minor": 0
      },
      "text/plain": [
       "FloatProgress(value=0.0, bar_style='info', description='Progress:', layout=Layout(height='25px', width='50%'),…"
      ]
     },
     "metadata": {},
     "output_type": "display_data"
    },
    {
     "name": "stdout",
     "output_type": "stream",
     "text": [
      "+----+----+--------------------+\n",
      "|Edad|Sexo| Ciudad de ubicación|\n",
      "+----+----+--------------------+\n",
      "|  65|   M|         Bogotá D.C.|\n",
      "|  53|   F|         Bogotá D.C.|\n",
      "|  88|   M|         Santa Marta|\n",
      "|  70|   F|                Cali|\n",
      "|  58|   M| Cartagena de Indias|\n",
      "|  59|   F|         Bogotá D.C.|\n",
      "|  76|   M|         Bogotá D.C.|\n",
      "|  61|   M|         Bogotá D.C.|\n",
      "|  40|   M|                Cali|\n",
      "|  83|   F|               Neiva|\n",
      "|  62|   M|             Ipiales|\n",
      "|  61|   M|             Pereira|\n",
      "|  73|   M|         Bogotá D.C.|\n",
      "|  80|   F|                Cali|\n",
      "|  84|   M|         Bogotá D.C.|\n",
      "|  72|   M|         Bogotá D.C.|\n",
      "|  71|   M|         Bogotá D.C.|\n",
      "|  25|   M|        Barranquilla|\n",
      "|  50|   M|             Soledad|\n",
      "|  51|   M|                Cali|\n",
      "|  49|   M|         Bogotá D.C.|\n",
      "|  48|   F|         Bogotá D.C.|\n",
      "|  57|   F|         Bogotá D.C.|\n",
      "|  67|   F|         Villapinzón|\n",
      "|  36|   M|                Cali|\n",
      "|  33|   F| Cartagena de Indias|\n",
      "|  80|   M|       San Francisco|\n",
      "|  65|   M|         Villapinzón|\n",
      "|  64|   F|               Neiva|\n",
      "|  44|   F| Cartagena de Indias|\n",
      "|  68|   M|                Cali|\n",
      "|  75|   F|         Bogotá D.C.|\n",
      "|  72|   F|         Bogotá D.C.|\n",
      "|  50|   M|         Bogotá D.C.|\n",
      "|  66|   M|                Cali|\n",
      "|  55|   F|             Palmira|\n",
      "|  77|   M|        Barranquilla|\n",
      "|  81|   F|           Zipaquirá|\n",
      "|  84|   M|               Tunja|\n",
      "|  66|   F|         Bogotá D.C.|\n",
      "|  65|   F|         Bogotá D.C.|\n",
      "|  49|   M|         Bogotá D.C.|\n",
      "|  19|   F|Santander de Quil...|\n",
      "|  70|   M|          Valledupar|\n",
      "|  73|   M|         Bogotá D.C.|\n",
      "|  72|   M|         Bogotá D.C.|\n",
      "|  50|   M|         Bogotá D.C.|\n",
      "|  71|   F|         Bogotá D.C.|\n",
      "|  70|   M|         Bogotá D.C.|\n",
      "|  74|   F|         Bogotá D.C.|\n",
      "|  79|   F|         Bogotá D.C.|\n",
      "|  39|   F|         Bogotá D.C.|\n",
      "|  60|   F|         Bogotá D.C.|\n",
      "|  33|   M|         Bogotá D.C.|\n",
      "|  33|   M|         Bogotá D.C.|\n",
      "|  59|   M|         Bogotá D.C.|\n",
      "|  67|   F|         Bogotá D.C.|\n",
      "|  50|   M|         Bogotá D.C.|\n",
      "|  57|   M|                Cali|\n",
      "|  85|   F|                Cali|\n",
      "|  72|   M|               Tuluá|\n",
      "|  94|   F|       Villavicencio|\n",
      "|  74|   F|              Cúcuta|\n",
      "|  71|   F|         Bogotá D.C.|\n",
      "|  36|   M|         Bogotá D.C.|\n",
      "|  82|   M|         Bogotá D.C.|\n",
      "|  26|   M|         Bogotá D.C.|\n",
      "|  81|   M|                Cali|\n",
      "|  62|   M|                Cali|\n",
      "|  64|   M|            Montería|\n",
      "|  93|   F|         Bogotá D.C.|\n",
      "|  57|   M|         Bogotá D.C.|\n",
      "|  92|   M|         Bogotá D.C.|\n",
      "|  85|   M|         Bogotá D.C.|\n",
      "|  63|   M|         Bogotá D.C.|\n",
      "|  72|   M|         Bogotá D.C.|\n",
      "|  63|   F|         Bogotá D.C.|\n",
      "|  90|   M|         Bogotá D.C.|\n",
      "|  43|   M|             Soledad|\n",
      "|  52|   M|               Tenjo|\n",
      "|  57|   M|         Bogotá D.C.|\n",
      "|  62|   M|         Bogotá D.C.|\n",
      "|  38|   M|         Bogotá D.C.|\n",
      "|  71|   M|         Bogotá D.C.|\n",
      "|  97|   F|         Bogotá D.C.|\n",
      "|  49|   M|     Barrancabermeja|\n",
      "|  65|   M|       Floridablanca|\n",
      "|  87|   F| Cartagena de Indias|\n",
      "|  88|   F|            El Dovio|\n",
      "|  59|   M|                Cali|\n",
      "|  91|   F|            Medellín|\n",
      "|  76|   M|         Bogotá D.C.|\n",
      "|  86|   M|         Bogotá D.C.|\n",
      "|  66|   F|         Bogotá D.C.|\n",
      "|   3|   F|             Popayán|\n",
      "|  76|   F| Cartagena de Indias|\n",
      "|  68|   M| Cartagena de Indias|\n",
      "|  68|   F|                Cali|\n",
      "|  73|   F|         Bogotá D.C.|\n",
      "|  79|   F|         Bogotá D.C.|\n",
      "|  61|   M|         Bogotá D.C.|\n",
      "|  74|   M|         Bogotá D.C.|\n",
      "|  68|   F|                Cali|\n",
      "|  74|   F|      Ciénaga de Oro|\n",
      "|  69|   M|               Pasto|\n",
      "|  67|   F|             Pereira|\n",
      "|  59|   F|                Cali|\n",
      "|  68|   M|                Cali|\n",
      "|  65|   F|                Cali|\n",
      "|  96|   F|         Santa Marta|\n",
      "|  91|   F|           La Dorada|\n",
      "|  77|   M|             Pereira|\n",
      "|  83|   M|         Bogotá D.C.|\n",
      "|  72|   M|         Bogotá D.C.|\n",
      "|  82|   M|         Bogotá D.C.|\n",
      "|  67|   F|         Bogotá D.C.|\n",
      "|  64|   M|         Bogotá D.C.|\n",
      "|  37|   F|         Bogotá D.C.|\n",
      "|  48|   M|         Bogotá D.C.|\n",
      "|  74|   F|         Bogotá D.C.|\n",
      "|  57|   M|                Cali|\n",
      "|  66|   M|                Cali|\n",
      "|  65|   M|         Santa Marta|\n",
      "|  79|   F|          Montenegro|\n",
      "|  58|   M|             Ginebra|\n",
      "|  73|   M|               Pasto|\n",
      "|  75|   F|         Santa Marta|\n",
      "|  47|   M|         Santa Marta|\n",
      "|  70|   M| Cartagena de Indias|\n",
      "|  83|   F|         Bogotá D.C.|\n",
      "|  65|   M|         Bogotá D.C.|\n",
      "|  83|   M|         Bogotá D.C.|\n",
      "|  58|   M| Cartagena de Indias|\n",
      "|  74|   F| Cartagena de Indias|\n",
      "|  66|   M| Cartagena de Indias|\n",
      "|  71|   M|             Turbaco|\n",
      "|  75|   M|              Cúcuta|\n",
      "|  75|   F|              Cúcuta|\n",
      "|  98|   M|               Ocaña|\n",
      "|  60|   M|                Cali|\n",
      "|  80|   M|                Cali|\n",
      "|  66|   M|                Cali|\n",
      "|  81|   M|                Cali|\n",
      "|  44|   F| Cartagena de Indias|\n",
      "|  63|   F|         Bogotá D.C.|\n",
      "|  73|   M|         Bogotá D.C.|\n",
      "|  60|   F|               Tenjo|\n",
      "|  76|   M|                Cali|\n",
      "|  72|   M|             Ipiales|\n",
      "|  57|   M|             Espinal|\n",
      "|  73|   M|         Santa Marta|\n",
      "|  40|   F|         Santa Marta|\n",
      "|  62|   M|       Villavicencio|\n",
      "|  70|   M|             Pereira|\n",
      "|  65|   F|                Cali|\n",
      "|  64|   M|                Cali|\n",
      "|  72|   M|              Soacha|\n",
      "|  78|   M|                Cali|\n",
      "|  69|   F|             Palmira|\n",
      "|  55|   M|                Cali|\n",
      "|  68|   M|         Santa Marta|\n",
      "|  73|   F|         Santa Marta|\n",
      "|  72|   F|         Santa Marta|\n",
      "|  55|   M| Cartagena de Indias|\n",
      "|  89|   F|                Cali|\n",
      "|  74|   F|                Cali|\n",
      "|  66|   M|                Cali|\n",
      "|  89|   F|         Bogotá D.C.|\n",
      "|  50|   F|              Soacha|\n",
      "|  90|   F|         Bogotá D.C.|\n",
      "|  62|   M|         Bogotá D.C.|\n",
      "|  59|   M|                Cali|\n",
      "|  33|   M|                Cali|\n",
      "|  49|   M|                Cali|\n",
      "|  60|   M|                Cali|\n",
      "|  54|   M|           La Dorada|\n",
      "|  71|   M|              Suesca|\n",
      "|  60|   M|               Neiva|\n",
      "|  79|   M|               Neiva|\n",
      "|  77|   M|       Villavicencio|\n",
      "|  67|   M|       Villavicencio|\n",
      "|  57|   M|              Cúcuta|\n",
      "|  77|   M|             Armenia|\n",
      "|  66|   F|              Ibagué|\n",
      "|  68|   F|             Miranda|\n",
      "|  65|   F|                Cali|\n",
      "|  90|   M|             Florida|\n",
      "|  76|   M|       Zona Bananera|\n",
      "|  20|   M|        Barranquilla|\n",
      "|  66|   M|         Bogotá D.C.|\n",
      "|  65|   M|         Bogotá D.C.|\n",
      "|  80|   F|         Bogotá D.C.|\n",
      "|  81|   M| Cartagena de Indias|\n",
      "|  70|   F| Cartagena de Indias|\n",
      "|  66|   F|                Cali|\n",
      "|  51|   M|         Bogotá D.C.|\n",
      "|  70|   F|         Bogotá D.C.|\n",
      "|  86|   F|         Bogotá D.C.|\n",
      "|  60|   M| Cartagena de Indias|\n",
      "|  94|   M| Cartagena de Indias|\n",
      "|  64|   M|                Cali|\n",
      "|  75|   F|             Palmira|\n",
      "|  97|   F|         Bogotá D.C.|\n",
      "|  89|   F|         Bogotá D.C.|\n",
      "|  62|   F|         Bogotá D.C.|\n",
      "|  79|   F|         Bogotá D.C.|\n",
      "|  73|   M|         Bogotá D.C.|\n",
      "|  74|   F|         Bogotá D.C.|\n",
      "|  77|   M|         Bogotá D.C.|\n",
      "|  32|   M|              Soacha|\n",
      "|  39|   F|          San Martín|\n",
      "|  61|   M|        Buenaventura|\n",
      "|  70|   M|San Andrés de Tumaco|\n",
      "|  47|   F|                Cali|\n",
      "|  66|   M|             Jamundí|\n",
      "|  73|   M|          El Cerrito|\n",
      "|  54|   M| Cartagena de Indias|\n",
      "|  67|   M|            Medellín|\n",
      "|  63|   M|         Bogotá D.C.|\n",
      "|  66|   M|         Santa Marta|\n",
      "|  60|   M|             Pereira|\n",
      "|  58|   F|             Pereira|\n",
      "|  87|   F|             Granada|\n",
      "|  46|   M|             Palmira|\n",
      "|  78|   M|           Túquerres|\n",
      "|  85|   M|                Cali|\n",
      "|  90|   M|            El Banco|\n",
      "|  46|   F|    Barranco de Loba|\n",
      "|  67|   M|              Soacha|\n",
      "|  71|   F|        Dosquebradas|\n",
      "|  59|   M|         Bogotá D.C.|\n",
      "|  79|   F|         Bogotá D.C.|\n",
      "|  46|   F|            Riohacha|\n",
      "|  78|   F|              Cúcuta|\n",
      "|  73|   M|                Cali|\n",
      "|  79|   M|           Florencia|\n",
      "|  76|   F|              Timaná|\n",
      "|  69|   M|               Isnos|\n",
      "|  79|   M|                Cali|\n",
      "|  64|   M|        Buenaventura|\n",
      "|  74|   M|            Medellín|\n",
      "|  88|   F|               Bello|\n",
      "|  54|   M|           Zipaquirá|\n",
      "|  64|   M|         Santa Marta|\n",
      "|  73|   M|                Cali|\n",
      "|  82|   F|                Cali|\n",
      "|  46|   M|          Valledupar|\n",
      "|  29|   M|             Ipiales|\n",
      "|  62|   M|               Tuluá|\n",
      "|  88|   M|         Bogotá D.C.|\n",
      "|  68|   M|         Bogotá D.C.|\n",
      "|   0|   M|        Cundinamarca|\n",
      "|  95|   F|                Cali|\n",
      "|  67|   F|        Barranquilla|\n",
      "|  75|   M|             Calamar|\n",
      "|  86|   M|        Barranquilla|\n",
      "|  74|   F| Cartagena de Indias|\n",
      "|  42|   M| Cartagena de Indias|\n",
      "|  46|   F|               Chocó|\n",
      "|  82|   F|         Bogotá D.C.|\n",
      "|  60|   M|         Bucaramanga|\n",
      "|  87|   M|              Lorica|\n",
      "|  89|   M|         Santa Marta|\n",
      "|  71|   F|        Barranquilla|\n",
      "|  58|   M| Cartagena de Indias|\n",
      "|  57|   M|                Cali|\n",
      "|  41|   M|                Cali|\n",
      "|  64|   F|                Cali|\n",
      "|  45|   F|         Bogotá D.C.|\n",
      "|  69|   F|         Bogotá D.C.|\n",
      "|  46|   M|         Bogotá D.C.|\n",
      "|  87|   M|         Santa Marta|\n",
      "|  85|   F|         Santa Marta|\n",
      "|  75|   F|         Santa Marta|\n",
      "|  24|   F|       Villavicencio|\n",
      "|  44|   F|              Melgar|\n",
      "|  56|   M|             Leticia|\n",
      "|  58|   M|         Bogotá D.C.|\n",
      "|  64|   M|         Bogotá D.C.|\n",
      "|  83|   M| Cartagena de Indias|\n",
      "|  29|   M|                Cali|\n",
      "|  63|   M|San Andrés de Tumaco|\n",
      "|  69|   M|          Valledupar|\n",
      "|  85|   F|             Malambo|\n",
      "|  75|   M|         Bogotá D.C.|\n",
      "|  69|   M|         Bogotá D.C.|\n",
      "|  91|   F|         Bogotá D.C.|\n",
      "|  61|   M|         Bogotá D.C.|\n",
      "|  79|   M|          San Martín|\n",
      "|  41|   M|         Santa Marta|\n",
      "|  44|   M|                Cali|\n",
      "|  91|   F|         Bogotá D.C.|\n",
      "|  66|   M|          Villa rica|\n",
      "|  63|   M| Cartagena de Indias|\n",
      "|  83|   F|          Río de Oro|\n",
      "|  76|   F|         Puebloviejo|\n",
      "|  79|   M|             Leticia|\n",
      "|  58|   M|             Leticia|\n",
      "|  71|   M|          Río de Oro|\n",
      "|  85|   M|          Valledupar|\n",
      "|  79|   F|           Aguachica|\n",
      "|  78|   M|         Bogotá D.C.|\n",
      "|  74|   M|         Bogotá D.C.|\n",
      "|  61|   M|         Bogotá D.C.|\n",
      "|  29|   M| Cartagena de Indias|\n",
      "|  48|   F|             Soledad|\n",
      "|  73|   F|             Soledad|\n",
      "|  86|   M|         Bogotá D.C.|\n",
      "|  95|   F|         Bogotá D.C.|\n",
      "|  87|   F|                Chía|\n",
      "|  74|   M|              Alcalá|\n",
      "|  74|   M|         Bogotá D.C.|\n",
      "|  70|   M|         Bogotá D.C.|\n",
      "|  83|   F|        Barranquilla|\n",
      "|  66|   F|                Cali|\n",
      "|  71|   M|                Cali|\n",
      "|  81|   M|                Cali|\n",
      "|  82|   M|                Cali|\n",
      "|  81|   M|         Puebloviejo|\n",
      "|  76|   M|             Soledad|\n",
      "|  46|   M|             Malambo|\n",
      "|  89|   F|                Cali|\n",
      "|  37|   M|         Bogotá D.C.|\n",
      "|  26|   F|         Bogotá D.C.|\n",
      "|  76|   F|         Bogotá D.C.|\n",
      "|  56|   M|             Leticia|\n",
      "|  58|   F|             Leticia|\n",
      "|  77|   M|             Leticia|\n",
      "|  68|   M|             Leticia|\n",
      "|  67|   M|       Villavicencio|\n",
      "|  73|   M| Cartagena de Indias|\n",
      "|  62|   F| Cartagena de Indias|\n",
      "|  89|   M|               Dagua|\n",
      "|  73|   M|        Barranquilla|\n",
      "|  75|   M|             Leticia|\n",
      "|  85|   F|         Bogotá D.C.|\n",
      "|  64|   F|         Bogotá D.C.|\n",
      "|  64|   F|         Bogotá D.C.|\n",
      "|  62|   M|         Bogotá D.C.|\n",
      "|  54|   M|         Bogotá D.C.|\n",
      "|  65|   M|         Bogotá D.C.|\n",
      "|  81|   F|  San Juan del Cesar|\n",
      "|  61|   F|               Neiva|\n",
      "|  64|   F|               Tuluá|\n",
      "|  82|   F|        Buenaventura|\n",
      "|  70|   F|                Cali|\n",
      "|  90|   F| Cartagena de Indias|\n",
      "|  59|   M|             Malambo|\n",
      "|  48|   M|             Malambo|\n",
      "|  60|   M|             Soledad|\n",
      "|  79|   M|                Cali|\n",
      "|  72|   M|             Ciénaga|\n",
      "|  58|   F|        Barranquilla|\n",
      "|  67|   M|             Soledad|\n",
      "|  72|   M|             Ciénaga|\n",
      "|  64|   F|     Puerto Colombia|\n",
      "|  24|   M|         Bogotá D.C.|\n",
      "|  71|   M|         Bogotá D.C.|\n",
      "|  46|   M|         Bogotá D.C.|\n",
      "|  69|   F|         Bogotá D.C.|\n",
      "|  70|   M|             Garagoa|\n",
      "|  81|   F|                Cali|\n",
      "|   0|   F|              Samacá|\n",
      "|  47|   M|               Pasto|\n",
      "|  65|   F|San Andrés de Tumaco|\n",
      "|  88|   M| Cartagena de Indias|\n",
      "|  75|   M|             Malambo|\n",
      "|  76|   M|          Roldanillo|\n",
      "|  71|   M|             Leticia|\n",
      "|  62|   F|         Bogotá D.C.|\n",
      "|  59|   M|         Bogotá D.C.|\n",
      "|  60|   F|         Bogotá D.C.|\n",
      "|  95|   F|         Bogotá D.C.|\n",
      "|  72|   M|         Bogotá D.C.|\n",
      "|  63|   M|         Bogotá D.C.|\n",
      "|  59|   M|         Bogotá D.C.|\n",
      "|  68|   M| Cartagena de Indias|\n",
      "|  51|   M|             Leticia|\n",
      "|  79|   F|             Leticia|\n",
      "|  58|   M|             Leticia|\n",
      "|  57|   M|             Leticia|\n",
      "|  78|   F|             Leticia|\n",
      "|  64|   F|             Leticia|\n",
      "|  71|   M|               Ocaña|\n",
      "|  79|   M|              Cúcuta|\n",
      "|  80|   F|              Cúcuta|\n",
      "|  72|   F|           Manizales|\n",
      "|  63|   M|        Barranquilla|\n",
      "|  76|   M|             Pereira|\n",
      "|  92|   M| Cartagena de Indias|\n",
      "|  77|   M|         Bogotá D.C.|\n",
      "|  75|   F|San Andrés de Tumaco|\n",
      "|  91|   M|             Leticia|\n",
      "|  81|   M|             Leticia|\n",
      "|  73|   M| Cartagena de Indias|\n",
      "|  77|   F| Cartagena de Indias|\n",
      "|  56|   M|          Valledupar|\n",
      "|  80|   F|          Valledupar|\n",
      "|  84|   F|        Barranquilla|\n",
      "|  83|   F|        Barranquilla|\n",
      "|  33|   M|        Barranquilla|\n",
      "|  54|   F|         Bogotá D.C.|\n",
      "|  56|   M|         Bogotá D.C.|\n",
      "|  41|   F| Cartagena de Indias|\n",
      "|  63|   M|               Chocó|\n",
      "|  83|   M| Cartagena de Indias|\n",
      "|  71|   F|       Zona Bananera|\n",
      "|  93|   F|         Bogotá D.C.|\n",
      "|  79|   M| Cartagena de Indias|\n",
      "|  81|   F| Cartagena de Indias|\n",
      "|  43|   M|San Andrés de Tumaco|\n",
      "|  63|   M|San Andrés de Tumaco|\n",
      "|  69|   M|               Pasto|\n",
      "|  74|   M|San Andrés de Tumaco|\n",
      "|  47|   M|                Cali|\n",
      "|  56|   F| Cartagena de Indias|\n",
      "|  79|   F|         Puebloviejo|\n",
      "|  90|   M|         Santo Tomás|\n",
      "|  72|   M|        Barranquilla|\n",
      "|  69|   F|        Barranquilla|\n",
      "|  49|   F|             Soledad|\n",
      "|  44|   F|        Barranquilla|\n",
      "|  81|   M|        Barranquilla|\n",
      "|  47|   M|        Barranquilla|\n",
      "|  86|   F|        Barranquilla|\n",
      "|  83|   M|        Barranquilla|\n",
      "|  81|   M|        Barranquilla|\n",
      "|  65|   F|             Leticia|\n",
      "|  44|   M|         Bogotá D.C.|\n",
      "|  64|   M|         Bogotá D.C.|\n",
      "|  78|   M|         Bogotá D.C.|\n",
      "|  67|   M|         Bogotá D.C.|\n",
      "|  58|   F|         Bogotá D.C.|\n",
      "|  76|   M|         Bogotá D.C.|\n",
      "|  73|   M|         Bogotá D.C.|\n",
      "|  58|   F|         Bogotá D.C.|\n",
      "|  65|   F|         Bogotá D.C.|\n",
      "|  81|   F|            Norcasia|\n",
      "|  66|   M|               Chocó|\n",
      "|  67|   M|                Cali|\n",
      "|  65|   M|                Cali|\n",
      "|  71|   M| Cartagena de Indias|\n",
      "|  51|   M|         Bogotá D.C.|\n",
      "|  53|   F|         Bogotá D.C.|\n",
      "|  67|   M|         Bogotá D.C.|\n",
      "|  91|   M|        Buenaventura|\n",
      "|  55|   M|             Leticia|\n",
      "|  79|   M|             Leticia|\n",
      "|  66|   M|                Cali|\n",
      "|  88|   F|             Soledad|\n",
      "|  75|   M|         Bogotá D.C.|\n",
      "|  82|   M|         Bogotá D.C.|\n",
      "|   0|   M|             Soledad|\n",
      "|  84|   M| Cartagena de Indias|\n",
      "|  50|   F| Cartagena de Indias|\n",
      "|  83|   M| Cartagena de Indias|\n",
      "|  41|   M|              Maicao|\n",
      "|  50|   F|        Barranquilla|\n",
      "|  87|   F|             Soledad|\n",
      "|  67|   M|        Barranquilla|\n",
      "|  72|   F|         Santa Lucía|\n",
      "|  83|   M|                Cali|\n",
      "|  66|   M| Cartagena de Indias|\n",
      "|  52|   F| Cartagena de Indias|\n",
      "|  72|   F| Cartagena de Indias|\n",
      "|  64|   M| Cartagena de Indias|\n",
      "|  56|   M|         Bogotá D.C.|\n",
      "|  41|   M|         Bogotá D.C.|\n",
      "|  31|   F|         Bogotá D.C.|\n",
      "|  93|   F|         Bogotá D.C.|\n",
      "|  78|   F|         Bogotá D.C.|\n",
      "|  80|   F|         Bogotá D.C.|\n",
      "|  70|   F|              Cúcuta|\n",
      "|  85|   M| Cartagena de Indias|\n",
      "|  75|   F|                Cali|\n",
      "|  77|   F|                Cali|\n",
      "|  79|   F|        Barranquilla|\n",
      "|  75|   F|         Bogotá D.C.|\n",
      "|  61|   F|         Bogotá D.C.|\n",
      "|  53|   M|         Bogotá D.C.|\n",
      "|  75|   M|         Bogotá D.C.|\n",
      "|  89|   F|         Bogotá D.C.|\n",
      "|  63|   M|         Bogotá D.C.|\n",
      "|  64|   M|             Leticia|\n",
      "|  79|   M|             Leticia|\n",
      "|  39|   F|              Melgar|\n",
      "|  25|   M|              Ibagué|\n",
      "|  65|   F|             Leticia|\n",
      "|  27|   M|              Ibagué|\n",
      "|  70|   M|             Leticia|\n",
      "|  82|   M|       Puerto Nariño|\n",
      "|  45|   M|             Leticia|\n",
      "|   3|   F|               Magüí|\n",
      "|  94|   M|               Isnos|\n",
      "|  84|   F|        Barranquilla|\n",
      "|  78|   M| Cartagena de Indias|\n",
      "|  73|   F| Cartagena de Indias|\n",
      "|  67|   M| Cartagena de Indias|\n",
      "|  83|   F| Cartagena de Indias|\n",
      "|  83|   F| Cartagena de Indias|\n",
      "+----+----+--------------------+\n",
      "only showing top 500 rows"
     ]
    }
   ],
   "source": [
    "#Informacion de los fallecidos\n",
    "df.filter(df['Estado']=='Fallecido').select('Edad','Sexo','Ciudad de ubicación').show(500)"
   ]
  },
  {
   "cell_type": "code",
   "execution_count": 11,
   "metadata": {},
   "outputs": [
    {
     "data": {
      "application/vnd.jupyter.widget-view+json": {
       "model_id": "ae0a50e40a654aea88a9c256c5be121e",
       "version_major": 2,
       "version_minor": 0
      },
      "text/plain": [
       "VBox()"
      ]
     },
     "metadata": {},
     "output_type": "display_data"
    },
    {
     "data": {
      "application/vnd.jupyter.widget-view+json": {
       "model_id": "",
       "version_major": 2,
       "version_minor": 0
      },
      "text/plain": [
       "FloatProgress(value=0.0, bar_style='info', description='Progress:', layout=Layout(height='25px', width='50%'),…"
      ]
     },
     "metadata": {},
     "output_type": "display_data"
    },
    {
     "name": "stdout",
     "output_type": "stream",
     "text": [
      "+--------------------+-----+\n",
      "| Ciudad de ubicación|count|\n",
      "+--------------------+-----+\n",
      "|         Bogotá D.C.|  163|\n",
      "|                Cali|   70|\n",
      "| Cartagena de Indias|   61|\n",
      "|             Leticia|   33|\n",
      "|        Barranquilla|   26|\n",
      "|         Santa Marta|   17|\n",
      "|             Soledad|   11|\n",
      "|San Andrés de Tumaco|   11|\n",
      "|              Cúcuta|    8|\n",
      "|        Buenaventura|    7|\n",
      "|       Villavicencio|    7|\n",
      "|             Pereira|    7|\n",
      "|          Valledupar|    6|\n",
      "|               Neiva|    5|\n",
      "|             Malambo|    5|\n",
      "|               Pasto|    4|\n",
      "|              Soacha|    4|\n",
      "|         Puebloviejo|    4|\n",
      "|             Palmira|    4|\n",
      "|              Ibagué|    3|\n",
      "|               Chocó|    3|\n",
      "|            Mosquera|    3|\n",
      "|            Medellín|    3|\n",
      "|               Tuluá|    3|\n",
      "|             Ipiales|    3|\n",
      "|              Melgar|    2|\n",
      "|          San Martín|    2|\n",
      "|               Tenjo|    2|\n",
      "|           Zipaquirá|    2|\n",
      "|           Manizales|    2|\n",
      "|           La Dorada|    2|\n",
      "|       Zona Bananera|    2|\n",
      "|               Isnos|    2|\n",
      "|             Ciénaga|    2|\n",
      "|          Río de Oro|    2|\n",
      "|               Ocaña|    2|\n",
      "|         Villapinzón|    2|\n",
      "|            Montería|    1|\n",
      "|            El Dovio|    1|\n",
      "|            Norcasia|    1|\n",
      "|       Puerto Nariño|    1|\n",
      "|            El Banco|    1|\n",
      "|    Barranco de Loba|    1|\n",
      "|  San Juan del Cesar|    1|\n",
      "|         Bucaramanga|    1|\n",
      "|           Aguachica|    1|\n",
      "|          El Cerrito|    1|\n",
      "|              Samacá|    1|\n",
      "|           Túquerres|    1|\n",
      "|     Barrancabermeja|    1|\n",
      "|     Puerto Colombia|    1|\n",
      "|               Bello|    1|\n",
      "|      Ciénaga de Oro|    1|\n",
      "|       San Francisco|    1|\n",
      "|              Suesca|    1|\n",
      "|          Villa rica|    1|\n",
      "|             Granada|    1|\n",
      "|               Magüí|    1|\n",
      "|             Jamundí|    1|\n",
      "|          Santa Rosa|    1|\n",
      "|           Florencia|    1|\n",
      "|             Popayán|    1|\n",
      "|               Dagua|    1|\n",
      "|               Tunja|    1|\n",
      "|            Riohacha|    1|\n",
      "|                Chía|    1|\n",
      "|              Alcalá|    1|\n",
      "|         Santa Lucía|    1|\n",
      "|             Turbaco|    1|\n",
      "|             Garagoa|    1|\n",
      "|             Ginebra|    1|\n",
      "|             Calamar|    1|\n",
      "|        Cundinamarca|    1|\n",
      "|             Florida|    1|\n",
      "|          Roldanillo|    1|\n",
      "|              Lorica|    1|\n",
      "|              Maicao|    1|\n",
      "|       Floridablanca|    1|\n",
      "|          Montenegro|    1|\n",
      "|Santander de Quil...|    1|\n",
      "|             Armenia|    1|\n",
      "|              Timaná|    1|\n",
      "|         Santo Tomás|    1|\n",
      "|             Espinal|    1|\n",
      "|        Dosquebradas|    1|\n",
      "|        Puerto López|    1|\n",
      "|             Miranda|    1|\n",
      "+--------------------+-----+"
     ]
    }
   ],
   "source": [
    "#Fallecidos por ciudad\n",
    "df.filter(df['Estado']=='Fallecido').groupBy('Ciudad de ubicación').count().orderBy('count',ascending=False).show(500)"
   ]
  },
  {
   "cell_type": "code",
   "execution_count": 12,
   "metadata": {},
   "outputs": [
    {
     "data": {
      "application/vnd.jupyter.widget-view+json": {
       "model_id": "fdcb27a626cb4e45acf0b8d57363eccd",
       "version_major": 2,
       "version_minor": 0
      },
      "text/plain": [
       "VBox()"
      ]
     },
     "metadata": {},
     "output_type": "display_data"
    },
    {
     "data": {
      "application/vnd.jupyter.widget-view+json": {
       "model_id": "",
       "version_major": 2,
       "version_minor": 0
      },
      "text/plain": [
       "FloatProgress(value=0.0, bar_style='info', description='Progress:', layout=Layout(height='25px', width='50%'),…"
      ]
     },
     "metadata": {},
     "output_type": "display_data"
    },
    {
     "name": "stdout",
     "output_type": "stream",
     "text": [
      "root\n",
      " |-- ID de caso: integer (nullable = true)\n",
      " |-- Fecha de notificación: timestamp (nullable = true)\n",
      " |-- Codigo DIVIPOLA: integer (nullable = true)\n",
      " |-- Ciudad de ubicación: string (nullable = true)\n",
      " |-- Departamento o Distrito : string (nullable = true)\n",
      " |-- atención: string (nullable = true)\n",
      " |-- Edad: integer (nullable = true)\n",
      " |-- Sexo: string (nullable = true)\n",
      " |-- Tipo: string (nullable = true)\n",
      " |-- Estado: string (nullable = true)\n",
      " |-- País de procedencia: string (nullable = true)\n",
      " |-- FIS: string (nullable = true)\n",
      " |-- Fecha de muerte: string (nullable = true)\n",
      " |-- Fecha diagnostico: timestamp (nullable = true)\n",
      " |-- Fecha recuperado: string (nullable = true)\n",
      " |-- fecha reporte web: timestamp (nullable = true)"
     ]
    }
   ],
   "source": [
    "#printSchema\n",
    "df.printSchema()"
   ]
  },
  {
   "cell_type": "code",
   "execution_count": 13,
   "metadata": {},
   "outputs": [
    {
     "data": {
      "application/vnd.jupyter.widget-view+json": {
       "model_id": "ecc25e1b2ac44785b09da162a0cb73ff",
       "version_major": 2,
       "version_minor": 0
      },
      "text/plain": [
       "VBox()"
      ]
     },
     "metadata": {},
     "output_type": "display_data"
    },
    {
     "data": {
      "application/vnd.jupyter.widget-view+json": {
       "model_id": "",
       "version_major": 2,
       "version_minor": 0
      },
      "text/plain": [
       "FloatProgress(value=0.0, bar_style='info', description='Progress:', layout=Layout(height='25px', width='50%'),…"
      ]
     },
     "metadata": {},
     "output_type": "display_data"
    },
    {
     "name": "stdout",
     "output_type": "stream",
     "text": [
      "+--------------------+-----+\n",
      "| Ciudad de ubicación|count|\n",
      "+--------------------+-----+\n",
      "|         Bogotá D.C.| 1352|\n",
      "|                Cali|  405|\n",
      "|            Medellín|  190|\n",
      "| Cartagena de Indias|  153|\n",
      "|             Pereira|  101|\n",
      "|         Santa Marta|   72|\n",
      "|        Barranquilla|   68|\n",
      "|              Soacha|   50|\n",
      "|              Cúcuta|   49|\n",
      "|               Neiva|   48|\n",
      "|        Dosquebradas|   44|\n",
      "|              Ibagué|   43|\n",
      "|          Valledupar|   42|\n",
      "|             Armenia|   41|\n",
      "|       Villavicencio|   40|\n",
      "|               Bello|   36|\n",
      "|             Ipiales|   32|\n",
      "|             Palmira|   29|\n",
      "|             Ciénaga|   28|\n",
      "|             Leticia|   28|\n",
      "|            Envigado|   21|\n",
      "|           La Dorada|   19|\n",
      "|             Soledad|   19|\n",
      "|                Chía|   19|\n",
      "|             Popayán|   16|\n",
      "|               Yumbo|   15|\n",
      "|           Manizales|   15|\n",
      "|              Cajicá|   15|\n",
      "|               Pasto|   13|\n",
      "|         Bucaramanga|   13|\n",
      "|               Tuluá|   13|\n",
      "|              Itagüí|   12|\n",
      "|            Rionegro|   11|\n",
      "|             Turbaco|   11|\n",
      "|               Pacho|   10|\n",
      "|               Togüí|   10|\n",
      "|        Buenaventura|   10|\n",
      "|                Cota|    9|\n",
      "|               Yopal|    9|\n",
      "|            Montería|    9|\n",
      "|             Cartago|    9|\n",
      "|            Sabaneta|    9|\n",
      "|           Zipaquirá|    9|\n",
      "|             Jamundí|    8|\n",
      "|            Mosquera|    8|\n",
      "|               Chocó|    8|\n",
      "|San Andrés de Tumaco|    8|\n",
      "|       Floridablanca|    7|\n",
      "|             Acacías|    7|\n",
      "|             Calarcá|    7|\n",
      "|               Funza|    6|\n",
      "|         La Estrella|    6|\n",
      "|             Miranda|    5|\n",
      "|             Florida|    5|\n",
      "|              Madrid|    5|\n",
      "|     Barrancabermeja|    5|\n",
      "|            Riohacha|    5|\n",
      "|          El Cerrito|    5|\n",
      "|          Copacabana|    5|\n",
      "|          Fusagasugá|    5|\n",
      "| Guadalajara de Buga|    5|\n",
      "|          San Andrés|    4|\n",
      "|               Tunja|    4|\n",
      "|              Caldas|    4|\n",
      "|               Vijes|    4|\n",
      "|              Arjona|    4|\n",
      "|        Sabanagrande|    4|\n",
      "|     Agustín Codazzi|    4|\n",
      "|            Apartadó|    4|\n",
      "|             Villeta|    4|\n",
      "|             Palermo|    4|\n",
      "|           Chinchiná|    4|\n",
      "|              Suesca|    3|\n",
      "|          Montenegro|    3|\n",
      "|   Villa del Rosario|    3|\n",
      "|                Sopó|    3|\n",
      "|          Santa Rosa|    3|\n",
      "|          Subachoque|    3|\n",
      "|            Trujillo|    3|\n",
      "| Santa Rosa de Cabal|    3|\n",
      "|          Villamaría|    3|\n",
      "|           Tocancipá|    3|\n",
      "|              Guarne|    3|\n",
      "|            Circasia|    3|\n",
      "|            El Dovio|    3|\n",
      "|            Restrepo|    3|\n",
      "|              Cumbal|    3|\n",
      "|           San Diego|    2|\n",
      "|Villa de San Dieg...|    2|\n",
      "|         Villapinzón|    2|\n",
      "|             Santana|    2|\n",
      "|              Paicol|    2|\n",
      "|           San Pedro|    2|\n",
      "|          Montebello|    2|\n",
      "|          La Tebaida|    2|\n",
      "|             Viterbo|    2|\n",
      "|             Espinal|    2|\n",
      "|             Malambo|    2|\n",
      "|           Cimitarra|    2|\n",
      "|         San Agustín|    2|\n",
      "|          Los Patios|    2|\n",
      "|     Puerto Colombia|    2|\n",
      "|          Facatativá|    2|\n",
      "|             Baranoa|    2|\n",
      "|             Gigante|    2|\n",
      "|               Tenjo|    2|\n",
      "| San Juan de Rioseco|    2|\n",
      "|  Santa Rosa de Osos|    2|\n",
      "|         La Virginia|    2|\n",
      "|            Anapoima|    2|\n",
      "|            Sogamoso|    2|\n",
      "|               Tenza|    2|\n",
      "|       Puerto Tejada|    2|\n",
      "|             La Ceja|    2|\n",
      "|            La Unión|    2|\n",
      "|             Garagoa|    1|\n",
      "|            Frontino|    1|\n",
      "|             Duitama|    1|\n",
      "|        El Santuario|    1|\n",
      "|          Candelaria|    1|\n",
      "|             Acevedo|    1|\n",
      "|              Curití|    1|\n",
      "|          Chiriguaná|    1|\n",
      "|             Guacarí|    1|\n",
      "|         Piedecuesta|    1|\n",
      "|            El Tambo|    1|\n",
      "|               Ulloa|    1|\n",
      "|              Galapa|    1|\n",
      "|             Cuaspúd|    1|\n",
      "|              Garzón|    1|\n",
      "|          Concepción|    1|\n",
      "|              Oicatá|    1|\n",
      "|               Ocaña|    1|\n",
      "|              Calima|    1|\n",
      "|           La Calera|    1|\n",
      "|                Tibú|    1|\n",
      "|        Chiquinquirá|    1|\n",
      "|            Ponedera|    1|\n",
      "|             Granada|    1|\n",
      "|               Cogua|    1|\n",
      "|                Aipe|    1|\n",
      "|    Puerto Santander|    1|\n",
      "|            Guachené|    1|\n",
      "|           Aguachica|    1|\n",
      "|             Cocorná|    1|\n",
      "|              Cubará|    1|\n",
      "|             Choachí|    1|\n",
      "|           Tierralta|    1|\n",
      "|              Cereté|    1|\n",
      "|              La Paz|    1|\n",
      "|           Cumbitara|    1|\n",
      "|           Polonuevo|    1|\n",
      "|            Pitalito|    1|\n",
      "| La Jagua de Ibirico|    1|\n",
      "|            Filandia|    1|\n",
      "|              Toledo|    1|\n",
      "|              Retiro|    1|\n",
      "|           Donmatías|    1|\n",
      "|             Guatapé|    1|\n",
      "|           Sincelejo|    1|\n",
      "|         Santo Tomás|    1|\n",
      "|             Sahagún|    1|\n",
      "|           Angostura|    1|\n",
      "|          La Florida|    1|\n",
      "|              Timbío|    1|\n",
      "|             Anserma|    1|\n",
      "|              Melgar|    1|\n",
      "|              Yotoco|    1|\n",
      "|              Sonsón|    1|\n",
      "|              Lorica|    1|\n",
      "|            Bosconia|    1|\n",
      "|           Contadero|    1|\n",
      "|              Timaná|    1|\n",
      "+--------------------+-----+"
     ]
    }
   ],
   "source": [
    "#Recuperados por ciudad\n",
    "df.filter(df['atención']=='Recuperado').groupBy('Ciudad de ubicación').count().orderBy('count',ascending=False).show(500)"
   ]
  },
  {
   "cell_type": "code",
   "execution_count": 14,
   "metadata": {},
   "outputs": [
    {
     "data": {
      "application/vnd.jupyter.widget-view+json": {
       "model_id": "d345c93efc23439ca43c7dc821ce8957",
       "version_major": 2,
       "version_minor": 0
      },
      "text/plain": [
       "VBox()"
      ]
     },
     "metadata": {},
     "output_type": "display_data"
    },
    {
     "data": {
      "application/vnd.jupyter.widget-view+json": {
       "model_id": "",
       "version_major": 2,
       "version_minor": 0
      },
      "text/plain": [
       "FloatProgress(value=0.0, bar_style='info', description='Progress:', layout=Layout(height='25px', width='50%'),…"
      ]
     },
     "metadata": {},
     "output_type": "display_data"
    }
   ],
   "source": [
    "df = df.withColumn(\"Fecha Recuperacion\",df['Fecha recuperado'].astype('Timestamp'))"
   ]
  },
  {
   "cell_type": "code",
   "execution_count": 15,
   "metadata": {},
   "outputs": [
    {
     "data": {
      "application/vnd.jupyter.widget-view+json": {
       "model_id": "76c0319e2c32470fac513627c556cbbf",
       "version_major": 2,
       "version_minor": 0
      },
      "text/plain": [
       "VBox()"
      ]
     },
     "metadata": {},
     "output_type": "display_data"
    },
    {
     "data": {
      "application/vnd.jupyter.widget-view+json": {
       "model_id": "",
       "version_major": 2,
       "version_minor": 0
      },
      "text/plain": [
       "FloatProgress(value=0.0, bar_style='info', description='Progress:', layout=Layout(height='25px', width='50%'),…"
      ]
     },
     "metadata": {},
     "output_type": "display_data"
    }
   ],
   "source": [
    "df = df.withColumn(\"Fecha Fallecimiento\",df['Fecha de muerte'].astype('Timestamp'))"
   ]
  },
  {
   "cell_type": "code",
   "execution_count": 16,
   "metadata": {},
   "outputs": [
    {
     "data": {
      "application/vnd.jupyter.widget-view+json": {
       "model_id": "bbc7d9e728d945ca890c477e2a0c7f4c",
       "version_major": 2,
       "version_minor": 0
      },
      "text/plain": [
       "VBox()"
      ]
     },
     "metadata": {},
     "output_type": "display_data"
    },
    {
     "data": {
      "application/vnd.jupyter.widget-view+json": {
       "model_id": "",
       "version_major": 2,
       "version_minor": 0
      },
      "text/plain": [
       "FloatProgress(value=0.0, bar_style='info', description='Progress:', layout=Layout(height='25px', width='50%'),…"
      ]
     },
     "metadata": {},
     "output_type": "display_data"
    },
    {
     "name": "stdout",
     "output_type": "stream",
     "text": [
      "+--------------------+\n",
      "|    Fecha Recuperado|\n",
      "+--------------------+\n",
      "|2020-03-13T00:00:...|\n",
      "|2020-03-19T00:00:...|\n",
      "|2020-03-15T00:00:...|\n",
      "|2020-03-26T00:00:...|\n",
      "|2020-03-23T00:00:...|\n",
      "|2020-03-26T00:00:...|\n",
      "|2020-03-17T00:00:...|\n",
      "|2020-03-21T00:00:...|\n",
      "|2020-03-23T00:00:...|\n",
      "|2020-03-21T00:00:...|\n",
      "+--------------------+\n",
      "only showing top 10 rows"
     ]
    }
   ],
   "source": [
    "df.select('Fecha Recuperado').show(10)"
   ]
  },
  {
   "cell_type": "code",
   "execution_count": 17,
   "metadata": {},
   "outputs": [
    {
     "data": {
      "application/vnd.jupyter.widget-view+json": {
       "model_id": "62b3529df0304741b7f0e40c20cd542a",
       "version_major": 2,
       "version_minor": 0
      },
      "text/plain": [
       "VBox()"
      ]
     },
     "metadata": {},
     "output_type": "display_data"
    },
    {
     "data": {
      "application/vnd.jupyter.widget-view+json": {
       "model_id": "",
       "version_major": 2,
       "version_minor": 0
      },
      "text/plain": [
       "FloatProgress(value=0.0, bar_style='info', description='Progress:', layout=Layout(height='25px', width='50%'),…"
      ]
     },
     "metadata": {},
     "output_type": "display_data"
    },
    {
     "name": "stdout",
     "output_type": "stream",
     "text": [
      "+--------------------+-------------------+-------------------+\n",
      "|                 FIS|  Fecha diagnostico| Fecha recuperacion|\n",
      "+--------------------+-------------------+-------------------+\n",
      "|2020-02-27T00:00:...|2020-03-06 00:00:00|2020-03-13 00:00:00|\n",
      "|2020-03-04T00:00:...|2020-03-09 00:00:00|2020-03-19 00:00:00|\n",
      "|2020-02-29T00:00:...|2020-03-09 00:00:00|2020-03-15 00:00:00|\n",
      "|2020-03-06T00:00:...|2020-03-11 00:00:00|2020-03-26 00:00:00|\n",
      "|2020-03-08T00:00:...|2020-03-11 00:00:00|2020-03-23 00:00:00|\n",
      "|2020-03-06T00:00:...|2020-03-11 00:00:00|2020-03-26 00:00:00|\n",
      "|2020-03-02T00:00:...|2020-03-11 00:00:00|2020-03-17 00:00:00|\n",
      "|2020-03-06T00:00:...|2020-03-11 00:00:00|2020-03-21 00:00:00|\n",
      "|2020-03-07T00:00:...|2020-03-11 00:00:00|2020-03-23 00:00:00|\n",
      "|2020-03-06T00:00:...|2020-03-12 00:00:00|2020-03-21 00:00:00|\n",
      "|2020-03-06T00:00:...|2020-03-12 00:00:00|2020-03-31 00:00:00|\n",
      "|2020-03-06T00:00:...|2020-03-12 00:00:00|2020-04-09 00:00:00|\n",
      "|2020-03-06T00:00:...|2020-03-12 00:00:00|2020-03-30 00:00:00|\n",
      "|2020-03-07T00:00:...|2020-03-13 00:00:00|2020-03-21 00:00:00|\n",
      "|2020-03-09T00:00:...|2020-03-13 00:00:00|2020-03-23 00:00:00|\n",
      "|2020-03-08T00:00:...|2020-03-13 00:00:00|2020-03-23 00:00:00|\n",
      "|2020-02-28T00:00:...|2020-03-14 00:00:00|2020-03-14 00:00:00|\n",
      "|2020-03-07T00:00:...|2020-03-14 00:00:00|2020-04-07 00:00:00|\n",
      "|2020-03-09T00:00:...|2020-03-14 00:00:00|2020-03-24 00:00:00|\n",
      "|2020-03-09T00:00:...|2020-03-14 00:00:00|2020-03-24 00:00:00|\n",
      "|2020-03-10T00:00:...|2020-03-14 00:00:00|2020-04-10 00:00:00|\n",
      "|2020-03-09T00:00:...|2020-03-14 00:00:00|2020-03-24 00:00:00|\n",
      "|2020-03-08T00:00:...|2020-03-14 00:00:00|2020-03-23 00:00:00|\n",
      "|2020-03-12T00:00:...|2020-03-14 00:00:00|2020-03-27 00:00:00|\n",
      "|        Asintomático|2020-03-15 00:00:00|2020-03-25 00:00:00|\n",
      "|        Asintomático|2020-03-15 00:00:00|2020-03-25 00:00:00|\n",
      "|2020-03-10T00:00:...|2020-03-14 00:00:00|2020-04-08 00:00:00|\n",
      "|2020-03-10T00:00:...|2020-03-12 00:00:00|2020-03-25 00:00:00|\n",
      "|2020-03-11T00:00:...|2020-03-15 00:00:00|2020-03-25 00:00:00|\n",
      "|2020-03-12T00:00:...|2020-03-13 00:00:00|2020-03-26 00:00:00|\n",
      "|2020-03-10T00:00:...|2020-03-15 00:00:00|2020-03-25 00:00:00|\n",
      "|2020-03-12T00:00:...|2020-03-15 00:00:00|2020-04-21 00:00:00|\n",
      "|2020-03-11T00:00:...|2020-03-15 00:00:00|2020-03-26 00:00:00|\n",
      "|2020-03-11T00:00:...|2020-03-14 00:00:00|2020-03-26 00:00:00|\n",
      "|2020-03-12T00:00:...|2020-03-14 00:00:00|2020-03-27 00:00:00|\n",
      "|2020-03-12T00:00:...|2020-03-14 00:00:00|2020-03-27 00:00:00|\n",
      "|2020-03-13T00:00:...|2020-03-14 00:00:00|2020-03-28 00:00:00|\n",
      "|2020-03-07T00:00:...|2020-03-14 00:00:00|2020-03-22 00:00:00|\n",
      "|2020-03-13T00:00:...|2020-03-15 00:00:00|2020-03-28 00:00:00|\n",
      "|        Asintomático|2020-03-14 00:00:00|2020-03-28 00:00:00|\n",
      "|2020-03-10T00:00:...|2020-03-14 00:00:00|2020-03-24 00:00:00|\n",
      "|2020-03-09T00:00:...|2020-03-14 00:00:00|2020-03-24 00:00:00|\n",
      "|2020-03-10T00:00:...|2020-03-14 00:00:00|2020-03-24 00:00:00|\n",
      "|2020-03-12T00:00:...|2020-03-15 00:00:00|2020-04-05 00:00:00|\n",
      "|2020-03-06T00:00:...|2020-03-15 00:00:00|2020-05-14 00:00:00|\n",
      "|2020-03-07T00:00:...|2020-03-15 00:00:00|2020-04-07 00:00:00|\n",
      "|        Asintomático|2020-03-16 00:00:00|2020-03-27 00:00:00|\n",
      "|2020-03-12T00:00:...|2020-03-15 00:00:00|2020-03-27 00:00:00|\n",
      "|2020-03-08T00:00:...|2020-03-15 00:00:00|2020-03-23 00:00:00|\n",
      "|2020-03-11T00:00:...|2020-03-16 00:00:00|2020-03-28 00:00:00|\n",
      "|2020-03-09T00:00:...|2020-03-15 00:00:00|2020-03-24 00:00:00|\n",
      "|2020-03-12T00:00:...|2020-03-15 00:00:00|2020-03-27 00:00:00|\n",
      "|2020-03-12T00:00:...|2020-03-15 00:00:00|2020-04-02 00:00:00|\n",
      "|2020-03-05T00:00:...|2020-03-16 00:00:00|2020-03-20 00:00:00|\n",
      "|2020-03-13T00:00:...|2020-03-16 00:00:00|2020-03-28 00:00:00|\n",
      "|2020-03-09T00:00:...|2020-03-16 00:00:00|2020-03-24 00:00:00|\n",
      "|2020-03-13T00:00:...|2020-03-16 00:00:00|2020-03-27 00:00:00|\n",
      "|2020-03-13T00:00:...|2020-03-16 00:00:00|2020-03-27 00:00:00|\n",
      "|2020-03-12T00:00:...|2020-03-16 00:00:00|2020-03-31 00:00:00|\n",
      "|2020-03-10T00:00:...|2020-03-16 00:00:00|2020-03-24 00:00:00|\n",
      "|2020-03-12T00:00:...|2020-03-16 00:00:00|2020-03-26 00:00:00|\n",
      "|2020-03-14T00:00:...|2020-03-16 00:00:00|2020-03-28 00:00:00|\n",
      "|2020-03-15T00:00:...|2020-03-16 00:00:00|2020-04-12 00:00:00|\n",
      "|2020-03-15T00:00:...|2020-03-16 00:00:00|2020-04-01 00:00:00|\n",
      "|2020-03-11T00:00:...|2020-03-17 00:00:00|2020-03-26 00:00:00|\n",
      "|2020-03-10T00:00:...|2020-03-17 00:00:00|2020-04-15 00:00:00|\n",
      "|2020-03-12T00:00:...|2020-03-17 00:00:00|2020-04-12 00:00:00|\n",
      "|2020-03-14T00:00:...|2020-03-17 00:00:00|2020-03-29 00:00:00|\n",
      "|2020-03-15T00:00:...|2020-03-17 00:00:00|2020-05-04 00:00:00|\n",
      "|2020-03-14T00:00:...|2020-03-17 00:00:00|2020-04-25 00:00:00|\n",
      "|2020-03-14T00:00:...|2020-03-17 00:00:00|2020-03-29 00:00:00|\n",
      "|2020-03-14T00:00:...|2020-03-17 00:00:00|2020-03-28 00:00:00|\n",
      "|2020-03-11T00:00:...|2020-03-17 00:00:00|2020-04-12 00:00:00|\n",
      "|2020-03-11T00:00:...|2020-03-17 00:00:00|2020-03-26 00:00:00|\n",
      "|2020-03-13T00:00:...|2020-03-17 00:00:00|2020-03-29 00:00:00|\n",
      "|2020-03-11T00:00:...|2020-03-17 00:00:00|2020-04-01 00:00:00|\n",
      "|2020-03-14T00:00:...|2020-03-17 00:00:00|2020-03-28 00:00:00|\n",
      "|2020-03-12T00:00:...|2020-03-17 00:00:00|2020-03-26 00:00:00|\n",
      "|2020-03-13T00:00:...|2020-03-17 00:00:00|2020-03-28 00:00:00|\n",
      "|2020-03-14T00:00:...|2020-03-17 00:00:00|2020-03-28 00:00:00|\n",
      "|2020-03-14T00:00:...|2020-03-17 00:00:00|2020-04-19 00:00:00|\n",
      "|2020-03-12T00:00:...|2020-03-17 00:00:00|2020-03-26 00:00:00|\n",
      "|2020-03-10T00:00:...|2020-03-17 00:00:00|2020-04-10 00:00:00|\n",
      "|2020-03-13T00:00:...|2020-03-17 00:00:00|2020-03-28 00:00:00|\n",
      "|2020-03-11T00:00:...|2020-03-17 00:00:00|2020-03-27 00:00:00|\n",
      "|2020-03-11T00:00:...|2020-03-17 00:00:00|2020-03-26 00:00:00|\n",
      "|2020-03-14T00:00:...|2020-03-15 00:00:00|2020-04-10 00:00:00|\n",
      "|2020-03-15T00:00:...|2020-03-17 00:00:00|2020-03-30 00:00:00|\n",
      "|2020-03-13T00:00:...|2020-03-17 00:00:00|2020-03-27 00:00:00|\n",
      "|2020-03-10T00:00:...|2020-03-18 00:00:00|2020-04-12 00:00:00|\n",
      "|2020-03-11T00:00:...|2020-03-18 00:00:00|2020-03-26 00:00:00|\n",
      "|2020-03-10T00:00:...|2020-03-18 00:00:00|2020-03-30 00:00:00|\n",
      "|2020-03-16T00:00:...|2020-03-18 00:00:00|2020-03-28 00:00:00|\n",
      "|2020-03-15T00:00:...|2020-03-18 00:00:00|2020-03-28 00:00:00|\n",
      "|2020-03-15T00:00:...|2020-03-18 00:00:00|2020-04-14 00:00:00|\n",
      "|2020-03-13T00:00:...|2020-03-18 00:00:00|2020-03-27 00:00:00|\n",
      "|2020-03-13T00:00:...|2020-03-18 00:00:00|2020-04-13 00:00:00|\n",
      "|2020-03-12T00:00:...|2020-03-18 00:00:00|2020-05-06 00:00:00|\n",
      "|2020-03-11T00:00:...|2020-03-18 00:00:00|2020-03-26 00:00:00|\n",
      "|2020-03-09T00:00:...|2020-03-18 00:00:00|2020-03-24 00:00:00|\n",
      "|2020-03-11T00:00:...|2020-03-18 00:00:00|2020-03-25 00:00:00|\n",
      "|2020-03-15T00:00:...|2020-03-19 00:00:00|2020-03-25 00:00:00|\n",
      "|2020-03-09T00:00:...|2020-03-19 00:00:00|2020-04-23 00:00:00|\n",
      "|2020-03-13T00:00:...|2020-03-19 00:00:00|2020-03-28 00:00:00|\n",
      "|2020-03-10T00:00:...|2020-03-19 00:00:00|2020-03-30 00:00:00|\n",
      "|2020-03-14T00:00:...|2020-03-19 00:00:00|2020-03-28 00:00:00|\n",
      "|2020-03-14T00:00:...|2020-03-19 00:00:00|2020-03-30 00:00:00|\n",
      "|2020-03-13T00:00:...|2020-03-19 00:00:00|2020-04-12 00:00:00|\n",
      "|2020-03-14T00:00:...|2020-03-19 00:00:00|2020-04-24 00:00:00|\n",
      "|2020-03-12T00:00:...|2020-03-19 00:00:00|2020-03-27 00:00:00|\n",
      "|2020-03-15T00:00:...|2020-03-19 00:00:00|2020-03-30 00:00:00|\n",
      "|2020-03-15T00:00:...|2020-03-19 00:00:00|2020-04-12 00:00:00|\n",
      "|2020-03-15T00:00:...|2020-03-19 00:00:00|2020-04-18 00:00:00|\n",
      "|2020-03-15T00:00:...|2020-03-19 00:00:00|2020-03-30 00:00:00|\n",
      "|2020-03-16T00:00:...|2020-03-19 00:00:00|2020-03-30 00:00:00|\n",
      "|2020-03-08T00:00:...|2020-03-19 00:00:00|2020-04-01 00:00:00|\n",
      "|2020-03-15T00:00:...|2020-03-19 00:00:00|2020-03-29 00:00:00|\n",
      "|2020-03-09T00:00:...|2020-03-19 00:00:00|2020-03-28 00:00:00|\n",
      "|2020-03-15T00:00:...|2020-03-19 00:00:00|2020-03-31 00:00:00|\n",
      "|2020-03-08T00:00:...|2020-03-19 00:00:00|2020-04-04 00:00:00|\n",
      "|2020-03-15T00:00:...|2020-03-19 00:00:00|2020-03-29 00:00:00|\n",
      "|2020-03-06T00:00:...|2020-03-19 00:00:00|2020-03-31 00:00:00|\n",
      "|2020-03-16T00:00:...|2020-03-19 00:00:00|2020-03-29 00:00:00|\n",
      "|2020-03-16T00:00:...|2020-03-19 00:00:00|2020-03-30 00:00:00|\n",
      "|2020-03-14T00:00:...|2020-03-20 00:00:00|2020-03-29 00:00:00|\n",
      "|2020-03-16T00:00:...|2020-03-20 00:00:00|2020-03-30 00:00:00|\n",
      "|2020-03-13T00:00:...|2020-03-20 00:00:00|2020-03-28 00:00:00|\n",
      "|2020-03-10T00:00:...|2020-03-20 00:00:00|2020-05-08 00:00:00|\n",
      "|2020-03-10T00:00:...|2020-03-20 00:00:00|2020-03-25 00:00:00|\n",
      "|        Asintomático|2020-03-20 00:00:00|2020-04-03 00:00:00|\n",
      "|2020-03-16T00:00:...|2020-03-20 00:00:00|2020-04-01 00:00:00|\n",
      "|2020-03-13T00:00:...|2020-03-20 00:00:00|2020-04-13 00:00:00|\n",
      "|        Asintomático|2020-03-20 00:00:00|2020-04-03 00:00:00|\n",
      "|2020-03-15T00:00:...|2020-03-20 00:00:00|2020-04-25 00:00:00|\n",
      "|2020-03-14T00:00:...|2020-03-20 00:00:00|2020-03-29 00:00:00|\n",
      "|2020-03-07T00:00:...|2020-03-20 00:00:00|2020-05-03 00:00:00|\n",
      "|2020-03-10T00:00:...|2020-03-20 00:00:00|2020-03-25 00:00:00|\n",
      "|2020-03-14T00:00:...|2020-03-20 00:00:00|2020-03-29 00:00:00|\n",
      "|2020-03-11T00:00:...|2020-03-20 00:00:00|2020-04-11 00:00:00|\n",
      "|2020-03-14T00:00:...|2020-03-20 00:00:00|2020-04-04 00:00:00|\n",
      "|2020-03-18T00:00:...|2020-03-20 00:00:00|2020-04-25 00:00:00|\n",
      "|2020-03-12T00:00:...|2020-03-20 00:00:00|2020-04-12 00:00:00|\n",
      "|2020-03-13T00:00:...|2020-03-20 00:00:00|2020-04-13 00:00:00|\n",
      "|2020-03-15T00:00:...|2020-03-20 00:00:00|2020-03-30 00:00:00|\n",
      "|2020-03-13T00:00:...|2020-03-20 00:00:00|2020-03-28 00:00:00|\n",
      "|2020-03-15T00:00:...|2020-03-20 00:00:00|2020-03-29 00:00:00|\n",
      "|2020-03-16T00:00:...|2020-03-20 00:00:00|2020-04-25 00:00:00|\n",
      "|2020-03-15T00:00:...|2020-03-20 00:00:00|2020-04-16 00:00:00|\n",
      "|2020-03-10T00:00:...|2020-03-20 00:00:00|2020-03-25 00:00:00|\n",
      "|2020-03-16T00:00:...|2020-03-20 00:00:00|2020-04-10 00:00:00|\n",
      "|2020-03-14T00:00:...|2020-03-20 00:00:00|2020-04-03 00:00:00|\n",
      "|2020-03-18T00:00:...|2020-03-20 00:00:00|2020-04-06 00:00:00|\n",
      "|2020-03-12T00:00:...|2020-03-20 00:00:00|2020-04-12 00:00:00|\n",
      "|2020-03-16T00:00:...|2020-03-20 00:00:00|2020-03-31 00:00:00|\n",
      "|2020-03-15T00:00:...|2020-03-20 00:00:00|2020-04-09 00:00:00|\n",
      "|2020-03-15T00:00:...|2020-03-20 00:00:00|2020-03-30 00:00:00|\n",
      "|2020-03-15T00:00:...|2020-03-20 00:00:00|2020-04-15 00:00:00|\n",
      "|2020-03-11T00:00:...|2020-03-20 00:00:00|2020-04-11 00:00:00|\n",
      "|2020-03-17T00:00:...|2020-03-20 00:00:00|2020-04-23 00:00:00|\n",
      "|2020-03-16T00:00:...|2020-03-20 00:00:00|2020-04-25 00:00:00|\n",
      "|2020-03-13T00:00:...|2020-03-20 00:00:00|2020-04-03 00:00:00|\n",
      "|2020-03-17T00:00:...|2020-03-20 00:00:00|2020-04-01 00:00:00|\n",
      "|2020-03-19T00:00:...|2020-03-20 00:00:00|2020-04-12 00:00:00|\n",
      "|2020-03-11T00:00:...|2020-03-20 00:00:00|2020-04-12 00:00:00|\n",
      "|2020-03-14T00:00:...|2020-03-20 00:00:00|2020-03-29 00:00:00|\n",
      "|2020-03-14T00:00:...|2020-03-20 00:00:00|2020-03-29 00:00:00|\n",
      "|2020-03-07T00:00:...|2020-03-20 00:00:00|2020-03-22 00:00:00|\n",
      "|2020-03-13T00:00:...|2020-03-21 00:00:00|2020-03-28 00:00:00|\n",
      "|2020-03-16T00:00:...|2020-03-21 00:00:00|2020-04-08 00:00:00|\n",
      "|2020-03-15T00:00:...|2020-03-21 00:00:00|2020-03-29 00:00:00|\n",
      "|2020-03-12T00:00:...|2020-03-21 00:00:00|2020-04-11 00:00:00|\n",
      "|2020-03-14T00:00:...|2020-03-21 00:00:00|2020-03-29 00:00:00|\n",
      "|2020-03-15T00:00:...|2020-03-21 00:00:00|2020-04-01 00:00:00|\n",
      "|2020-03-15T00:00:...|2020-03-21 00:00:00|2020-04-17 00:00:00|\n",
      "|2020-03-15T00:00:...|2020-03-21 00:00:00|2020-04-25 00:00:00|\n",
      "|2020-03-07T00:00:...|2020-03-21 00:00:00|2020-03-22 00:00:00|\n",
      "|2020-03-13T00:00:...|2020-03-21 00:00:00|2020-04-13 00:00:00|\n",
      "|2020-03-14T00:00:...|2020-03-21 00:00:00|2020-05-15 00:00:00|\n",
      "|2020-03-14T00:00:...|2020-03-21 00:00:00|2020-03-31 00:00:00|\n",
      "|2020-03-18T00:00:...|2020-03-21 00:00:00|2020-04-25 00:00:00|\n",
      "|2020-03-17T00:00:...|2020-03-21 00:00:00|2020-04-01 00:00:00|\n",
      "|2020-03-17T00:00:...|2020-03-21 00:00:00|2020-04-02 00:00:00|\n",
      "|2020-03-12T00:00:...|2020-03-21 00:00:00|2020-03-23 00:00:00|\n",
      "|2020-03-15T00:00:...|2020-03-21 00:00:00|2020-04-14 00:00:00|\n",
      "|2020-03-16T00:00:...|2020-03-21 00:00:00|2020-03-31 00:00:00|\n",
      "|2020-03-12T00:00:...|2020-03-21 00:00:00|2020-04-02 00:00:00|\n",
      "|2020-03-02T00:00:...|2020-03-21 00:00:00|2020-03-31 00:00:00|\n",
      "|2020-03-13T00:00:...|2020-03-21 00:00:00|2020-03-28 00:00:00|\n",
      "|2020-03-20T00:00:...|2020-03-21 00:00:00|2020-04-03 00:00:00|\n",
      "|2020-03-13T00:00:...|2020-03-21 00:00:00|2020-03-27 00:00:00|\n",
      "|2020-03-16T00:00:...|2020-03-21 00:00:00|2020-03-31 00:00:00|\n",
      "|2020-03-14T00:00:...|2020-03-21 00:00:00|2020-03-28 00:00:00|\n",
      "|2020-03-10T00:00:...|2020-03-21 00:00:00|2020-03-24 00:00:00|\n",
      "|2020-03-17T00:00:...|2020-03-21 00:00:00|2020-04-01 00:00:00|\n",
      "|2020-03-12T00:00:...|2020-03-21 00:00:00|2020-03-27 00:00:00|\n",
      "|2020-03-13T00:00:...|2020-03-21 00:00:00|2020-03-28 00:00:00|\n",
      "|2020-03-13T00:00:...|2020-03-21 00:00:00|2020-04-13 00:00:00|\n",
      "|2020-03-15T00:00:...|2020-03-21 00:00:00|2020-03-30 00:00:00|\n",
      "|2020-03-16T00:00:...|2020-03-21 00:00:00|2020-04-19 00:00:00|\n",
      "|2020-03-18T00:00:...|2020-03-22 00:00:00|2020-04-25 00:00:00|\n",
      "|2020-03-16T00:00:...|2020-03-22 00:00:00|2020-03-30 00:00:00|\n",
      "|2020-03-15T00:00:...|2020-03-22 00:00:00|2020-03-25 00:00:00|\n",
      "|2020-03-17T00:00:...|2020-03-22 00:00:00|2020-04-02 00:00:00|\n",
      "|2020-03-15T00:00:...|2020-03-22 00:00:00|2020-04-25 00:00:00|\n",
      "|2020-03-18T00:00:...|2020-03-22 00:00:00|2020-04-10 00:00:00|\n",
      "|2020-03-19T00:00:...|2020-03-22 00:00:00|2020-04-20 00:00:00|\n",
      "|2020-03-16T00:00:...|2020-03-22 00:00:00|2020-03-31 00:00:00|\n",
      "|2020-03-14T00:00:...|2020-03-22 00:00:00|2020-03-28 00:00:00|\n",
      "|2020-03-14T00:00:...|2020-03-22 00:00:00|2020-03-29 00:00:00|\n",
      "|2020-03-12T00:00:...|2020-03-19 00:00:00|2020-03-27 00:00:00|\n",
      "|        Asintomático|2020-03-22 00:00:00|2020-04-04 00:00:00|\n",
      "|2020-03-19T00:00:...|2020-03-22 00:00:00|2020-04-18 00:00:00|\n",
      "|2020-03-16T00:00:...|2020-03-22 00:00:00|2020-03-31 00:00:00|\n",
      "|2020-03-12T00:00:...|2020-03-22 00:00:00|2020-03-30 00:00:00|\n",
      "|2020-03-16T00:00:...|2020-03-22 00:00:00|2020-05-08 00:00:00|\n",
      "|2020-03-16T00:00:...|2020-03-22 00:00:00|2020-04-25 00:00:00|\n",
      "|2020-03-17T00:00:...|2020-03-22 00:00:00|2020-04-09 00:00:00|\n",
      "|        Asintomático|2020-03-22 00:00:00|2020-03-30 00:00:00|\n",
      "|        Asintomático|2020-03-22 00:00:00|2020-04-04 00:00:00|\n",
      "|2020-03-15T00:00:...|2020-03-22 00:00:00|2020-03-31 00:00:00|\n",
      "|2020-03-11T00:00:...|2020-03-22 00:00:00|2020-03-26 00:00:00|\n",
      "|2020-03-17T00:00:...|2020-03-22 00:00:00|2020-04-02 00:00:00|\n",
      "|2020-03-19T00:00:...|2020-03-22 00:00:00|2020-04-03 00:00:00|\n",
      "|2020-03-10T00:00:...|2020-03-22 00:00:00|2020-03-25 00:00:00|\n",
      "|2020-03-09T00:00:...|2020-03-22 00:00:00|2020-04-09 00:00:00|\n",
      "|2020-03-14T00:00:...|2020-03-22 00:00:00|2020-03-29 00:00:00|\n",
      "|2020-03-09T00:00:...|2020-03-22 00:00:00|2020-04-25 00:00:00|\n",
      "|2020-03-06T00:00:...|2020-03-23 00:00:00|2020-03-21 00:00:00|\n",
      "|2020-03-17T00:00:...|2020-03-23 00:00:00|2020-04-15 00:00:00|\n",
      "|2020-03-17T00:00:...|2020-03-23 00:00:00|2020-04-01 00:00:00|\n",
      "|2020-03-17T00:00:...|2020-03-23 00:00:00|2020-04-02 00:00:00|\n",
      "|2020-03-16T00:00:...|2020-03-23 00:00:00|2020-04-12 00:00:00|\n",
      "|2020-03-09T00:00:...|2020-03-23 00:00:00|2020-04-09 00:00:00|\n",
      "|2020-03-15T00:00:...|2020-03-23 00:00:00|2020-04-01 00:00:00|\n",
      "|2020-03-16T00:00:...|2020-03-23 00:00:00|2020-03-31 00:00:00|\n",
      "|2020-03-16T00:00:...|2020-03-23 00:00:00|2020-04-25 00:00:00|\n",
      "|2020-03-16T00:00:...|2020-03-23 00:00:00|2020-04-04 00:00:00|\n",
      "|2020-03-12T00:00:...|2020-03-23 00:00:00|2020-04-12 00:00:00|\n",
      "|2020-03-15T00:00:...|2020-03-23 00:00:00|2020-03-30 00:00:00|\n",
      "|2020-03-12T00:00:...|2020-03-23 00:00:00|2020-03-27 00:00:00|\n",
      "|2020-03-18T00:00:...|2020-03-23 00:00:00|2020-04-06 00:00:00|\n",
      "|2020-03-20T00:00:...|2020-03-23 00:00:00|2020-04-25 00:00:00|\n",
      "|2020-03-13T00:00:...|2020-03-23 00:00:00|2020-04-13 00:00:00|\n",
      "|2020-03-16T00:00:...|2020-03-23 00:00:00|2020-03-31 00:00:00|\n",
      "|2020-03-16T00:00:...|2020-03-23 00:00:00|2020-03-31 00:00:00|\n",
      "|2020-03-14T00:00:...|2020-03-23 00:00:00|2020-03-29 00:00:00|\n",
      "|2020-03-16T00:00:...|2020-03-23 00:00:00|2020-04-07 00:00:00|\n",
      "|2020-03-16T00:00:...|2020-03-23 00:00:00|2020-03-30 00:00:00|\n",
      "|2020-03-15T00:00:...|2020-03-23 00:00:00|2020-03-30 00:00:00|\n",
      "|2020-03-14T00:00:...|2020-03-23 00:00:00|2020-03-28 00:00:00|\n",
      "|2020-03-19T00:00:...|2020-03-20 00:00:00|2020-04-25 00:00:00|\n",
      "|2020-03-11T00:00:...|2020-03-23 00:00:00|2020-04-11 00:00:00|\n",
      "|2020-03-20T00:00:...|2020-03-23 00:00:00|2020-03-28 00:00:00|\n",
      "|2020-03-17T00:00:...|2020-03-23 00:00:00|2020-04-08 00:00:00|\n",
      "|2020-03-14T00:00:...|2020-03-23 00:00:00|2020-03-29 00:00:00|\n",
      "|2020-03-14T00:00:...|2020-03-23 00:00:00|2020-03-29 00:00:00|\n",
      "|2020-03-11T00:00:...|2020-03-23 00:00:00|2020-04-19 00:00:00|\n",
      "|2020-03-08T00:00:...|2020-03-23 00:00:00|2020-03-23 00:00:00|\n",
      "|2020-03-14T00:00:...|2020-03-23 00:00:00|2020-03-28 00:00:00|\n",
      "|2020-03-14T00:00:...|2020-03-23 00:00:00|2020-04-02 00:00:00|\n",
      "|2020-03-13T00:00:...|2020-03-23 00:00:00|2020-03-29 00:00:00|\n",
      "|2020-03-14T00:00:...|2020-03-23 00:00:00|2020-03-28 00:00:00|\n",
      "|2020-03-17T00:00:...|2020-03-23 00:00:00|2020-03-31 00:00:00|\n",
      "|2020-03-16T00:00:...|2020-03-23 00:00:00|2020-04-20 00:00:00|\n",
      "|2020-03-14T00:00:...|2020-03-23 00:00:00|2020-03-28 00:00:00|\n",
      "|2020-03-15T00:00:...|2020-03-23 00:00:00|2020-04-13 00:00:00|\n",
      "|2020-03-15T00:00:...|2020-03-23 00:00:00|2020-03-29 00:00:00|\n",
      "|2020-03-15T00:00:...|2020-03-23 00:00:00|2020-03-28 00:00:00|\n",
      "|2020-03-20T00:00:...|2020-03-23 00:00:00|2020-04-02 00:00:00|\n",
      "|2020-03-15T00:00:...|2020-03-23 00:00:00|2020-04-07 00:00:00|\n",
      "|2020-03-14T00:00:...|2020-03-23 00:00:00|2020-04-17 00:00:00|\n",
      "|2020-03-07T00:00:...|2020-03-23 00:00:00|2020-04-07 00:00:00|\n",
      "|2020-03-15T00:00:...|2020-03-23 00:00:00|2020-03-29 00:00:00|\n",
      "|2020-03-13T00:00:...|2020-03-23 00:00:00|2020-04-13 00:00:00|\n",
      "|2020-03-16T00:00:...|2020-03-23 00:00:00|2020-03-30 00:00:00|\n",
      "|2020-03-16T00:00:...|2020-03-23 00:00:00|2020-04-01 00:00:00|\n",
      "|2020-03-15T00:00:...|2020-03-23 00:00:00|2020-04-25 00:00:00|\n",
      "|2020-03-18T00:00:...|2020-03-23 00:00:00|2020-04-08 00:00:00|\n",
      "|2020-03-17T00:00:...|2020-03-23 00:00:00|2020-04-11 00:00:00|\n",
      "|2020-03-12T00:00:...|2020-03-23 00:00:00|2020-04-04 00:00:00|\n",
      "|2020-03-15T00:00:...|2020-03-23 00:00:00|2020-03-30 00:00:00|\n",
      "|2020-03-14T00:00:...|2020-03-23 00:00:00|2020-04-03 00:00:00|\n",
      "|2020-03-14T00:00:...|2020-03-23 00:00:00|2020-03-28 00:00:00|\n",
      "|2020-03-14T00:00:...|2020-03-23 00:00:00|2020-04-14 00:00:00|\n",
      "|2020-03-10T00:00:...|2020-03-23 00:00:00|2020-04-10 00:00:00|\n",
      "|2020-03-15T00:00:...|2020-03-23 00:00:00|2020-03-29 00:00:00|\n",
      "|2020-03-18T00:00:...|2020-03-23 00:00:00|2020-04-02 00:00:00|\n",
      "|2020-03-17T00:00:...|2020-03-23 00:00:00|2020-04-25 00:00:00|\n",
      "|2020-03-18T00:00:...|2020-03-23 00:00:00|2020-04-25 00:00:00|\n",
      "|2020-03-19T00:00:...|2020-03-23 00:00:00|2020-04-02 00:00:00|\n",
      "|2020-03-17T00:00:...|2020-03-23 00:00:00|2020-04-01 00:00:00|\n",
      "|2020-03-18T00:00:...|2020-03-23 00:00:00|2020-04-02 00:00:00|\n",
      "|2020-03-14T00:00:...|2020-03-23 00:00:00|2020-03-29 00:00:00|\n",
      "|2020-03-20T00:00:...|2020-03-24 00:00:00|2020-04-25 00:00:00|\n",
      "|2020-03-15T00:00:...|2020-03-24 00:00:00|2020-04-21 00:00:00|\n",
      "|2020-03-16T00:00:...|2020-03-24 00:00:00|2020-03-30 00:00:00|\n",
      "|2020-03-19T00:00:...|2020-03-24 00:00:00|2020-04-25 00:00:00|\n",
      "|2020-03-17T00:00:...|2020-03-24 00:00:00|2020-04-01 00:00:00|\n",
      "|2020-03-20T00:00:...|2020-03-24 00:00:00|2020-04-17 00:00:00|\n",
      "|2020-03-20T00:00:...|2020-03-24 00:00:00|2020-04-04 00:00:00|\n",
      "|2020-03-18T00:00:...|2020-03-24 00:00:00|2020-04-09 00:00:00|\n",
      "|        Asintomático|2020-03-24 00:00:00|2020-04-05 00:00:00|\n",
      "|2020-03-16T00:00:...|2020-03-24 00:00:00|2020-03-30 00:00:00|\n",
      "|2020-03-17T00:00:...|2020-03-24 00:00:00|2020-04-03 00:00:00|\n",
      "|2020-03-18T00:00:...|2020-03-24 00:00:00|2020-04-08 00:00:00|\n",
      "|2020-03-14T00:00:...|2020-03-24 00:00:00|2020-04-08 00:00:00|\n",
      "|2020-03-17T00:00:...|2020-03-24 00:00:00|2020-04-08 00:00:00|\n",
      "|2020-03-15T00:00:...|2020-03-24 00:00:00|2020-04-25 00:00:00|\n",
      "|2020-03-19T00:00:...|2020-03-24 00:00:00|2020-04-05 00:00:00|\n",
      "|2020-03-20T00:00:...|2020-03-24 00:00:00|2020-04-20 00:00:00|\n",
      "|2020-03-21T00:00:...|2020-03-24 00:00:00|2020-04-12 00:00:00|\n",
      "|2020-03-16T00:00:...|2020-03-24 00:00:00|2020-04-19 00:00:00|\n",
      "|2020-03-13T00:00:...|2020-03-24 00:00:00|2020-05-13 00:00:00|\n",
      "|2020-03-13T00:00:...|2020-03-24 00:00:00|2020-04-13 00:00:00|\n",
      "|        Asintomático|2020-03-24 00:00:00|2020-05-08 00:00:00|\n",
      "|2020-03-12T00:00:...|2020-03-24 00:00:00|2020-04-12 00:00:00|\n",
      "|2020-03-17T00:00:...|2020-03-24 00:00:00|2020-03-31 00:00:00|\n",
      "|2020-03-18T00:00:...|2020-03-24 00:00:00|2020-04-14 00:00:00|\n",
      "|2020-03-20T00:00:...|2020-03-24 00:00:00|2020-04-25 00:00:00|\n",
      "|2020-03-16T00:00:...|2020-03-24 00:00:00|2020-04-25 00:00:00|\n",
      "|2020-03-18T00:00:...|2020-03-24 00:00:00|2020-04-25 00:00:00|\n",
      "|2020-03-17T00:00:...|2020-03-24 00:00:00|2020-04-25 00:00:00|\n",
      "|2020-03-16T00:00:...|2020-03-24 00:00:00|2020-04-25 00:00:00|\n",
      "|2020-03-15T00:00:...|2020-03-24 00:00:00|2020-04-25 00:00:00|\n",
      "|2020-03-15T00:00:...|2020-03-24 00:00:00|2020-04-04 00:00:00|\n",
      "|2020-03-15T00:00:...|2020-03-24 00:00:00|2020-04-25 00:00:00|\n",
      "|2020-03-17T00:00:...|2020-03-24 00:00:00|2020-04-09 00:00:00|\n",
      "|2020-03-17T00:00:...|2020-03-24 00:00:00|2020-03-31 00:00:00|\n",
      "|2020-03-20T00:00:...|2020-03-24 00:00:00|2020-04-08 00:00:00|\n",
      "|        Asintomático|2020-03-24 00:00:00|2020-04-19 00:00:00|\n",
      "|2020-03-21T00:00:...|2020-03-24 00:00:00|2020-04-13 00:00:00|\n",
      "|2020-03-10T00:00:...|2020-03-24 00:00:00|2020-04-10 00:00:00|\n",
      "|        Asintomático|2020-03-24 00:00:00|2020-04-16 00:00:00|\n",
      "|2020-03-11T00:00:...|2020-03-24 00:00:00|2020-04-11 00:00:00|\n",
      "|2020-03-02T00:00:...|2020-03-24 00:00:00|2020-04-02 00:00:00|\n",
      "|2020-03-18T00:00:...|2020-03-24 00:00:00|2020-04-01 00:00:00|\n",
      "|2020-03-18T00:00:...|2020-03-24 00:00:00|2020-04-25 00:00:00|\n",
      "|        Asintomático|2020-03-24 00:00:00|2020-03-31 00:00:00|\n",
      "|2020-03-20T00:00:...|2020-03-24 00:00:00|2020-04-21 00:00:00|\n",
      "|2020-03-18T00:00:...|2020-03-24 00:00:00|2020-04-03 00:00:00|\n",
      "|2020-03-17T00:00:...|2020-03-24 00:00:00|2020-04-09 00:00:00|\n",
      "|2020-03-14T00:00:...|2020-03-24 00:00:00|2020-03-28 00:00:00|\n",
      "|2020-03-20T00:00:...|2020-03-24 00:00:00|2020-04-25 00:00:00|\n",
      "|2020-03-15T00:00:...|2020-03-24 00:00:00|2020-04-09 00:00:00|\n",
      "|2020-03-20T00:00:...|2020-03-24 00:00:00|2020-04-17 00:00:00|\n",
      "|2020-03-15T00:00:...|2020-03-24 00:00:00|2020-04-05 00:00:00|\n",
      "|2020-03-20T00:00:...|2020-03-24 00:00:00|2020-04-25 00:00:00|\n",
      "|2020-03-11T00:00:...|2020-03-27 00:00:00|2020-04-08 00:00:00|\n",
      "|2020-03-17T00:00:...|2020-03-24 00:00:00|2020-03-31 00:00:00|\n",
      "|2020-03-16T00:00:...|2020-03-24 00:00:00|2020-04-08 00:00:00|\n",
      "|2020-03-11T00:00:...|2020-03-24 00:00:00|2020-04-11 00:00:00|\n",
      "|2020-03-14T00:00:...|2020-03-24 00:00:00|2020-04-10 00:00:00|\n",
      "|2020-03-20T00:00:...|2020-03-24 00:00:00|2020-04-14 00:00:00|\n",
      "|2020-03-17T00:00:...|2020-03-24 00:00:00|2020-04-19 00:00:00|\n",
      "|2020-03-13T00:00:...|2020-03-24 00:00:00|2020-04-13 00:00:00|\n",
      "|2020-03-16T00:00:...|2020-03-24 00:00:00|2020-04-02 00:00:00|\n",
      "|2020-03-16T00:00:...|2020-03-24 00:00:00|2020-04-23 00:00:00|\n",
      "|2020-03-18T00:00:...|2020-03-24 00:00:00|2020-04-01 00:00:00|\n",
      "|2020-03-18T00:00:...|2020-03-24 00:00:00|2020-04-01 00:00:00|\n",
      "|2020-03-17T00:00:...|2020-03-24 00:00:00|2020-04-25 00:00:00|\n",
      "|2020-03-11T00:00:...|2020-03-24 00:00:00|2020-03-26 00:00:00|\n",
      "|2020-03-20T00:00:...|2020-03-24 00:00:00|2020-04-25 00:00:00|\n",
      "|2020-03-18T00:00:...|2020-03-24 00:00:00|2020-04-07 00:00:00|\n",
      "|2020-03-18T00:00:...|2020-03-24 00:00:00|2020-03-29 00:00:00|\n",
      "|2020-03-19T00:00:...|2020-03-24 00:00:00|2020-04-03 00:00:00|\n",
      "|2020-03-19T00:00:...|2020-03-24 00:00:00|2020-04-03 00:00:00|\n",
      "|2020-03-19T00:00:...|2020-03-24 00:00:00|2020-04-01 00:00:00|\n",
      "|2020-03-15T00:00:...|2020-03-24 00:00:00|2020-03-30 00:00:00|\n",
      "|2020-03-12T00:00:...|2020-03-24 00:00:00|2020-03-27 00:00:00|\n",
      "|2020-03-19T00:00:...|2020-03-24 00:00:00|2020-04-03 00:00:00|\n",
      "|2020-03-15T00:00:...|2020-03-24 00:00:00|2020-04-01 00:00:00|\n",
      "|2020-03-18T00:00:...|2020-03-24 00:00:00|2020-03-29 00:00:00|\n",
      "|2020-03-21T00:00:...|2020-03-24 00:00:00|2020-04-03 00:00:00|\n",
      "|        Asintomático|2020-03-24 00:00:00|2020-04-03 00:00:00|\n",
      "|2020-03-17T00:00:...|2020-03-24 00:00:00|2020-04-25 00:00:00|\n",
      "|2020-03-14T00:00:...|2020-03-24 00:00:00|2020-04-03 00:00:00|\n",
      "|2020-03-18T00:00:...|2020-03-24 00:00:00|2020-04-16 00:00:00|\n",
      "|2020-03-20T00:00:...|2020-03-24 00:00:00|2020-04-01 00:00:00|\n",
      "|2020-03-15T00:00:...|2020-03-24 00:00:00|2020-04-13 00:00:00|\n",
      "|        Asintomático|2020-03-24 00:00:00|2020-04-12 00:00:00|\n",
      "|        Asintomático|2020-03-24 00:00:00|2020-04-27 00:00:00|\n",
      "|2020-03-16T00:00:...|2020-03-24 00:00:00|2020-03-30 00:00:00|\n",
      "|2020-03-19T00:00:...|2020-03-24 00:00:00|2020-04-02 00:00:00|\n",
      "|2020-03-15T00:00:...|2020-03-24 00:00:00|2020-04-25 00:00:00|\n",
      "|2020-03-13T00:00:...|2020-03-24 00:00:00|2020-04-13 00:00:00|\n",
      "|2020-03-19T00:00:...|2020-03-24 00:00:00|2020-04-25 00:00:00|\n",
      "|2020-03-17T00:00:...|2020-03-24 00:00:00|2020-04-25 00:00:00|\n",
      "|2020-03-17T00:00:...|2020-03-24 00:00:00|2020-04-25 00:00:00|\n",
      "|2020-03-15T00:00:...|2020-03-24 00:00:00|2020-04-03 00:00:00|\n",
      "|2020-03-14T00:00:...|2020-03-24 00:00:00|2020-04-25 00:00:00|\n",
      "|2020-03-11T00:00:...|2020-03-24 00:00:00|2020-04-11 00:00:00|\n",
      "|2020-03-17T00:00:...|2020-03-24 00:00:00|2020-04-25 00:00:00|\n",
      "|2020-03-14T00:00:...|2020-03-24 00:00:00|2020-04-12 00:00:00|\n",
      "|2020-03-15T00:00:...|2020-03-24 00:00:00|2020-04-25 00:00:00|\n",
      "|2020-03-20T00:00:...|2020-03-25 00:00:00|2020-04-10 00:00:00|\n",
      "|2020-03-15T00:00:...|2020-03-25 00:00:00|2020-04-10 00:00:00|\n",
      "|2020-03-16T00:00:...|2020-03-25 00:00:00|2020-04-08 00:00:00|\n",
      "|2020-03-19T00:00:...|2020-03-25 00:00:00|2020-04-03 00:00:00|\n",
      "|2020-03-18T00:00:...|2020-03-25 00:00:00|2020-04-02 00:00:00|\n",
      "|2020-03-19T00:00:...|2020-03-25 00:00:00|2020-04-08 00:00:00|\n",
      "|2020-03-18T00:00:...|2020-03-25 00:00:00|2020-04-21 00:00:00|\n",
      "|2020-03-21T00:00:...|2020-03-25 00:00:00|2020-04-13 00:00:00|\n",
      "|2020-03-12T00:00:...|2020-03-25 00:00:00|2020-04-12 00:00:00|\n",
      "|2020-03-16T00:00:...|2020-03-25 00:00:00|2020-04-13 00:00:00|\n",
      "|2020-03-21T00:00:...|2020-03-25 00:00:00|2020-04-04 00:00:00|\n",
      "|2020-03-16T00:00:...|2020-03-25 00:00:00|2020-04-10 00:00:00|\n",
      "|2020-03-22T00:00:...|2020-03-25 00:00:00|2020-04-05 00:00:00|\n",
      "|2020-03-14T00:00:...|2020-03-25 00:00:00|2020-03-30 00:00:00|\n",
      "|2020-03-21T00:00:...|2020-03-25 00:00:00|2020-04-04 00:00:00|\n",
      "|2020-03-20T00:00:...|2020-03-25 00:00:00|2020-04-15 00:00:00|\n",
      "|2020-03-18T00:00:...|2020-03-25 00:00:00|2020-04-08 00:00:00|\n",
      "|2020-03-14T00:00:...|2020-03-25 00:00:00|2020-03-29 00:00:00|\n",
      "|2020-03-13T00:00:...|2020-03-25 00:00:00|2020-03-27 00:00:00|\n",
      "|2020-03-19T00:00:...|2020-03-25 00:00:00|2020-04-16 00:00:00|\n",
      "|        Asintomático|2020-03-25 00:00:00|2020-04-12 00:00:00|\n",
      "|        Asintomático|2020-03-25 00:00:00|2020-04-16 00:00:00|\n",
      "|2020-03-15T00:00:...|2020-03-25 00:00:00|2020-03-29 00:00:00|\n",
      "|2020-03-13T00:00:...|2020-03-25 00:00:00|2020-04-06 00:00:00|\n",
      "|        Asintomático|2020-03-25 00:00:00|2020-04-12 00:00:00|\n",
      "|2020-03-20T00:00:...|2020-03-25 00:00:00|2020-05-05 00:00:00|\n",
      "|        Asintomático|2020-03-25 00:00:00|2020-04-12 00:00:00|\n",
      "|2020-03-18T00:00:...|2020-03-25 00:00:00|2020-04-01 00:00:00|\n",
      "|2020-03-15T00:00:...|2020-03-25 00:00:00|2020-03-29 00:00:00|\n",
      "|2020-03-13T00:00:...|2020-03-23 00:00:00|2020-04-06 00:00:00|\n",
      "|2020-03-19T00:00:...|2020-03-25 00:00:00|2020-05-05 00:00:00|\n",
      "|2020-03-16T00:00:...|2020-03-25 00:00:00|2020-03-30 00:00:00|\n",
      "|2020-03-22T00:00:...|2020-03-25 00:00:00|2020-04-12 00:00:00|\n",
      "|2020-03-19T00:00:...|2020-03-25 00:00:00|2020-04-14 00:00:00|\n",
      "|2020-03-22T00:00:...|2020-03-25 00:00:00|2020-05-05 00:00:00|\n",
      "|2020-03-19T00:00:...|2020-03-25 00:00:00|2020-04-13 00:00:00|\n",
      "|2020-03-20T00:00:...|2020-03-25 00:00:00|2020-04-10 00:00:00|\n",
      "|2020-03-21T00:00:...|2020-03-25 00:00:00|2020-05-08 00:00:00|\n",
      "|2020-03-18T00:00:...|2020-03-25 00:00:00|2020-04-01 00:00:00|\n",
      "|2020-03-15T00:00:...|2020-03-25 00:00:00|2020-04-18 00:00:00|\n",
      "|2020-03-15T00:00:...|2020-03-25 00:00:00|2020-04-02 00:00:00|\n",
      "|        Asintomático|2020-03-25 00:00:00|2020-04-04 00:00:00|\n",
      "|2020-03-17T00:00:...|2020-03-25 00:00:00|2020-03-30 00:00:00|\n",
      "|2020-03-16T00:00:...|2020-03-25 00:00:00|2020-03-31 00:00:00|\n",
      "|2020-03-16T00:00:...|2020-03-25 00:00:00|2020-03-30 00:00:00|\n",
      "|        Asintomático|2020-03-25 00:00:00|2020-04-08 00:00:00|\n",
      "|2020-03-18T00:00:...|2020-03-25 00:00:00|2020-04-09 00:00:00|\n",
      "|2020-03-20T00:00:...|2020-03-25 00:00:00|2020-04-19 00:00:00|\n",
      "|2020-03-14T00:00:...|2020-03-25 00:00:00|2020-03-28 00:00:00|\n",
      "|2020-03-12T00:00:...|2020-03-25 00:00:00|2020-03-30 00:00:00|\n",
      "|2020-03-18T00:00:...|2020-03-25 00:00:00|2020-04-29 00:00:00|\n",
      "|2020-03-11T00:00:...|2020-03-25 00:00:00|2020-04-11 00:00:00|\n",
      "|2020-03-17T00:00:...|2020-03-25 00:00:00|2020-04-02 00:00:00|\n",
      "|2020-03-16T00:00:...|2020-03-25 00:00:00|2020-04-05 00:00:00|\n",
      "|2020-03-05T00:00:...|2020-03-25 00:00:00|2020-04-05 00:00:00|\n",
      "|2020-03-14T00:00:...|2020-03-25 00:00:00|2020-04-04 00:00:00|\n",
      "|2020-03-15T00:00:...|2020-03-25 00:00:00|2020-05-05 00:00:00|\n",
      "|2020-03-13T00:00:...|2020-03-25 00:00:00|2020-04-13 00:00:00|\n",
      "|2020-03-19T00:00:...|2020-03-25 00:00:00|2020-04-02 00:00:00|\n",
      "|2020-03-19T00:00:...|2020-03-26 00:00:00|2020-04-12 00:00:00|\n",
      "|2020-03-16T00:00:...|2020-03-26 00:00:00|2020-04-17 00:00:00|\n",
      "|2020-03-16T00:00:...|2020-03-26 00:00:00|2020-04-04 00:00:00|\n",
      "|2020-03-18T00:00:...|2020-03-26 00:00:00|2020-04-04 00:00:00|\n",
      "|        Asintomático|2020-03-26 00:00:00|2020-04-12 00:00:00|\n",
      "|        Asintomático|2020-03-26 00:00:00|2020-04-12 00:00:00|\n",
      "|2020-03-16T00:00:...|2020-03-26 00:00:00|2020-04-09 00:00:00|\n",
      "|2020-03-22T00:00:...|2020-03-26 00:00:00|2020-04-06 00:00:00|\n",
      "|2020-03-15T00:00:...|2020-03-26 00:00:00|2020-04-04 00:00:00|\n",
      "|2020-03-18T00:00:...|2020-03-27 00:00:00|2020-04-05 00:00:00|\n",
      "|2020-03-17T00:00:...|2020-03-27 00:00:00|2020-04-04 00:00:00|\n",
      "|2020-03-16T00:00:...|2020-03-27 00:00:00|2020-04-12 00:00:00|\n",
      "|2020-03-20T00:00:...|2020-03-27 00:00:00|2020-04-22 00:00:00|\n",
      "|2020-03-21T00:00:...|2020-03-27 00:00:00|2020-04-22 00:00:00|\n",
      "|2020-03-14T00:00:...|2020-03-27 00:00:00|2020-04-02 00:00:00|\n",
      "|2020-03-19T00:00:...|2020-03-27 00:00:00|2020-05-05 00:00:00|\n",
      "|2020-03-20T00:00:...|2020-03-27 00:00:00|2020-04-04 00:00:00|\n",
      "|2020-03-21T00:00:...|2020-03-27 00:00:00|2020-04-05 00:00:00|\n",
      "|2020-03-19T00:00:...|2020-03-27 00:00:00|2020-04-15 00:00:00|\n",
      "|2020-03-22T00:00:...|2020-03-27 00:00:00|2020-05-05 00:00:00|\n",
      "|2020-03-17T00:00:...|2020-03-27 00:00:00|2020-04-13 00:00:00|\n",
      "|2020-03-18T00:00:...|2020-03-27 00:00:00|2020-04-15 00:00:00|\n",
      "|2020-03-19T00:00:...|2020-03-27 00:00:00|2020-05-05 00:00:00|\n",
      "|2020-03-14T00:00:...|2020-03-27 00:00:00|2020-04-06 00:00:00|\n",
      "|2020-03-19T00:00:...|2020-03-27 00:00:00|2020-04-22 00:00:00|\n",
      "|2020-03-22T00:00:...|2020-03-27 00:00:00|2020-05-05 00:00:00|\n",
      "|2020-03-13T00:00:...|2020-03-27 00:00:00|2020-04-13 00:00:00|\n",
      "|2020-03-16T00:00:...|2020-03-27 00:00:00|2020-05-05 00:00:00|\n",
      "|2020-03-15T00:00:...|2020-03-27 00:00:00|2020-04-29 00:00:00|\n",
      "|2020-03-13T00:00:...|2020-03-27 00:00:00|2020-04-13 00:00:00|\n",
      "|2020-03-09T00:00:...|2020-03-27 00:00:00|2020-04-09 00:00:00|\n",
      "|2020-03-18T00:00:...|2020-03-27 00:00:00|2020-04-03 00:00:00|\n",
      "|2020-03-17T00:00:...|2020-03-27 00:00:00|2020-04-15 00:00:00|\n",
      "|2020-03-17T00:00:...|2020-03-27 00:00:00|2020-04-03 00:00:00|\n",
      "|2020-03-20T00:00:...|2020-03-27 00:00:00|2020-04-03 00:00:00|\n",
      "|2020-03-19T00:00:...|2020-03-27 00:00:00|2020-04-03 00:00:00|\n",
      "|2020-03-18T00:00:...|2020-03-27 00:00:00|2020-04-03 00:00:00|\n",
      "|2020-03-21T00:00:...|2020-03-27 00:00:00|2020-05-05 00:00:00|\n",
      "|2020-03-18T00:00:...|2020-03-27 00:00:00|2020-05-05 00:00:00|\n",
      "|2020-03-20T00:00:...|2020-03-27 00:00:00|2020-04-21 00:00:00|\n",
      "|2020-03-19T00:00:...|2020-03-27 00:00:00|2020-05-05 00:00:00|\n",
      "|2020-03-21T00:00:...|2020-03-27 00:00:00|2020-04-09 00:00:00|\n",
      "|2020-03-17T00:00:...|2020-03-27 00:00:00|2020-04-15 00:00:00|\n",
      "|2020-03-20T00:00:...|2020-03-27 00:00:00|2020-04-13 00:00:00|\n",
      "|2020-03-13T00:00:...|2020-03-27 00:00:00|2020-04-13 00:00:00|\n",
      "|2020-03-19T00:00:...|2020-03-27 00:00:00|2020-04-28 00:00:00|\n",
      "|2020-03-23T00:00:...|2020-03-27 00:00:00|2020-04-05 00:00:00|\n",
      "+--------------------+-------------------+-------------------+\n",
      "only showing top 500 rows"
     ]
    }
   ],
   "source": [
    "#Dias en contagio de los recuperados\n",
    "df.filter(df['atención']=='Recuperado').select('FIS','Fecha diagnostico','Fecha recuperacion').show(500)"
   ]
  },
  {
   "cell_type": "code",
   "execution_count": 18,
   "metadata": {},
   "outputs": [
    {
     "data": {
      "application/vnd.jupyter.widget-view+json": {
       "model_id": "e90a4eb6b0f64024b7314abb1c483c02",
       "version_major": 2,
       "version_minor": 0
      },
      "text/plain": [
       "VBox()"
      ]
     },
     "metadata": {},
     "output_type": "display_data"
    },
    {
     "data": {
      "application/vnd.jupyter.widget-view+json": {
       "model_id": "",
       "version_major": 2,
       "version_minor": 0
      },
      "text/plain": [
       "FloatProgress(value=0.0, bar_style='info', description='Progress:', layout=Layout(height='25px', width='50%'),…"
      ]
     },
     "metadata": {},
     "output_type": "display_data"
    },
    {
     "name": "stdout",
     "output_type": "stream",
     "text": [
      "+------+----+-----+\n",
      "|Estado|Edad|count|\n",
      "+------+----+-----+\n",
      "|  Leve|  29|  312|\n",
      "|  Leve|  27|  303|\n",
      "|  Leve|  30|  295|\n",
      "|  Leve|  28|  289|\n",
      "|  Leve|  26|  288|\n",
      "|  Leve|  31|  273|\n",
      "|  Leve|  25|  270|\n",
      "|  Leve|  32|  269|\n",
      "|  Leve|  34|  259|\n",
      "|  Leve|  24|  256|\n",
      "|  Leve|  39|  253|\n",
      "|  Leve|  35|  248|\n",
      "|  Leve|  33|  247|\n",
      "|  Leve|  38|  245|\n",
      "|  Leve|  37|  239|\n",
      "|  Leve|  23|  229|\n",
      "|  Leve|  36|  226|\n",
      "|  Leve|  40|  216|\n",
      "|  Leve|  22|  210|\n",
      "|  Leve|  41|  208|\n",
      "+------+----+-----+\n",
      "only showing top 20 rows"
     ]
    }
   ],
   "source": [
    "#Cantidad de personas segun el estado y la edad \n",
    "df.groupBy('Estado','Edad').count().orderBy('count', ascending=False).show()"
   ]
  },
  {
   "cell_type": "code",
   "execution_count": 19,
   "metadata": {},
   "outputs": [
    {
     "data": {
      "application/vnd.jupyter.widget-view+json": {
       "model_id": "5ec75be454eb42b7bb7d73c7c94b7181",
       "version_major": 2,
       "version_minor": 0
      },
      "text/plain": [
       "VBox()"
      ]
     },
     "metadata": {},
     "output_type": "display_data"
    },
    {
     "data": {
      "application/vnd.jupyter.widget-view+json": {
       "model_id": "",
       "version_major": 2,
       "version_minor": 0
      },
      "text/plain": [
       "FloatProgress(value=0.0, bar_style='info', description='Progress:', layout=Layout(height='25px', width='50%'),…"
      ]
     },
     "metadata": {},
     "output_type": "display_data"
    },
    {
     "name": "stdout",
     "output_type": "stream",
     "text": [
      "+----+----+-------------------+\n",
      "|Edad|Sexo|Ciudad de ubicación|\n",
      "+----+----+-------------------+\n",
      "|  30|   F|Cartagena de Indias|\n",
      "|  30|   F|Cartagena de Indias|\n",
      "|  79|   M|              Neiva|\n",
      "|  31|   M|        Bogotá D.C.|\n",
      "|  42|   F|               Cali|\n",
      "|  28|   M|        La Estrella|\n",
      "|  54|   M|           Envigado|\n",
      "|  36|   M|         San Andrés|\n",
      "|  38|   F|              Yopal|\n",
      "|  38|   F|            Armenia|\n",
      "|  15|   F|            Viterbo|\n",
      "|  22|   F|               Cali|\n",
      "|  33|   M|            Villeta|\n",
      "|  44|   F|            Villeta|\n",
      "|  33|   M|               Cali|\n",
      "|  28|   F|               Cali|\n",
      "|  21|   M|        Bogotá D.C.|\n",
      "|  39|   M|        Bogotá D.C.|\n",
      "|  25|   M|        Bogotá D.C.|\n",
      "|  43|   F|        Bogotá D.C.|\n",
      "+----+----+-------------------+\n",
      "only showing top 20 rows"
     ]
    }
   ],
   "source": [
    "#Informacion de los asintomaticos\n",
    "df.filter(df['FIS']=='Asintomático').select('Edad','Sexo','Ciudad de ubicación').show()"
   ]
  },
  {
   "cell_type": "code",
   "execution_count": 20,
   "metadata": {},
   "outputs": [
    {
     "data": {
      "application/vnd.jupyter.widget-view+json": {
       "model_id": "b56b59dd86ef4e299fd3803b42df660f",
       "version_major": 2,
       "version_minor": 0
      },
      "text/plain": [
       "VBox()"
      ]
     },
     "metadata": {},
     "output_type": "display_data"
    },
    {
     "data": {
      "application/vnd.jupyter.widget-view+json": {
       "model_id": "",
       "version_major": 2,
       "version_minor": 0
      },
      "text/plain": [
       "FloatProgress(value=0.0, bar_style='info', description='Progress:', layout=Layout(height='25px', width='50%'),…"
      ]
     },
     "metadata": {},
     "output_type": "display_data"
    },
    {
     "name": "stdout",
     "output_type": "stream",
     "text": [
      "+----+-------------------+\n",
      "|Edad|Ciudad de ubicación|\n",
      "+----+-------------------+\n",
      "|  74|               Cali|\n",
      "|  49|Cartagena de Indias|\n",
      "|  64|        Bogotá D.C.|\n",
      "|  54|               Cali|\n",
      "|  64|               Cali|\n",
      "|  69|        Bogotá D.C.|\n",
      "|  57|               Cali|\n",
      "|  54|             Cúcuta|\n",
      "|  71|        Bogotá D.C.|\n",
      "|  66|        Bogotá D.C.|\n",
      "|  73|        Bogotá D.C.|\n",
      "|  59|        Bogotá D.C.|\n",
      "|  73|Cartagena de Indias|\n",
      "|  50|        Bogotá D.C.|\n",
      "|  64|               Cali|\n",
      "|  36|               Cali|\n",
      "|  62|               Cali|\n",
      "|  71|       Buenaventura|\n",
      "|  60|               Cali|\n",
      "|  78|        Bogotá D.C.|\n",
      "+----+-------------------+\n",
      "only showing top 20 rows"
     ]
    }
   ],
   "source": [
    "#Personas bajo cuidados intensivos\n",
    "df.filter(df['atención']=='Hospital UCI').select('Edad','Ciudad de ubicación').show()"
   ]
  },
  {
   "cell_type": "code",
   "execution_count": 21,
   "metadata": {},
   "outputs": [
    {
     "data": {
      "application/vnd.jupyter.widget-view+json": {
       "model_id": "db076c8c6c294beca613e0ed178625e4",
       "version_major": 2,
       "version_minor": 0
      },
      "text/plain": [
       "VBox()"
      ]
     },
     "metadata": {},
     "output_type": "display_data"
    },
    {
     "data": {
      "application/vnd.jupyter.widget-view+json": {
       "model_id": "",
       "version_major": 2,
       "version_minor": 0
      },
      "text/plain": [
       "FloatProgress(value=0.0, bar_style='info', description='Progress:', layout=Layout(height='25px', width='50%'),…"
      ]
     },
     "metadata": {},
     "output_type": "display_data"
    },
    {
     "name": "stdout",
     "output_type": "stream",
     "text": [
      "+----+-----------------+\n",
      "|Sexo|avg(Edad)        |\n",
      "+----+-----------------+\n",
      "|F   |69.02358490566037|\n",
      "|M   |65.86486486486487|\n",
      "+----+-----------------+"
     ]
    }
   ],
   "source": [
    "#promedio de edad de los fallecidos por sexo\n",
    "df.filter(df['Estado']=='Fallecido').groupBy('Sexo').mean('Edad').show(5,False)"
   ]
  },
  {
   "cell_type": "code",
   "execution_count": 22,
   "metadata": {},
   "outputs": [
    {
     "data": {
      "application/vnd.jupyter.widget-view+json": {
       "model_id": "5cc86997648040bb8b51513bd7df1303",
       "version_major": 2,
       "version_minor": 0
      },
      "text/plain": [
       "VBox()"
      ]
     },
     "metadata": {},
     "output_type": "display_data"
    },
    {
     "data": {
      "application/vnd.jupyter.widget-view+json": {
       "model_id": "",
       "version_major": 2,
       "version_minor": 0
      },
      "text/plain": [
       "FloatProgress(value=0.0, bar_style='info', description='Progress:', layout=Layout(height='25px', width='50%'),…"
      ]
     },
     "metadata": {},
     "output_type": "display_data"
    },
    {
     "name": "stdout",
     "output_type": "stream",
     "text": [
      "+----+-----+\n",
      "|Sexo|count|\n",
      "+----+-----+\n",
      "|   F| 1761|\n",
      "|   M| 1699|\n",
      "+----+-----+"
     ]
    }
   ],
   "source": [
    "#Cantidad de recuperados por sexo\n",
    "df.filter(df['atención']=='Recuperado').groupBy('Sexo').count().show()"
   ]
  },
  {
   "cell_type": "code",
   "execution_count": 23,
   "metadata": {},
   "outputs": [
    {
     "data": {
      "application/vnd.jupyter.widget-view+json": {
       "model_id": "53f332d064684aa28aa4f85a1150e3be",
       "version_major": 2,
       "version_minor": 0
      },
      "text/plain": [
       "VBox()"
      ]
     },
     "metadata": {},
     "output_type": "display_data"
    },
    {
     "data": {
      "application/vnd.jupyter.widget-view+json": {
       "model_id": "",
       "version_major": 2,
       "version_minor": 0
      },
      "text/plain": [
       "FloatProgress(value=0.0, bar_style='info', description='Progress:', layout=Layout(height='25px', width='50%'),…"
      ]
     },
     "metadata": {},
     "output_type": "display_data"
    },
    {
     "name": "stdout",
     "output_type": "stream",
     "text": [
      "+-----------+-----+\n",
      "|       tipo|count|\n",
      "+-----------+-----+\n",
      "|Relacionado| 4137|\n",
      "|  Importado|  840|\n",
      "| En Estudio| 9239|\n",
      "+-----------+-----+"
     ]
    }
   ],
   "source": [
    "#Origen del contagio\n",
    "df.groupBy('tipo').count().show()"
   ]
  },
  {
   "cell_type": "code",
   "execution_count": 24,
   "metadata": {},
   "outputs": [
    {
     "data": {
      "application/vnd.jupyter.widget-view+json": {
       "model_id": "d880bd575813403f87191273bd86c8d1",
       "version_major": 2,
       "version_minor": 0
      },
      "text/plain": [
       "VBox()"
      ]
     },
     "metadata": {},
     "output_type": "display_data"
    },
    {
     "data": {
      "application/vnd.jupyter.widget-view+json": {
       "model_id": "",
       "version_major": 2,
       "version_minor": 0
      },
      "text/plain": [
       "FloatProgress(value=0.0, bar_style='info', description='Progress:', layout=Layout(height='25px', width='50%'),…"
      ]
     },
     "metadata": {},
     "output_type": "display_data"
    },
    {
     "name": "stdout",
     "output_type": "stream",
     "text": [
      "+--------------------+-----+\n",
      "| País de procedencia|count|\n",
      "+--------------------+-----+\n",
      "|              España|  258|\n",
      "|Estados Unidos de...|  215|\n",
      "|              México|   49|\n",
      "|             Ecuador|   48|\n",
      "|              Panamá|   34|\n",
      "|              Brasil|   31|\n",
      "|             Turquía|   28|\n",
      "|             Francia|   16|\n",
      "|             Jamaica|   16|\n",
      "|         Reino Unido|   14|\n",
      "|         Puerto Rico|   13|\n",
      "|              Egipto|   11|\n",
      "|                Perú|   11|\n",
      "|            Alemania|   10|\n",
      "|              Italia|    9|\n",
      "|República Dominicana|    9|\n",
      "|            Colombia|    8|\n",
      "|San Martín (Francia)|    7|\n",
      "|              Israel|    6|\n",
      "|           Argentina|    4|\n",
      "+--------------------+-----+\n",
      "only showing top 20 rows"
     ]
    }
   ],
   "source": [
    "#Casos importados\n",
    "df.filter(df['tipo']=='Importado').groupBy('País de procedencia').count().orderBy('count', ascending=False).show()"
   ]
  },
  {
   "cell_type": "code",
   "execution_count": 25,
   "metadata": {},
   "outputs": [
    {
     "data": {
      "application/vnd.jupyter.widget-view+json": {
       "model_id": "07b709f9fad74f6d9eed9f91e2c9c071",
       "version_major": 2,
       "version_minor": 0
      },
      "text/plain": [
       "VBox()"
      ]
     },
     "metadata": {},
     "output_type": "display_data"
    },
    {
     "data": {
      "application/vnd.jupyter.widget-view+json": {
       "model_id": "",
       "version_major": 2,
       "version_minor": 0
      },
      "text/plain": [
       "FloatProgress(value=0.0, bar_style='info', description='Progress:', layout=Layout(height='25px', width='50%'),…"
      ]
     },
     "metadata": {},
     "output_type": "display_data"
    }
   ],
   "source": [
    "#Libreria matplot y pandas\n",
    "import matplotlib.pyplot as plt\n",
    "import pandas as pd"
   ]
  },
  {
   "cell_type": "code",
   "execution_count": 68,
   "metadata": {},
   "outputs": [
    {
     "data": {
      "application/vnd.jupyter.widget-view+json": {
       "model_id": "21da73ff281a45d3825371b6951be134",
       "version_major": 2,
       "version_minor": 0
      },
      "text/plain": [
       "VBox()"
      ]
     },
     "metadata": {},
     "output_type": "display_data"
    },
    {
     "data": {
      "application/vnd.jupyter.widget-view+json": {
       "model_id": "",
       "version_major": 2,
       "version_minor": 0
      },
      "text/plain": [
       "FloatProgress(value=0.0, bar_style='info', description='Progress:', layout=Layout(height='25px', width='50%'),…"
      ]
     },
     "metadata": {},
     "output_type": "display_data"
    },
    {
     "data": {
      "image/png": "[encoded data removed]",
      "text/plain": [
       "<IPython.core.display.Image object>"
      ]
     },
     "metadata": {},
     "output_type": "display_data"
    }
   ],
   "source": [
    "#Grafica contagiados,recuperados y muertos por Departamento\n",
    "deps = df.groupBy('Departamento o Distrito ').count().toPandas()['Departamento o Distrito '].values.tolist()\n",
    "casos =df.groupBy('Departamento o Distrito ').count().toPandas()['count'].values.tolist()\n",
    "\n",
    "depsd= df.filter(df['atención']=='Fallecido').groupBy('Departamento o Distrito ').count().toPandas()['Departamento o Distrito '].values.tolist()\n",
    "casosd =df.filter(df['atención']=='Fallecido').groupBy('Departamento o Distrito ').count().toPandas()['count'].values.tolist()\n",
    "\n",
    "depsr = df.filter(df['atención']=='Recuperado').groupBy('Departamento o Distrito ').count().toPandas()['Departamento o Distrito '].values.tolist()\n",
    "casosr =df.filter(df['atención']=='Recuperado').groupBy('Departamento o Distrito ').count().toPandas()['count'].values.tolist()\n",
    "\n",
    "fig, ax = plt.subplots(figsize=(20, 10))\n",
    "ax.barh(deps, casos, color='Orange')\n",
    "ax.barh(depsr, casosr, color='Green')\n",
    "ax.barh(depsd, casosd, color='Red')\n",
    "ax.set(xlabel='Cases', ylabel='Country',\n",
    "       title='Casos por Departamento')\n",
    "ax.grid()\n",
    "%matplot plt"
   ]
  },
  {
   "cell_type": "code",
   "execution_count": 59,
   "metadata": {
    "scrolled": false
   },
   "outputs": [
    {
     "data": {
      "application/vnd.jupyter.widget-view+json": {
       "model_id": "639e66d883db42708d77d48e98ff4fa1",
       "version_major": 2,
       "version_minor": 0
      },
      "text/plain": [
       "VBox()"
      ]
     },
     "metadata": {},
     "output_type": "display_data"
    },
    {
     "data": {
      "application/vnd.jupyter.widget-view+json": {
       "model_id": "",
       "version_major": 2,
       "version_minor": 0
      },
      "text/plain": [
       "FloatProgress(value=0.0, bar_style='info', description='Progress:', layout=Layout(height='25px', width='50%'),…"
      ]
     },
     "metadata": {},
     "output_type": "display_data"
    },
    {
     "data": {
      "image/png": "[encoded data removed]",
      "text/plain": [
       "<IPython.core.display.Image object>"
      ]
     },
     "metadata": {},
     "output_type": "display_data"
    }
   ],
   "source": [
    "labelsd = df.filter(df['atención']=='Fallecido').groupBy('Sexo').count().toPandas()['Sexo'].values.tolist()\n",
    "sizesd = df.filter(df['atención']=='Fallecido').groupBy('Sexo').count().toPandas()['count'].values.tolist()\n",
    "fig1, ax2 = plt.subplots(figsize=(5, 4))\n",
    "ax2.pie(sizesd, explode=explode, labels=labelsd, autopct='%1.1f%%',\n",
    "        shadow=True, startangle=90)\n",
    "ax2.axis('equal')\n",
    "ax2.set_title('Fallecidos por género')\n",
    "%matplot plt"
   ]
  },
  {
   "cell_type": "code",
   "execution_count": 52,
   "metadata": {},
   "outputs": [
    {
     "data": {
      "application/vnd.jupyter.widget-view+json": {
       "model_id": "bfcb4dea157c4aeca5198037ed555528",
       "version_major": 2,
       "version_minor": 0
      },
      "text/plain": [
       "VBox()"
      ]
     },
     "metadata": {},
     "output_type": "display_data"
    },
    {
     "data": {
      "application/vnd.jupyter.widget-view+json": {
       "model_id": "",
       "version_major": 2,
       "version_minor": 0
      },
      "text/plain": [
       "FloatProgress(value=0.0, bar_style='info', description='Progress:', layout=Layout(height='25px', width='50%'),…"
      ]
     },
     "metadata": {},
     "output_type": "display_data"
    },
    {
     "data": {
      "image/png": "[encoded data removed]",
      "text/plain": [
       "<IPython.core.display.Image object>"
      ]
     },
     "metadata": {},
     "output_type": "display_data"
    }
   ],
   "source": [
    "#Porcentaje de casos por sexo\n",
    "labels = df.groupBy('Sexo').count().toPandas()['Sexo'].values.tolist()\n",
    "sizes = df.groupBy('Sexo').count().toPandas()['count'].values.tolist()\n",
    "explode = (0, 0.1)  \n",
    "fig1, ax1 = plt.subplots()\n",
    "ax1.pie(sizes, explode=explode, labels=labels, autopct='%1.1f%%',\n",
    "        shadow=True, startangle=90)\n",
    "ax1.axis('equal')\n",
    "ax1.set_title('Casos por género')\n",
    "%matplot plt"
   ]
  },
  {
   "cell_type": "code",
   "execution_count": 28,
   "metadata": {},
   "outputs": [
    {
     "data": {
      "application/vnd.jupyter.widget-view+json": {
       "model_id": "4b1d9c723ac24180bf2c9469a6a3cdd3",
       "version_major": 2,
       "version_minor": 0
      },
      "text/plain": [
       "VBox()"
      ]
     },
     "metadata": {},
     "output_type": "display_data"
    },
    {
     "data": {
      "application/vnd.jupyter.widget-view+json": {
       "model_id": "",
       "version_major": 2,
       "version_minor": 0
      },
      "text/plain": [
       "FloatProgress(value=0.0, bar_style='info', description='Progress:', layout=Layout(height='25px', width='50%'),…"
      ]
     },
     "metadata": {},
     "output_type": "display_data"
    },
    {
     "data": {
      "image/png": "[encoded data removed]",
      "text/plain": [
       "<IPython.core.display.Image object>"
      ]
     },
     "metadata": {},
     "output_type": "display_data"
    }
   ],
   "source": [
    "#Porcentajes de atencion al paciente\n",
    "labels = df.groupBy('atención').count().toPandas()['atención'].values.tolist()\n",
    "sizes = df.groupBy('atención').count().toPandas()['count'].values.tolist()\n",
    "explode = (0.3, 0.1,0.1,0.1,0.1,0.1)  \n",
    "fig1, ax1 = plt.subplots()\n",
    "ax1.pie(sizes, explode=explode, labels=labels, autopct='%1.1f%%',\n",
    "        shadow=True, startangle=90)\n",
    "ax1.axis('equal')\n",
    "ax1.set_title('Porcentajes de atencion al paciente')\n",
    "%matplot plt"
   ]
  },
  {
   "cell_type": "code",
   "execution_count": 29,
   "metadata": {},
   "outputs": [
    {
     "data": {
      "application/vnd.jupyter.widget-view+json": {
       "model_id": "874fd89cd52f482aad01d17c1a674ad0",
       "version_major": 2,
       "version_minor": 0
      },
      "text/plain": [
       "VBox()"
      ]
     },
     "metadata": {},
     "output_type": "display_data"
    },
    {
     "data": {
      "application/vnd.jupyter.widget-view+json": {
       "model_id": "",
       "version_major": 2,
       "version_minor": 0
      },
      "text/plain": [
       "FloatProgress(value=0.0, bar_style='info', description='Progress:', layout=Layout(height='25px', width='50%'),…"
      ]
     },
     "metadata": {},
     "output_type": "display_data"
    }
   ],
   "source": [
    "from pyspark.sql.functions import udf"
   ]
  },
  {
   "cell_type": "code",
   "execution_count": 30,
   "metadata": {},
   "outputs": [
    {
     "data": {
      "application/vnd.jupyter.widget-view+json": {
       "model_id": "28cae24d4774450392cfe6468925c3e7",
       "version_major": 2,
       "version_minor": 0
      },
      "text/plain": [
       "VBox()"
      ]
     },
     "metadata": {},
     "output_type": "display_data"
    },
    {
     "data": {
      "application/vnd.jupyter.widget-view+json": {
       "model_id": "",
       "version_major": 2,
       "version_minor": 0
      },
      "text/plain": [
       "FloatProgress(value=0.0, bar_style='info', description='Progress:', layout=Layout(height='25px', width='50%'),…"
      ]
     },
     "metadata": {},
     "output_type": "display_data"
    },
    {
     "name": "stdout",
     "output_type": "stream",
     "text": [
      "14216"
     ]
    }
   ],
   "source": [
    "df.select(df['Sexo']=='M').count()"
   ]
  },
  {
   "cell_type": "code",
   "execution_count": 31,
   "metadata": {},
   "outputs": [
    {
     "data": {
      "application/vnd.jupyter.widget-view+json": {
       "model_id": "30591f0623f34001963f7e5d4ffe67f2",
       "version_major": 2,
       "version_minor": 0
      },
      "text/plain": [
       "VBox()"
      ]
     },
     "metadata": {},
     "output_type": "display_data"
    },
    {
     "data": {
      "application/vnd.jupyter.widget-view+json": {
       "model_id": "",
       "version_major": 2,
       "version_minor": 0
      },
      "text/plain": [
       "FloatProgress(value=0.0, bar_style='info', description='Progress:', layout=Layout(height='25px', width='50%'),…"
      ]
     },
     "metadata": {},
     "output_type": "display_data"
    },
    {
     "name": "stdout",
     "output_type": "stream",
     "text": [
      "+-------------------+-----+\n",
      "|  Fecha diagnostico|count|\n",
      "+-------------------+-----+\n",
      "|2020-03-06 00:00:00|    1|\n",
      "|2020-03-09 00:00:00|    2|\n",
      "|2020-03-11 00:00:00|    6|\n",
      "|2020-03-12 00:00:00|    5|\n",
      "|2020-03-13 00:00:00|    5|\n",
      "|2020-03-14 00:00:00|   18|\n",
      "|2020-03-15 00:00:00|   16|\n",
      "|2020-03-16 00:00:00|   14|\n",
      "|2020-03-17 00:00:00|   25|\n",
      "|2020-03-18 00:00:00|   12|\n",
      "|2020-03-19 00:00:00|   26|\n",
      "|2020-03-20 00:00:00|   48|\n",
      "|2020-03-21 00:00:00|   34|\n",
      "|2020-03-22 00:00:00|   29|\n",
      "|2020-03-23 00:00:00|   73|\n",
      "|2020-03-24 00:00:00|  105|\n",
      "|2020-03-25 00:00:00|   61|\n",
      "|2020-03-26 00:00:00|   10|\n",
      "|2020-03-27 00:00:00|   49|\n",
      "|2020-03-28 00:00:00|   69|\n",
      "+-------------------+-----+\n",
      "only showing top 20 rows"
     ]
    }
   ],
   "source": [
    "df.groupBy('Fecha diagnostico').count().orderBy('Fecha diagnostico',ascending=True).show()"
   ]
  },
  {
   "cell_type": "code",
   "execution_count": 32,
   "metadata": {},
   "outputs": [
    {
     "data": {
      "application/vnd.jupyter.widget-view+json": {
       "model_id": "21d96791dccb4bb0bc2cb62c1762523a",
       "version_major": 2,
       "version_minor": 0
      },
      "text/plain": [
       "VBox()"
      ]
     },
     "metadata": {},
     "output_type": "display_data"
    },
    {
     "data": {
      "application/vnd.jupyter.widget-view+json": {
       "model_id": "",
       "version_major": 2,
       "version_minor": 0
      },
      "text/plain": [
       "FloatProgress(value=0.0, bar_style='info', description='Progress:', layout=Layout(height='25px', width='50%'),…"
      ]
     },
     "metadata": {},
     "output_type": "display_data"
    }
   ],
   "source": [
    "#Funcion para extraer el mes de diagnostico \n",
    "\n",
    "from pyspark.sql.types import StringType,DoubleType,IntegerType\n",
    "def cases_month(date):\n",
    "   date =str(date)\n",
    "   date1,hour = date.split(\" \")\n",
    "   y,m,d=date1.split('-')\n",
    "   return m\n",
    "    "
   ]
  },
  {
   "cell_type": "code",
   "execution_count": 33,
   "metadata": {},
   "outputs": [
    {
     "data": {
      "application/vnd.jupyter.widget-view+json": {
       "model_id": "fd0b4239366640498fed0eb3968fa8e5",
       "version_major": 2,
       "version_minor": 0
      },
      "text/plain": [
       "VBox()"
      ]
     },
     "metadata": {},
     "output_type": "display_data"
    },
    {
     "data": {
      "application/vnd.jupyter.widget-view+json": {
       "model_id": "",
       "version_major": 2,
       "version_minor": 0
      },
      "text/plain": [
       "FloatProgress(value=0.0, bar_style='info', description='Progress:', layout=Layout(height='25px', width='50%'),…"
      ]
     },
     "metadata": {},
     "output_type": "display_data"
    }
   ],
   "source": [
    "#create udf using python function\n",
    "month_udf=udf(cases_month,StringType())\n",
    "#apply udf on dataframe\n",
    "df= df.withColumn('month_diagnosis',month_udf(df['Fecha diagnostico']))"
   ]
  },
  {
   "cell_type": "code",
   "execution_count": 34,
   "metadata": {},
   "outputs": [
    {
     "data": {
      "application/vnd.jupyter.widget-view+json": {
       "model_id": "3d5763475bee407f86edabde1c031b14",
       "version_major": 2,
       "version_minor": 0
      },
      "text/plain": [
       "VBox()"
      ]
     },
     "metadata": {},
     "output_type": "display_data"
    },
    {
     "data": {
      "application/vnd.jupyter.widget-view+json": {
       "model_id": "",
       "version_major": 2,
       "version_minor": 0
      },
      "text/plain": [
       "FloatProgress(value=0.0, bar_style='info', description='Progress:', layout=Layout(height='25px', width='50%'),…"
      ]
     },
     "metadata": {},
     "output_type": "display_data"
    },
    {
     "data": {
      "image/png": "[encoded data removed]",
      "text/plain": [
       "<IPython.core.display.Image object>"
      ]
     },
     "metadata": {},
     "output_type": "display_data"
    }
   ],
   "source": [
    "#Casos por mes\n",
    "meses=  df.groupBy('month_diagnosis').count().orderBy('month_diagnosis',ascending=True).toPandas()['month_diagnosis'].values.tolist()\n",
    "cantidad=df.groupBy('month_diagnosis').count().orderBy('month_diagnosis',ascending=True).toPandas()['count'].values.tolist()\n",
    "fig, ax = plt.subplots()\n",
    "ax.plot(meses, cantidad)\n",
    "ax.set(xlabel='Months', ylabel='Cases',\n",
    "       title='Cases per month')\n",
    "ax.grid()\n",
    "%matplot plt"
   ]
  },
  {
   "cell_type": "code",
   "execution_count": 35,
   "metadata": {},
   "outputs": [
    {
     "data": {
      "application/vnd.jupyter.widget-view+json": {
       "model_id": "0eb272962dee4b15a7527a88eb70288f",
       "version_major": 2,
       "version_minor": 0
      },
      "text/plain": [
       "VBox()"
      ]
     },
     "metadata": {},
     "output_type": "display_data"
    },
    {
     "data": {
      "application/vnd.jupyter.widget-view+json": {
       "model_id": "",
       "version_major": 2,
       "version_minor": 0
      },
      "text/plain": [
       "FloatProgress(value=0.0, bar_style='info', description='Progress:', layout=Layout(height='25px', width='50%'),…"
      ]
     },
     "metadata": {},
     "output_type": "display_data"
    }
   ],
   "source": [
    "#Funcion para extraer el mes de recuperacion \n",
    "from pyspark.sql.types import StringType,DoubleType,IntegerType\n",
    "def cases_month_recovery(date):\n",
    "   date =str(date)\n",
    "   if len(date) > 6:\n",
    "       date1,hour = date.split(\" \")\n",
    "       y,m,d=date1.split('-')\n",
    "       return m\n",
    "   else:\n",
    "       return 'no recuperado'\n"
   ]
  },
  {
   "cell_type": "code",
   "execution_count": 36,
   "metadata": {},
   "outputs": [
    {
     "data": {
      "application/vnd.jupyter.widget-view+json": {
       "model_id": "efc7f2ba2f8143709ae2e656cabebc5c",
       "version_major": 2,
       "version_minor": 0
      },
      "text/plain": [
       "VBox()"
      ]
     },
     "metadata": {},
     "output_type": "display_data"
    },
    {
     "data": {
      "application/vnd.jupyter.widget-view+json": {
       "model_id": "",
       "version_major": 2,
       "version_minor": 0
      },
      "text/plain": [
       "FloatProgress(value=0.0, bar_style='info', description='Progress:', layout=Layout(height='25px', width='50%'),…"
      ]
     },
     "metadata": {},
     "output_type": "display_data"
    }
   ],
   "source": [
    "#create udf using python function\n",
    "monthr_udf=udf(cases_month_recovery,StringType())\n",
    "#apply udf on dataframe\n",
    "df=df.withColumn('month_recovery',monthr_udf(df['Fecha Recuperacion']))"
   ]
  },
  {
   "cell_type": "code",
   "execution_count": 37,
   "metadata": {},
   "outputs": [
    {
     "data": {
      "application/vnd.jupyter.widget-view+json": {
       "model_id": "9ae8b99f293a4d929298c3b793c6f49e",
       "version_major": 2,
       "version_minor": 0
      },
      "text/plain": [
       "VBox()"
      ]
     },
     "metadata": {},
     "output_type": "display_data"
    },
    {
     "data": {
      "application/vnd.jupyter.widget-view+json": {
       "model_id": "",
       "version_major": 2,
       "version_minor": 0
      },
      "text/plain": [
       "FloatProgress(value=0.0, bar_style='info', description='Progress:', layout=Layout(height='25px', width='50%'),…"
      ]
     },
     "metadata": {},
     "output_type": "display_data"
    }
   ],
   "source": [
    "#Funcion para extraer el mes de fallecimiento \n",
    "from pyspark.sql.types import StringType,DoubleType,IntegerType\n",
    "def cases_month_death(date):\n",
    "   date =str(date)\n",
    "   if len(date) > 6:\n",
    "       date1,hour = date.split(\" \")\n",
    "       y,m,d=date1.split('-')\n",
    "       return m\n",
    "   else:\n",
    "       return 'vivo'"
   ]
  },
  {
   "cell_type": "code",
   "execution_count": 38,
   "metadata": {},
   "outputs": [
    {
     "data": {
      "application/vnd.jupyter.widget-view+json": {
       "model_id": "bbf6921685eb4ff0bc82d1082cfaefd5",
       "version_major": 2,
       "version_minor": 0
      },
      "text/plain": [
       "VBox()"
      ]
     },
     "metadata": {},
     "output_type": "display_data"
    },
    {
     "data": {
      "application/vnd.jupyter.widget-view+json": {
       "model_id": "",
       "version_major": 2,
       "version_minor": 0
      },
      "text/plain": [
       "FloatProgress(value=0.0, bar_style='info', description='Progress:', layout=Layout(height='25px', width='50%'),…"
      ]
     },
     "metadata": {},
     "output_type": "display_data"
    }
   ],
   "source": [
    "#create udf using python function\n",
    "monthd_udf=udf(cases_month_death,StringType())\n",
    "#apply udf on dataframe\n",
    "df=df.withColumn('month_death',monthd_udf(df['Fecha Fallecimiento']))"
   ]
  },
  {
   "cell_type": "code",
   "execution_count": 39,
   "metadata": {},
   "outputs": [
    {
     "data": {
      "application/vnd.jupyter.widget-view+json": {
       "model_id": "629c1515f21e407c8a37197c5656027c",
       "version_major": 2,
       "version_minor": 0
      },
      "text/plain": [
       "VBox()"
      ]
     },
     "metadata": {},
     "output_type": "display_data"
    },
    {
     "data": {
      "application/vnd.jupyter.widget-view+json": {
       "model_id": "",
       "version_major": 2,
       "version_minor": 0
      },
      "text/plain": [
       "FloatProgress(value=0.0, bar_style='info', description='Progress:', layout=Layout(height='25px', width='50%'),…"
      ]
     },
     "metadata": {},
     "output_type": "display_data"
    },
    {
     "data": {
      "image/png": "[encoded data removed]",
      "text/plain": [
       "<IPython.core.display.Image object>"
      ]
     },
     "metadata": {},
     "output_type": "display_data"
    }
   ],
   "source": [
    "#Muertos vs recuperados\n",
    "mesesd= df.filter(df['atención']=='Fallecido').groupBy('month_death').count().orderBy('month_death',ascending=True).toPandas()['month_death'].values.tolist()\n",
    "cantidadd=df.filter(df['atención']=='Fallecido').groupBy('month_death').count().orderBy('month_death',ascending=True).toPandas()['count'].values.tolist()\n",
    "\n",
    "mesesr= df.filter(df['atención']=='Recuperado').groupBy('month_recovery').count().orderBy('month_recovery',ascending=True).toPandas()['month_recovery'].values.tolist()\n",
    "cantidadr=df.filter(df['atención']=='Recuperado').groupBy('month_recovery').count().orderBy('month_recovery',ascending=True).toPandas()['count'].values.tolist()\n",
    "fig, ax1 = plt.subplots()\n",
    "ax1.plot(meses, cantidad, label='Total')\n",
    "ax1.plot(mesesd, cantidadd, label='Muertos')\n",
    "ax1.plot(mesesr, cantidadr, label='Recuperados')\n",
    "ax1.set(xlabel='Months', ylabel='Cases',\n",
    "       title='Muertos vs Recuperados')\n",
    "ax1.grid()\n",
    "ax1.legend()\n",
    "\n",
    "%matplot plt"
   ]
  },
  {
   "cell_type": "code",
   "execution_count": 40,
   "metadata": {},
   "outputs": [
    {
     "data": {
      "application/vnd.jupyter.widget-view+json": {
       "model_id": "c309cef35d074490a49de57a1269d77c",
       "version_major": 2,
       "version_minor": 0
      },
      "text/plain": [
       "VBox()"
      ]
     },
     "metadata": {},
     "output_type": "display_data"
    },
    {
     "data": {
      "application/vnd.jupyter.widget-view+json": {
       "model_id": "",
       "version_major": 2,
       "version_minor": 0
      },
      "text/plain": [
       "FloatProgress(value=0.0, bar_style='info', description='Progress:', layout=Layout(height='25px', width='50%'),…"
      ]
     },
     "metadata": {},
     "output_type": "display_data"
    },
    {
     "data": {
      "image/png": "[encoded data removed]",
      "text/plain": [
       "<IPython.core.display.Image object>"
      ]
     },
     "metadata": {},
     "output_type": "display_data"
    }
   ],
   "source": [
    "#Casos por mes incremental\n",
    "fechas=  df.groupBy('month_diagnosis').max('ID de caso').orderBy('month_diagnosis', ascending=True).toPandas()['month_diagnosis'].values.tolist()\n",
    "casos=df.groupBy('month_diagnosis').max('ID de caso').orderBy('month_diagnosis', ascending=True).toPandas()['max(ID de caso)'].values.tolist()\n",
    "fig, ax = plt.subplots()\n",
    "ax.plot(fechas, casos)\n",
    "ax.set(xlabel='Months', ylabel='Cases',\n",
    "       title='Cases per month(acummulated)')\n",
    "ax.grid()\n",
    "%matplot plt"
   ]
  },
  {
   "cell_type": "code",
   "execution_count": 41,
   "metadata": {},
   "outputs": [
    {
     "data": {
      "application/vnd.jupyter.widget-view+json": {
       "model_id": "472cb4a0d3234b2a91786fbd9b83e2e5",
       "version_major": 2,
       "version_minor": 0
      },
      "text/plain": [
       "VBox()"
      ]
     },
     "metadata": {},
     "output_type": "display_data"
    },
    {
     "data": {
      "application/vnd.jupyter.widget-view+json": {
       "model_id": "",
       "version_major": 2,
       "version_minor": 0
      },
      "text/plain": [
       "FloatProgress(value=0.0, bar_style='info', description='Progress:', layout=Layout(height='25px', width='50%'),…"
      ]
     },
     "metadata": {},
     "output_type": "display_data"
    },
    {
     "data": {
      "image/png": "[encoded data removed]",
      "text/plain": [
       "<IPython.core.display.Image object>"
      ]
     },
     "metadata": {},
     "output_type": "display_data"
    }
   ],
   "source": [
    "#Casos por Edad\n",
    "edades=  df.groupBy('Edad').count().toPandas()['Edad'].values.tolist()\n",
    "casos=df.groupBy('Edad').count().toPandas()['count'].values.tolist()\n",
    "fig, ax = plt.subplots()\n",
    "ax.barh(edades, casos)\n",
    "ax.set(xlabel='Cases', ylabel='Ages',\n",
    "       title='Cases per Ages')\n",
    "ax.grid()\n",
    "%matplot plt"
   ]
  },
  {
   "cell_type": "code",
   "execution_count": 42,
   "metadata": {},
   "outputs": [
    {
     "data": {
      "application/vnd.jupyter.widget-view+json": {
       "model_id": "8f87c6d36da84267a3c4ec3880ad028b",
       "version_major": 2,
       "version_minor": 0
      },
      "text/plain": [
       "VBox()"
      ]
     },
     "metadata": {},
     "output_type": "display_data"
    },
    {
     "data": {
      "application/vnd.jupyter.widget-view+json": {
       "model_id": "",
       "version_major": 2,
       "version_minor": 0
      },
      "text/plain": [
       "FloatProgress(value=0.0, bar_style='info', description='Progress:', layout=Layout(height='25px', width='50%'),…"
      ]
     },
     "metadata": {},
     "output_type": "display_data"
    },
    {
     "data": {
      "image/png": "[encoded data removed]",
      "text/plain": [
       "<IPython.core.display.Image object>"
      ]
     },
     "metadata": {},
     "output_type": "display_data"
    }
   ],
   "source": [
    "#Origen importado del caso\n",
    "\n",
    "paises = df.filter(df['tipo']=='Importado').groupBy('País de procedencia').count().toPandas()['País de procedencia'].values.tolist()\n",
    "casos = df.filter(df['tipo']=='Importado').groupBy('País de procedencia').count().toPandas()['count'].values.tolist()\n",
    "fig, ax = plt.subplots(figsize=(20, 10))\n",
    "ax.barh(paises, casos, color='yellow')\n",
    "ax.set(xlabel='Cases', ylabel='Country',\n",
    "       title='Country Imported Cases')\n",
    "ax.grid()\n",
    "%matplot plt"
   ]
  },
  {
   "cell_type": "code",
   "execution_count": 43,
   "metadata": {},
   "outputs": [
    {
     "data": {
      "application/vnd.jupyter.widget-view+json": {
       "model_id": "f6f6e84ebdf343a7a77b982b6554bc0f",
       "version_major": 2,
       "version_minor": 0
      },
      "text/plain": [
       "VBox()"
      ]
     },
     "metadata": {},
     "output_type": "display_data"
    },
    {
     "data": {
      "application/vnd.jupyter.widget-view+json": {
       "model_id": "",
       "version_major": 2,
       "version_minor": 0
      },
      "text/plain": [
       "FloatProgress(value=0.0, bar_style='info', description='Progress:', layout=Layout(height='25px', width='50%'),…"
      ]
     },
     "metadata": {},
     "output_type": "display_data"
    },
    {
     "data": {
      "image/png": "[encoded data removed]",
      "text/plain": [
       "<IPython.core.display.Image object>"
      ]
     },
     "metadata": {},
     "output_type": "display_data"
    }
   ],
   "source": [
    "#Origenes del caso\n",
    "labels= df.groupBy('tipo').count().toPandas()['tipo'].values.tolist()\n",
    "sizes=df.groupBy('tipo').count().toPandas()['count'].values.tolist()\n",
    "#explode = (0.3, 0.1,0.1,0.1,0.1,0.1)  \n",
    "fig1, ax1 = plt.subplots()\n",
    "ax1.pie(sizes,  labels=labels, autopct='%1.1f%%',\n",
    "        shadow=True, startangle=90)\n",
    "ax1.axis('equal')\n",
    "ax1.set_title('Porcentajes del tipo de caso')\n",
    "%matplot plt"
   ]
  },
  {
   "cell_type": "code",
   "execution_count": 69,
   "metadata": {},
   "outputs": [
    {
     "data": {
      "application/vnd.jupyter.widget-view+json": {
       "model_id": "8f02a0be86e5454fb3f6518b19a7a45b",
       "version_major": 2,
       "version_minor": 0
      },
      "text/plain": [
       "VBox()"
      ]
     },
     "metadata": {},
     "output_type": "display_data"
    },
    {
     "data": {
      "application/vnd.jupyter.widget-view+json": {
       "model_id": "",
       "version_major": 2,
       "version_minor": 0
      },
      "text/plain": [
       "FloatProgress(value=0.0, bar_style='info', description='Progress:', layout=Layout(height='25px', width='50%'),…"
      ]
     },
     "metadata": {},
     "output_type": "display_data"
    },
    {
     "data": {
      "image/png": "[encoded data removed]",
      "text/plain": [
       "<IPython.core.display.Image object>"
      ]
     },
     "metadata": {},
     "output_type": "display_data"
    }
   ],
   "source": [
    "#Casos fallecidos y recuperaodos por sexo\n",
    "\n",
    "genderv = df.filter(df['atención']=='Recuperado').groupBy('Sexo').count().toPandas()['Sexo'].values.tolist()\n",
    "casesv = df.filter(df['atención']=='Recuperado').groupBy('Sexo').count().toPandas()['count'].values.tolist()\n",
    "\n",
    "genderm = df.filter(df['atención']=='Fallecido').groupBy('Sexo').count().toPandas()['Sexo'].values.tolist()\n",
    "casesm = df.filter(df['atención']=='Fallecido').groupBy('Sexo').count().toPandas()['count'].values.tolist()\n",
    "\n",
    "fig, ax = plt.subplots()\n",
    "ax.bar(genderv, casesv, color='Green', label=\"Recuperados\")\n",
    "ax.bar(genderm, casesm, color='Pink', label= \"Muertos\")\n",
    "ax.set(xlabel='Gender', ylabel='Cases',\n",
    "       title='Casos fallecidos y recuperados por sexo')\n",
    "ax.grid()\n",
    "ax.legend()\n",
    "%matplot plt"
   ]
  },
  {
   "cell_type": "code",
   "execution_count": 45,
   "metadata": {},
   "outputs": [
    {
     "data": {
      "application/vnd.jupyter.widget-view+json": {
       "model_id": "1d5147e9b10944d6a7260c7b16933e28",
       "version_major": 2,
       "version_minor": 0
      },
      "text/plain": [
       "VBox()"
      ]
     },
     "metadata": {},
     "output_type": "display_data"
    },
    {
     "data": {
      "application/vnd.jupyter.widget-view+json": {
       "model_id": "",
       "version_major": 2,
       "version_minor": 0
      },
      "text/plain": [
       "FloatProgress(value=0.0, bar_style='info', description='Progress:', layout=Layout(height='25px', width='50%'),…"
      ]
     },
     "metadata": {},
     "output_type": "display_data"
    },
    {
     "data": {
      "image/png": "[encoded data removed]",
      "text/plain": [
       "<IPython.core.display.Image object>"
      ]
     },
     "metadata": {},
     "output_type": "display_data"
    }
   ],
   "source": [
    "#Esrtado de los pacientes\n",
    "labels= df.groupBy('Estado').count().toPandas()['Estado'].values.tolist()\n",
    "sizes=df.groupBy('Estado').count().toPandas()['count'].values.tolist()\n",
    "explode = (0.3, 0.1,0.1,0.1,0.1,0.5)  \n",
    "fig1, ax1 = plt.subplots()\n",
    "ax1.pie(sizes, explode=explode, labels=labels, autopct='%1.1f%%',\n",
    "        shadow=False, startangle=90)\n",
    "ax1.axis('equal')\n",
    "ax1.set_title('Porcentajes de estados de los paciente')\n",
    "%matplot plt"
   ]
  },
  {
   "cell_type": "code",
   "execution_count": null,
   "metadata": {},
   "outputs": [],
   "source": []
  },
  {
   "cell_type": "code",
   "execution_count": null,
   "metadata": {},
   "outputs": [],
   "source": []
  },
  {
   "cell_type": "code",
   "execution_count": null,
   "metadata": {},
   "outputs": [],
   "source": []
  },
  {
   "cell_type": "code",
   "execution_count": null,
   "metadata": {},
   "outputs": [],
   "source": []
  },
  {
   "cell_type": "code",
   "execution_count": null,
   "metadata": {},
   "outputs": [],
   "source": []
  }
 ],
 "metadata": {
  "kernelspec": {
   "display_name": "PySpark",
   "language": "",
   "name": "pysparkkernel"
  },
  "language_info": {
   "codemirror_mode": {
    "name": "python",
    "version": 2
   },
   "mimetype": "text/x-python",
   "name": "pyspark",
   "pygments_lexer": "python2"
  }
 },
 "nbformat": 4,
 "nbformat_minor": 4
}
