{
 "cells": [
  {
   "cell_type": "code",
   "execution_count": 1,
   "metadata": {},
   "outputs": [
    {
     "data": {
      "application/vnd.jupyter.widget-view+json": {
       "model_id": "da89dfd55d21420e883e4ca1351bf47d",
       "version_major": 2,
       "version_minor": 0
      },
      "text/plain": [
       "VBox()"
      ]
     },
     "metadata": {},
     "output_type": "display_data"
    },
    {
     "name": "stdout",
     "output_type": "stream",
     "text": [
      "Starting Spark application\n"
     ]
    },
    {
     "data": {
      "text/html": [
       "<table>\n",
       "<tr><th>ID</th><th>YARN Application ID</th><th>Kind</th><th>State</th><th>Spark UI</th><th>Driver log</th><th>Current session?</th></tr><tr><td>5</td><td>application_1589660637587_0006</td><td>pyspark</td><td>idle</td><td><a target=\"_blank\" href=\"http://ip-172-31-20-232.ec2.internal:20888/proxy/application_1589660637587_0006/\">Link</a></td><td><a target=\"_blank\" href=\"http://ip-172-31-17-92.ec2.internal:8042/node/containerlogs/container_1589660637587_0006_01_000001/livy\">Link</a></td><td>✔</td></tr></table>"
      ],
      "text/plain": [
       "<IPython.core.display.HTML object>"
      ]
     },
     "metadata": {},
     "output_type": "display_data"
    },
    {
     "data": {
      "application/vnd.jupyter.widget-view+json": {
       "model_id": "",
       "version_major": 2,
       "version_minor": 0
      },
      "text/plain": [
       "FloatProgress(value=0.0, bar_style='info', description='Progress:', layout=Layout(height='25px', width='50%'),…"
      ]
     },
     "metadata": {},
     "output_type": "display_data"
    },
    {
     "name": "stdout",
     "output_type": "stream",
     "text": [
      "SparkSession available as 'spark'.\n"
     ]
    },
    {
     "data": {
      "application/vnd.jupyter.widget-view+json": {
       "model_id": "",
       "version_major": 2,
       "version_minor": 0
      },
      "text/plain": [
       "FloatProgress(value=0.0, bar_style='info', description='Progress:', layout=Layout(height='25px', width='50%'),…"
      ]
     },
     "metadata": {},
     "output_type": "display_data"
    },
    {
     "name": "stdout",
     "output_type": "stream",
     "text": [
      "<SparkContext master=yarn appName=livy-session-5>"
     ]
    }
   ],
   "source": [
    "sc"
   ]
  },
  {
   "cell_type": "code",
   "execution_count": 2,
   "metadata": {},
   "outputs": [
    {
     "name": "stdout",
     "output_type": "stream",
     "text": [
      "Starting Spark application\n"
     ]
    },
    {
     "data": {
      "text/html": [
       "<table>\n",
       "<tr><th>ID</th><th>YARN Application ID</th><th>Kind</th><th>State</th><th>Spark UI</th><th>Driver log</th><th>Current session?</th></tr><tr><td>6</td><td>application_1589660637587_0007</td><td>pyspark</td><td>idle</td><td><a target=\"_blank\" href=\"http://ip-172-31-20-232.ec2.internal:20888/proxy/application_1589660637587_0007/\">Link</a></td><td><a target=\"_blank\" href=\"http://ip-172-31-29-212.ec2.internal:8042/node/containerlogs/container_1589660637587_0007_01_000001/livy\">Link</a></td><td>✔</td></tr></table>"
      ],
      "text/plain": [
       "<IPython.core.display.HTML object>"
      ]
     },
     "metadata": {},
     "output_type": "display_data"
    },
    {
     "data": {
      "application/vnd.jupyter.widget-view+json": {
       "model_id": "",
       "version_major": 2,
       "version_minor": 0
      },
      "text/plain": [
       "FloatProgress(value=0.0, bar_style='info', description='Progress:', layout=Layout(height='25px', width='50%'),…"
      ]
     },
     "metadata": {},
     "output_type": "display_data"
    },
    {
     "name": "stdout",
     "output_type": "stream",
     "text": [
      "SparkSession available as 'spark'.\n"
     ]
    },
    {
     "data": {
      "text/html": [
       "Current session configs: <tt>{'conf': {'spark.pyspark.python': 'python3', 'spark.pyspark.virtualenv.enabled': 'true', 'spark.pyspark.virtualenv.type': 'native', 'spark.pyspark.virtualenv.bin.path': '/usr/bin/virtualenv'}, 'kind': 'pyspark'}</tt><br>"
      ],
      "text/plain": [
       "<IPython.core.display.HTML object>"
      ]
     },
     "metadata": {},
     "output_type": "display_data"
    },
    {
     "data": {
      "text/html": [
       "<table>\n",
       "<tr><th>ID</th><th>YARN Application ID</th><th>Kind</th><th>State</th><th>Spark UI</th><th>Driver log</th><th>Current session?</th></tr><tr><td>4</td><td>application_1589660637587_0005</td><td>pyspark</td><td>idle</td><td><a target=\"_blank\" href=\"http://ip-172-31-20-232.ec2.internal:20888/proxy/application_1589660637587_0005/\">Link</a></td><td><a target=\"_blank\" href=\"http://ip-172-31-29-212.ec2.internal:8042/node/containerlogs/container_1589660637587_0005_01_000001/livy\">Link</a></td><td></td></tr><tr><td>6</td><td>application_1589660637587_0007</td><td>pyspark</td><td>idle</td><td><a target=\"_blank\" href=\"http://ip-172-31-20-232.ec2.internal:20888/proxy/application_1589660637587_0007/\">Link</a></td><td><a target=\"_blank\" href=\"http://ip-172-31-29-212.ec2.internal:8042/node/containerlogs/container_1589660637587_0007_01_000001/livy\">Link</a></td><td>✔</td></tr></table>"
      ],
      "text/plain": [
       "<IPython.core.display.HTML object>"
      ]
     },
     "metadata": {},
     "output_type": "display_data"
    }
   ],
   "source": [
    "%%configure -f\n",
    "{ \"conf\":{\n",
    "\"spark.pyspark.python\": \"python3\",\n",
    "\"spark.pyspark.virtualenv.enabled\": \"true\",\n",
    "\"spark.pyspark.virtualenv.type\":\"native\",\n",
    "\"spark.pyspark.virtualenv.bin.path\":\"/usr/bin/virtualenv\"\n",
    "}}"
   ]
  },
  {
   "cell_type": "code",
   "execution_count": 3,
   "metadata": {},
   "outputs": [
    {
     "data": {
      "application/vnd.jupyter.widget-view+json": {
       "model_id": "b9cffb656fd3485c987388b44b9a0bf0",
       "version_major": 2,
       "version_minor": 0
      },
      "text/plain": [
       "VBox()"
      ]
     },
     "metadata": {},
     "output_type": "display_data"
    },
    {
     "data": {
      "application/vnd.jupyter.widget-view+json": {
       "model_id": "",
       "version_major": 2,
       "version_minor": 0
      },
      "text/plain": [
       "FloatProgress(value=0.0, bar_style='info', description='Progress:', layout=Layout(height='25px', width='50%'),…"
      ]
     },
     "metadata": {},
     "output_type": "display_data"
    },
    {
     "name": "stdout",
     "output_type": "stream",
     "text": [
      "Collecting pandas\n",
      "  Using cached pandas-1.0.3-cp36-cp36m-manylinux1_x86_64.whl (10.0 MB)\n",
      "Collecting python-dateutil>=2.6.1\n",
      "  Using cached python_dateutil-2.8.1-py2.py3-none-any.whl (227 kB)\n",
      "Requirement already satisfied: numpy>=1.13.3 in /usr/local/lib64/python3.6/site-packages (from pandas) (1.14.5)\n",
      "Requirement already satisfied: pytz>=2017.2 in /usr/local/lib/python3.6/site-packages (from pandas) (2019.2)\n",
      "Requirement already satisfied: six>=1.5 in /usr/local/lib/python3.6/site-packages (from python-dateutil>=2.6.1->pandas) (1.12.0)\n",
      "Installing collected packages: python-dateutil, pandas\n",
      "Successfully installed pandas-1.0.3 python-dateutil-2.8.1\n",
      "\n",
      "Collecting matplotlib\n",
      "  Using cached matplotlib-3.2.1-cp36-cp36m-manylinux1_x86_64.whl (12.4 MB)\n",
      "Collecting pyparsing!=2.0.4,!=2.1.2,!=2.1.6,>=2.0.1\n",
      "  Using cached pyparsing-2.4.7-py2.py3-none-any.whl (67 kB)\n",
      "Requirement already satisfied: numpy>=1.11 in /usr/local/lib64/python3.6/site-packages (from matplotlib) (1.14.5)\n",
      "Requirement already satisfied: python-dateutil>=2.1 in /mnt/tmp/1589666963535-0/lib/python3.6/site-packages (from matplotlib) (2.8.1)\n",
      "Collecting kiwisolver>=1.0.1\n",
      "  Using cached kiwisolver-1.2.0-cp36-cp36m-manylinux1_x86_64.whl (88 kB)\n",
      "Collecting cycler>=0.10\n",
      "  Using cached cycler-0.10.0-py2.py3-none-any.whl (6.5 kB)\n",
      "Requirement already satisfied: six>=1.5 in /usr/local/lib/python3.6/site-packages (from python-dateutil>=2.1->matplotlib) (1.12.0)\n",
      "Installing collected packages: pyparsing, kiwisolver, cycler, matplotlib\n",
      "Successfully installed cycler-0.10.0 kiwisolver-1.2.0 matplotlib-3.2.1 pyparsing-2.4.7"
     ]
    }
   ],
   "source": [
    "sc.install_pypi_package(\"pandas\")\n",
    "sc.install_pypi_package(\"matplotlib\")"
   ]
  },
  {
   "cell_type": "code",
   "execution_count": 4,
   "metadata": {},
   "outputs": [
    {
     "data": {
      "application/vnd.jupyter.widget-view+json": {
       "model_id": "4e1bf24cdfcd4e6b81106184a130173b",
       "version_major": 2,
       "version_minor": 0
      },
      "text/plain": [
       "VBox()"
      ]
     },
     "metadata": {},
     "output_type": "display_data"
    },
    {
     "data": {
      "application/vnd.jupyter.widget-view+json": {
       "model_id": "",
       "version_major": 2,
       "version_minor": 0
      },
      "text/plain": [
       "FloatProgress(value=0.0, bar_style='info', description='Progress:', layout=Layout(height='25px', width='50%'),…"
      ]
     },
     "metadata": {},
     "output_type": "display_data"
    }
   ],
   "source": [
    "from pyspark.sql import SparkSession"
   ]
  },
  {
   "cell_type": "code",
   "execution_count": 5,
   "metadata": {},
   "outputs": [
    {
     "data": {
      "application/vnd.jupyter.widget-view+json": {
       "model_id": "6dca26b1d11d4bc185019de6a09e929b",
       "version_major": 2,
       "version_minor": 0
      },
      "text/plain": [
       "VBox()"
      ]
     },
     "metadata": {},
     "output_type": "display_data"
    },
    {
     "data": {
      "application/vnd.jupyter.widget-view+json": {
       "model_id": "",
       "version_major": 2,
       "version_minor": 0
      },
      "text/plain": [
       "FloatProgress(value=0.0, bar_style='info', description='Progress:', layout=Layout(height='25px', width='50%'),…"
      ]
     },
     "metadata": {},
     "output_type": "display_data"
    }
   ],
   "source": [
    "#import SparkSession\n",
    "spark=SparkSession.builder.appName('data_processing').getOrCreate()"
   ]
  },
  {
   "cell_type": "code",
   "execution_count": 6,
   "metadata": {},
   "outputs": [
    {
     "data": {
      "application/vnd.jupyter.widget-view+json": {
       "model_id": "34cc448e3ad04582ba38b8181b6207f6",
       "version_major": 2,
       "version_minor": 0
      },
      "text/plain": [
       "VBox()"
      ]
     },
     "metadata": {},
     "output_type": "display_data"
    },
    {
     "data": {
      "application/vnd.jupyter.widget-view+json": {
       "model_id": "",
       "version_major": 2,
       "version_minor": 0
      },
      "text/plain": [
       "FloatProgress(value=0.0, bar_style='info', description='Progress:', layout=Layout(height='25px', width='50%'),…"
      ]
     },
     "metadata": {},
     "output_type": "display_data"
    }
   ],
   "source": [
    "#create spark session object\n",
    "col=spark.read.csv('s3://covid19proyecto3/datasets/colombia/Casos_positivos_de_COVID-19_en_Colombia.csv',inferSchema=True,header=True)"
   ]
  },
  {
   "cell_type": "code",
   "execution_count": 242,
   "metadata": {},
   "outputs": [
    {
     "data": {
      "application/vnd.jupyter.widget-view+json": {
       "model_id": "b6a1afff680441dea8ab649179c3f24a",
       "version_major": 2,
       "version_minor": 0
      },
      "text/plain": [
       "VBox()"
      ]
     },
     "metadata": {},
     "output_type": "display_data"
    },
    {
     "data": {
      "application/vnd.jupyter.widget-view+json": {
       "model_id": "",
       "version_major": 2,
       "version_minor": 0
      },
      "text/plain": [
       "FloatProgress(value=0.0, bar_style='info', description='Progress:', layout=Layout(height='25px', width='50%'),…"
      ]
     },
     "metadata": {},
     "output_type": "display_data"
    }
   ],
   "source": [
    "global_cases=spark.read.csv('s3://covid19proyecto3/datasets/mundial/time_series_covid19_confirmed_global_narrow.csv',inferSchema=True,header=True)"
   ]
  },
  {
   "cell_type": "code",
   "execution_count": 243,
   "metadata": {},
   "outputs": [
    {
     "data": {
      "application/vnd.jupyter.widget-view+json": {
       "model_id": "84c20ffc0a83499885c74a6e423bab8f",
       "version_major": 2,
       "version_minor": 0
      },
      "text/plain": [
       "VBox()"
      ]
     },
     "metadata": {},
     "output_type": "display_data"
    },
    {
     "data": {
      "application/vnd.jupyter.widget-view+json": {
       "model_id": "",
       "version_major": 2,
       "version_minor": 0
      },
      "text/plain": [
       "FloatProgress(value=0.0, bar_style='info', description='Progress:', layout=Layout(height='25px', width='50%'),…"
      ]
     },
     "metadata": {},
     "output_type": "display_data"
    }
   ],
   "source": [
    "global_recovered= spark.read.csv('s3://covid19proyecto3/datasets/mundial/time_series_covid19_recovered_global_narrow.csv',inferSchema=True,header=True)"
   ]
  },
  {
   "cell_type": "code",
   "execution_count": 244,
   "metadata": {},
   "outputs": [
    {
     "data": {
      "application/vnd.jupyter.widget-view+json": {
       "model_id": "1cf93f1c33bb4a4aa25ecda87b6957cb",
       "version_major": 2,
       "version_minor": 0
      },
      "text/plain": [
       "VBox()"
      ]
     },
     "metadata": {},
     "output_type": "display_data"
    },
    {
     "data": {
      "application/vnd.jupyter.widget-view+json": {
       "model_id": "",
       "version_major": 2,
       "version_minor": 0
      },
      "text/plain": [
       "FloatProgress(value=0.0, bar_style='info', description='Progress:', layout=Layout(height='25px', width='50%'),…"
      ]
     },
     "metadata": {},
     "output_type": "display_data"
    }
   ],
   "source": [
    "global_deaths= spark.read.csv('s3://covid19proyecto3/datasets/mundial/time_series_covid19_deaths_global_narrow.csv',inferSchema=True,header=True)"
   ]
  },
  {
   "cell_type": "code",
   "execution_count": 187,
   "metadata": {},
   "outputs": [
    {
     "data": {
      "application/vnd.jupyter.widget-view+json": {
       "model_id": "c73dba0e8d72467ab9d47e3a681592b1",
       "version_major": 2,
       "version_minor": 0
      },
      "text/plain": [
       "VBox()"
      ]
     },
     "metadata": {},
     "output_type": "display_data"
    },
    {
     "data": {
      "application/vnd.jupyter.widget-view+json": {
       "model_id": "",
       "version_major": 2,
       "version_minor": 0
      },
      "text/plain": [
       "FloatProgress(value=0.0, bar_style='info', description='Progress:', layout=Layout(height='25px', width='50%'),…"
      ]
     },
     "metadata": {},
     "output_type": "display_data"
    },
    {
     "name": "stdout",
     "output_type": "stream",
     "text": [
      "+--------------+----------+\n",
      "|Country/Region|max(Cases)|\n",
      "+--------------+----------+\n",
      "|            US|   1442824|\n",
      "|        Russia|    262843|\n",
      "|United Kingdom|    236711|\n",
      "|         Spain|    230183|\n",
      "|         Italy|    223885|\n",
      "|        Brazil|    220291|\n",
      "|        France|    177319|\n",
      "|       Germany|    175233|\n",
      "|        Turkey|    146457|\n",
      "|          Iran|    116635|\n",
      "|         India|     85784|\n",
      "|          Peru|     84495|\n",
      "|         China|     68134|\n",
      "|       Belgium|     54644|\n",
      "|  Saudi Arabia|     49176|\n",
      "|        Mexico|     45032|\n",
      "|   Netherlands|     43681|\n",
      "|        Canada|     41429|\n",
      "|         Chile|     39542|\n",
      "|      Pakistan|     38799|\n",
      "+--------------+----------+\n",
      "only showing top 20 rows"
     ]
    }
   ],
   "source": [
    "#Los 20 paises con mas casos confirmados\n",
    "global_cases = global_cases.withColumn(\"Cases\",global_cases['Value'].astype('Integer'))\n",
    "global_cases.groupBy('Country/Region').max('Cases').orderBy('max(Cases)', ascending=False).show()"
   ]
  },
  {
   "cell_type": "code",
   "execution_count": 188,
   "metadata": {
    "scrolled": false
   },
   "outputs": [
    {
     "data": {
      "application/vnd.jupyter.widget-view+json": {
       "model_id": "52772c4643454de9b1a3da893b4616c0",
       "version_major": 2,
       "version_minor": 0
      },
      "text/plain": [
       "VBox()"
      ]
     },
     "metadata": {},
     "output_type": "display_data"
    },
    {
     "data": {
      "application/vnd.jupyter.widget-view+json": {
       "model_id": "",
       "version_major": 2,
       "version_minor": 0
      },
      "text/plain": [
       "FloatProgress(value=0.0, bar_style='info', description='Progress:', layout=Layout(height='25px', width='50%'),…"
      ]
     },
     "metadata": {},
     "output_type": "display_data"
    },
    {
     "name": "stdout",
     "output_type": "stream",
     "text": [
      "+--------------------+----------+\n",
      "|      Country/Region|max(Cases)|\n",
      "+--------------------+----------+\n",
      "|             Lesotho|         1|\n",
      "|      Western Sahara|         6|\n",
      "| Sint Eustatius a...|         6|\n",
      "|    Papua New Guinea|         8|\n",
      "|          MS Zaandam|         9|\n",
      "|            Suriname|        10|\n",
      "|             Comoros|        11|\n",
      "|          Seychelles|        11|\n",
      "|            Holy See|        12|\n",
      "|             Burundi|        15|\n",
      "|Saint Kitts and N...|        15|\n",
      "|            Dominica|        16|\n",
      "|             Namibia|        16|\n",
      "|Saint Vincent and...|        17|\n",
      "|         Saint Lucia|        18|\n",
      "|              Belize|        18|\n",
      "|                Fiji|        18|\n",
      "|                Laos|        19|\n",
      "|              Bhutan|        21|\n",
      "|             Grenada|        22|\n",
      "+--------------------+----------+\n",
      "only showing top 20 rows"
     ]
    }
   ],
   "source": [
    "#20 paises con menos casos \n",
    "global_cases.groupBy('Country/Region').max('Cases').orderBy('max(Cases)', ascending=True).show()"
   ]
  },
  {
   "cell_type": "code",
   "execution_count": 189,
   "metadata": {},
   "outputs": [
    {
     "data": {
      "application/vnd.jupyter.widget-view+json": {
       "model_id": "de833c3742174b4e8a4c48f57f50fae6",
       "version_major": 2,
       "version_minor": 0
      },
      "text/plain": [
       "VBox()"
      ]
     },
     "metadata": {},
     "output_type": "display_data"
    },
    {
     "data": {
      "application/vnd.jupyter.widget-view+json": {
       "model_id": "",
       "version_major": 2,
       "version_minor": 0
      },
      "text/plain": [
       "FloatProgress(value=0.0, bar_style='info', description='Progress:', layout=Layout(height='25px', width='50%'),…"
      ]
     },
     "metadata": {},
     "output_type": "display_data"
    },
    {
     "name": "stdout",
     "output_type": "stream",
     "text": [
      "+--------------+----------+\n",
      "|Country/Region|max(Cases)|\n",
      "+--------------+----------+\n",
      "|            US|     87530|\n",
      "|United Kingdom|     33998|\n",
      "|         Italy|     31610|\n",
      "|        France|     27485|\n",
      "|         Spain|     27459|\n",
      "|        Brazil|     14962|\n",
      "|       Belgium|      8959|\n",
      "|       Germany|      7897|\n",
      "|          Iran|      6902|\n",
      "|   Netherlands|      5643|\n",
      "|        Mexico|      4767|\n",
      "|         China|      4512|\n",
      "|        Turkey|      4055|\n",
      "|        Sweden|      3646|\n",
      "|        Canada|      3402|\n",
      "|         India|      2753|\n",
      "|       Ecuador|      2594|\n",
      "|        Russia|      2418|\n",
      "|          Peru|      2392|\n",
      "|   Switzerland|      1878|\n",
      "+--------------+----------+\n",
      "only showing top 20 rows"
     ]
    }
   ],
   "source": [
    "#20 paises con mas muertes\n",
    "global_deaths = global_deaths.withColumn(\"Cases\",global_deaths['Value'].astype('Integer'))\n",
    "global_deaths.groupBy('Country/Region').max('Cases').orderBy('max(Cases)', ascending=False).show()"
   ]
  },
  {
   "cell_type": "code",
   "execution_count": 190,
   "metadata": {},
   "outputs": [
    {
     "data": {
      "application/vnd.jupyter.widget-view+json": {
       "model_id": "301e59dee90e43bd8b72d9fed2cc60f1",
       "version_major": 2,
       "version_minor": 0
      },
      "text/plain": [
       "VBox()"
      ]
     },
     "metadata": {},
     "output_type": "display_data"
    },
    {
     "data": {
      "application/vnd.jupyter.widget-view+json": {
       "model_id": "",
       "version_major": 2,
       "version_minor": 0
      },
      "text/plain": [
       "FloatProgress(value=0.0, bar_style='info', description='Progress:', layout=Layout(height='25px', width='50%'),…"
      ]
     },
     "metadata": {},
     "output_type": "display_data"
    },
    {
     "name": "stdout",
     "output_type": "stream",
     "text": [
      "+--------------------+----------+\n",
      "|      Country/Region|max(Cases)|\n",
      "+--------------------+----------+\n",
      "|             Namibia|         0|\n",
      "|         Saint Lucia|         0|\n",
      "|Saint Vincent and...|         0|\n",
      "|             Grenada|         0|\n",
      "|              Uganda|         0|\n",
      "|Saint Kitts and N...|         0|\n",
      "|            Holy See|         0|\n",
      "|              Bhutan|         0|\n",
      "|            Mongolia|         0|\n",
      "|                Laos|         0|\n",
      "|         Timor-Leste|         0|\n",
      "|            Cambodia|         0|\n",
      "|Central African R...|         0|\n",
      "|          Madagascar|         0|\n",
      "|                Fiji|         0|\n",
      "|              Rwanda|         0|\n",
      "|            Dominica|         0|\n",
      "|             Lesotho|         0|\n",
      "|      Western Sahara|         0|\n",
      "|             Eritrea|         0|\n",
      "+--------------------+----------+\n",
      "only showing top 20 rows"
     ]
    }
   ],
   "source": [
    "#20 paises con menos muertes \n",
    "global_deaths.groupBy('Country/Region').max('Cases').orderBy('max(Cases)', ascending=True).show()"
   ]
  },
  {
   "cell_type": "code",
   "execution_count": 191,
   "metadata": {},
   "outputs": [
    {
     "data": {
      "application/vnd.jupyter.widget-view+json": {
       "model_id": "9200f7e9b1c346a1b033b17775e27dc0",
       "version_major": 2,
       "version_minor": 0
      },
      "text/plain": [
       "VBox()"
      ]
     },
     "metadata": {},
     "output_type": "display_data"
    },
    {
     "data": {
      "application/vnd.jupyter.widget-view+json": {
       "model_id": "",
       "version_major": 2,
       "version_minor": 0
      },
      "text/plain": [
       "FloatProgress(value=0.0, bar_style='info', description='Progress:', layout=Layout(height='25px', width='50%'),…"
      ]
     },
     "metadata": {},
     "output_type": "display_data"
    },
    {
     "name": "stdout",
     "output_type": "stream",
     "text": [
      "+--------------+----------+\n",
      "|Country/Region|max(Cases)|\n",
      "+--------------+----------+\n",
      "|            US|    250747|\n",
      "|       Germany|    151597|\n",
      "|         Spain|    144783|\n",
      "|         Italy|    120205|\n",
      "|        Turkey|    106133|\n",
      "|          Iran|     91836|\n",
      "|        Brazil|     84970|\n",
      "|         China|     64435|\n",
      "|        France|     59143|\n",
      "|        Russia|     58226|\n",
      "|        Canada|     36908|\n",
      "|        Mexico|     30451|\n",
      "|         India|     30258|\n",
      "|          Peru|     27147|\n",
      "|   Switzerland|     27100|\n",
      "|  Saudi Arabia|     21869|\n",
      "|       Ireland|     19470|\n",
      "|         Chile|     16614|\n",
      "|       Austria|     14471|\n",
      "|       Belgium|     14301|\n",
      "+--------------+----------+\n",
      "only showing top 20 rows"
     ]
    }
   ],
   "source": [
    "#20 paises con mas recuperados\n",
    "global_recovered = global_recovered.withColumn(\"Cases\",global_recovered['Value'].astype('Integer'))\n",
    "global_recovered.groupBy('Country/Region').max('Cases').orderBy('max(Cases)', ascending=False).show()\n",
    "\n"
   ]
  },
  {
   "cell_type": "code",
   "execution_count": 192,
   "metadata": {},
   "outputs": [
    {
     "data": {
      "application/vnd.jupyter.widget-view+json": {
       "model_id": "8ce231f594f04dc6973c4160255ec704",
       "version_major": 2,
       "version_minor": 0
      },
      "text/plain": [
       "VBox()"
      ]
     },
     "metadata": {},
     "output_type": "display_data"
    },
    {
     "data": {
      "application/vnd.jupyter.widget-view+json": {
       "model_id": "",
       "version_major": 2,
       "version_minor": 0
      },
      "text/plain": [
       "FloatProgress(value=0.0, bar_style='info', description='Progress:', layout=Layout(height='25px', width='50%'),…"
      ]
     },
     "metadata": {},
     "output_type": "display_data"
    },
    {
     "name": "stdout",
     "output_type": "stream",
     "text": [
      "+--------------------+----------+\n",
      "|      Country/Region|max(Cases)|\n",
      "+--------------------+----------+\n",
      "|          Tajikistan|         0|\n",
      "|             Lesotho|         0|\n",
      "|          MS Zaandam|         0|\n",
      "|               Yemen|         1|\n",
      "|            Holy See|         2|\n",
      "|             Comoros|         3|\n",
      "|         South Sudan|         4|\n",
      "|Sao Tome and Prin...|         4|\n",
      "|              Bhutan|         5|\n",
      "| Sint Eustatius a...|         6|\n",
      "|      Western Sahara|         6|\n",
      "|          Mauritania|         7|\n",
      "|             Burundi|         7|\n",
      "|           Nicaragua|         7|\n",
      "|    Papua New Guinea|         8|\n",
      "|            Suriname|         9|\n",
      "|              Gambia|        10|\n",
      "|          Seychelles|        10|\n",
      "|             Namibia|        13|\n",
      "|Central African R...|        13|\n",
      "+--------------------+----------+\n",
      "only showing top 20 rows"
     ]
    }
   ],
   "source": [
    "#20 paises con menos recuperados\n",
    "global_recovered.groupBy('Country/Region').max('Cases').orderBy('max(Cases)', ascending=True).show()"
   ]
  },
  {
   "cell_type": "code",
   "execution_count": 267,
   "metadata": {},
   "outputs": [
    {
     "data": {
      "application/vnd.jupyter.widget-view+json": {
       "model_id": "f5585d1461a64ab5bb62f1735f58c677",
       "version_major": 2,
       "version_minor": 0
      },
      "text/plain": [
       "VBox()"
      ]
     },
     "metadata": {},
     "output_type": "display_data"
    },
    {
     "data": {
      "application/vnd.jupyter.widget-view+json": {
       "model_id": "",
       "version_major": 2,
       "version_minor": 0
      },
      "text/plain": [
       "FloatProgress(value=0.0, bar_style='info', description='Progress:', layout=Layout(height='25px', width='50%'),…"
      ]
     },
     "metadata": {},
     "output_type": "display_data"
    }
   ],
   "source": [
    "from pyspark.sql.functions import udf\n",
    "#Funcion para extraer el mes\n",
    "from pyspark.sql.types import StringType,DoubleType,IntegerType\n",
    "def cases_month(date): \n",
    "    date =str(date)\n",
    "    y,m,d=date.split('-')\n",
    "    return m"
   ]
  },
  {
   "cell_type": "code",
   "execution_count": 268,
   "metadata": {},
   "outputs": [
    {
     "data": {
      "application/vnd.jupyter.widget-view+json": {
       "model_id": "c234441ad9bd4dd7ad0554819be5b538",
       "version_major": 2,
       "version_minor": 0
      },
      "text/plain": [
       "VBox()"
      ]
     },
     "metadata": {},
     "output_type": "display_data"
    },
    {
     "data": {
      "application/vnd.jupyter.widget-view+json": {
       "model_id": "",
       "version_major": 2,
       "version_minor": 0
      },
      "text/plain": [
       "FloatProgress(value=0.0, bar_style='info', description='Progress:', layout=Layout(height='25px', width='50%'),…"
      ]
     },
     "metadata": {},
     "output_type": "display_data"
    }
   ],
   "source": [
    "#create udf using python function\n",
    "month_udf=udf(cases_month,StringType())\n",
    "#apply udf on dataframe\n",
    "global_cases=global_cases.withColumn('mes',month_udf(global_cases['Date']))"
   ]
  },
  {
   "cell_type": "code",
   "execution_count": 245,
   "metadata": {},
   "outputs": [
    {
     "data": {
      "application/vnd.jupyter.widget-view+json": {
       "model_id": "b8b7074f64604b0dab73f2baec774bbb",
       "version_major": 2,
       "version_minor": 0
      },
      "text/plain": [
       "VBox()"
      ]
     },
     "metadata": {},
     "output_type": "display_data"
    },
    {
     "data": {
      "application/vnd.jupyter.widget-view+json": {
       "model_id": "",
       "version_major": 2,
       "version_minor": 0
      },
      "text/plain": [
       "FloatProgress(value=0.0, bar_style='info', description='Progress:', layout=Layout(height='25px', width='50%'),…"
      ]
     },
     "metadata": {},
     "output_type": "display_data"
    },
    {
     "name": "stdout",
     "output_type": "stream",
     "text": [
      "+-----------+-----+\n",
      "|Region Code|count|\n",
      "+-----------+-----+\n",
      "|       null|  460|\n",
      "|        142| 9085|\n",
      "|         19| 7360|\n",
      "|          9| 1495|\n",
      "|        150| 5635|\n",
      "|          2| 6555|\n",
      "+-----------+-----+"
     ]
    }
   ],
   "source": [
    "global_cases.groupBy(\"Region Code\").count().show()\n",
    "\n",
    "#asignación de continente \n",
    "def continent(code):\n",
    "    if code == 142:\n",
    "        return 'Asia'\n",
    "    elif code == 150:\n",
    "        return 'Europa'\n",
    "    elif code == 2:\n",
    "        return 'Africa'\n",
    "    elif code == 19:\n",
    "        return 'America'\n",
    "    elif code == 9:\n",
    "        return 'Oceania'\n",
    "    else:\n",
    "       return 'null'\n",
    "\n"
   ]
  },
  {
   "cell_type": "code",
   "execution_count": 248,
   "metadata": {},
   "outputs": [
    {
     "data": {
      "application/vnd.jupyter.widget-view+json": {
       "model_id": "92173078ec9e4dc1a8588efc5008bc9f",
       "version_major": 2,
       "version_minor": 0
      },
      "text/plain": [
       "VBox()"
      ]
     },
     "metadata": {},
     "output_type": "display_data"
    },
    {
     "data": {
      "application/vnd.jupyter.widget-view+json": {
       "model_id": "",
       "version_major": 2,
       "version_minor": 0
      },
      "text/plain": [
       "FloatProgress(value=0.0, bar_style='info', description='Progress:', layout=Layout(height='25px', width='50%'),…"
      ]
     },
     "metadata": {},
     "output_type": "display_data"
    },
    {
     "name": "stdout",
     "output_type": "stream",
     "text": [
      "Casos totales por continentes\n",
      "America:1963551\n",
      "Europa:1694019\n",
      "Asia:743628\n",
      "Africa:79492\n",
      "Oceania:4658\n",
      "Casos recuperados por continentes\n",
      "America:470888\n",
      "Europa:693949\n",
      "Asia:417864\n",
      "Africa:29870\n",
      "Oceania:4121\n",
      "Casos fallecidos por continentes\n",
      "America:118237\n",
      "Europa:160296\n",
      "Asia:23871\n",
      "Africa:2640\n",
      "Oceania:66"
     ]
    }
   ],
   "source": [
    "#create udf using python function\n",
    "continent_udf=udf(continent,StringType())\n",
    "#apply udf on dataframe\n",
    "#Agregar columna de continentes en los dataframes\n",
    "global_cases=global_cases.withColumn('continent',continent_udf(global_cases['Region Code']))\n",
    "global_deaths=global_deaths.withColumn('continent',continent_udf(global_deaths['Region Code']))\n",
    "global_recovered=global_recovered.withColumn('continent',continent_udf(global_recovered['Region Code']))\n",
    "\n",
    "\n",
    "europa=global_cases.filter(global_cases['continent']=='Europa').groupBy('Country/Region').max('Value').groupBy().agg(F.sum(\"max(Value)\")).collect()\n",
    "america=global_cases.filter(global_cases['continent']=='America').groupBy('Country/Region').max('Value').groupBy().agg(F.sum(\"max(Value)\")).collect()\n",
    "asia=global_cases.filter(global_cases['continent']=='Asia').groupBy('Country/Region').max('Value').groupBy().agg(F.sum(\"max(Value)\")).collect()\n",
    "africa=global_cases.filter(global_cases['continent']=='Africa').groupBy('Country/Region').max('Value').groupBy().agg(F.sum(\"max(Value)\")).collect()\n",
    "oceania=global_cases.filter(global_cases['continent']=='Oceania').groupBy('Country/Region').max('Value').groupBy().agg(F.sum(\"max(Value)\")).collect()\n",
    "\n",
    "europad=global_deaths.filter(global_deaths['continent']=='Europa').groupBy('Country/Region').max('Value').groupBy().agg(F.sum(\"max(Value)\")).collect()\n",
    "americad=global_deaths.filter(global_deaths['continent']=='America').groupBy('Country/Region').max('Value').groupBy().agg(F.sum(\"max(Value)\")).collect()\n",
    "asiad=global_deaths.filter(global_deaths['continent']=='Asia').groupBy('Country/Region').max('Value').groupBy().agg(F.sum(\"max(Value)\")).collect()\n",
    "africad=global_deaths.filter(global_deaths['continent']=='Africa').groupBy('Country/Region').max('Value').groupBy().agg(F.sum(\"max(Value)\")).collect()\n",
    "oceaniad=global_deaths.filter(global_deaths['continent']=='Oceania').groupBy('Country/Region').max('Value').groupBy().agg(F.sum(\"max(Value)\")).collect()\n",
    "\n",
    "europar=global_recovered.filter(global_recovered['continent']=='Europa').groupBy('Country/Region').max('Value').groupBy().agg(F.sum(\"max(Value)\")).collect()\n",
    "americar=global_recovered.filter(global_recovered['continent']=='America').groupBy('Country/Region').max('Value').groupBy().agg(F.sum(\"max(Value)\")).collect()\n",
    "asiar=global_recovered.filter(global_recovered['continent']=='Asia').groupBy('Country/Region').max('Value').groupBy().agg(F.sum(\"max(Value)\")).collect()\n",
    "africar=global_recovered.filter(global_recovered['continent']=='Africa').groupBy('Country/Region').max('Value').groupBy().agg(F.sum(\"max(Value)\")).collect()\n",
    "oceaniar=global_recovered.filter(global_recovered['continent']=='Oceania').groupBy('Country/Region').max('Value').groupBy().agg(F.sum(\"max(Value)\")).collect()\n",
    "\n",
    "\n",
    "#Casos por continente\n",
    "print('Casos totales por continentes')\n",
    "print('America:'+str(america[0]['sum(max(Value))']))\n",
    "print('Europa:'+str(europa[0]['sum(max(Value))']))\n",
    "print('Asia:'+str(asia[0]['sum(max(Value))']))\n",
    "print('Africa:'+str(africa[0]['sum(max(Value))']))\n",
    "print('Oceania:'+str(oceania[0]['sum(max(Value))']))\n",
    "\n",
    "#Casos recuperados por continente\n",
    "print('Casos recuperados por continentes')\n",
    "print('America:'+str(americar[0]['sum(max(Value))']))\n",
    "print('Europa:'+str(europar[0]['sum(max(Value))']))\n",
    "print('Asia:'+str(asiar[0]['sum(max(Value))']))\n",
    "print('Africa:'+str(africar[0]['sum(max(Value))']))\n",
    "print('Oceania:'+str(oceaniar[0]['sum(max(Value))']))\n",
    "\n",
    "#Casos fallecidos por continente\n",
    "print('Casos fallecidos por continentes')\n",
    "print('America:'+str(americad[0]['sum(max(Value))']))\n",
    "print('Europa:'+str(europad[0]['sum(max(Value))']))\n",
    "print('Asia:'+str(asiad[0]['sum(max(Value))']))\n",
    "print('Africa:'+str(africad[0]['sum(max(Value))']))\n",
    "print('Oceania:'+str(oceaniad[0]['sum(max(Value))']))"
   ]
  },
  {
   "cell_type": "code",
   "execution_count": 197,
   "metadata": {},
   "outputs": [
    {
     "data": {
      "application/vnd.jupyter.widget-view+json": {
       "model_id": "288212313a054ecfb359318698878995",
       "version_major": 2,
       "version_minor": 0
      },
      "text/plain": [
       "VBox()"
      ]
     },
     "metadata": {},
     "output_type": "display_data"
    },
    {
     "data": {
      "application/vnd.jupyter.widget-view+json": {
       "model_id": "",
       "version_major": 2,
       "version_minor": 0
      },
      "text/plain": [
       "FloatProgress(value=0.0, bar_style='info', description='Progress:', layout=Layout(height='25px', width='50%'),…"
      ]
     },
     "metadata": {},
     "output_type": "display_data"
    }
   ],
   "source": [
    "from pyspark.sql import functions as F"
   ]
  },
  {
   "cell_type": "code",
   "execution_count": 198,
   "metadata": {},
   "outputs": [
    {
     "data": {
      "application/vnd.jupyter.widget-view+json": {
       "model_id": "944ee7ba4c8c400a9fdef818be0a9431",
       "version_major": 2,
       "version_minor": 0
      },
      "text/plain": [
       "VBox()"
      ]
     },
     "metadata": {},
     "output_type": "display_data"
    },
    {
     "data": {
      "application/vnd.jupyter.widget-view+json": {
       "model_id": "",
       "version_major": 2,
       "version_minor": 0
      },
      "text/plain": [
       "FloatProgress(value=0.0, bar_style='info', description='Progress:', layout=Layout(height='25px', width='50%'),…"
      ]
     },
     "metadata": {},
     "output_type": "display_data"
    }
   ],
   "source": [
    "#casos totales en el mundo\n",
    "total_cases=global_cases.groupBy('Country/Region').max('Cases').groupBy().agg(F.sum(\"max(Cases)\")).collect()"
   ]
  },
  {
   "cell_type": "code",
   "execution_count": 199,
   "metadata": {},
   "outputs": [
    {
     "data": {
      "application/vnd.jupyter.widget-view+json": {
       "model_id": "8b118787049043749a743d3eb600a1c6",
       "version_major": 2,
       "version_minor": 0
      },
      "text/plain": [
       "VBox()"
      ]
     },
     "metadata": {},
     "output_type": "display_data"
    },
    {
     "data": {
      "application/vnd.jupyter.widget-view+json": {
       "model_id": "",
       "version_major": 2,
       "version_minor": 0
      },
      "text/plain": [
       "FloatProgress(value=0.0, bar_style='info', description='Progress:', layout=Layout(height='25px', width='50%'),…"
      ]
     },
     "metadata": {},
     "output_type": "display_data"
    },
    {
     "name": "stdout",
     "output_type": "stream",
     "text": [
      "4484373"
     ]
    }
   ],
   "source": [
    "print(total_cases[0]['sum(max(Cases))']) "
   ]
  },
  {
   "cell_type": "code",
   "execution_count": 200,
   "metadata": {},
   "outputs": [
    {
     "data": {
      "application/vnd.jupyter.widget-view+json": {
       "model_id": "dc3a2098c7984f498094d0a7ab352cf4",
       "version_major": 2,
       "version_minor": 0
      },
      "text/plain": [
       "VBox()"
      ]
     },
     "metadata": {},
     "output_type": "display_data"
    },
    {
     "data": {
      "application/vnd.jupyter.widget-view+json": {
       "model_id": "",
       "version_major": 2,
       "version_minor": 0
      },
      "text/plain": [
       "FloatProgress(value=0.0, bar_style='info', description='Progress:', layout=Layout(height='25px', width='50%'),…"
      ]
     },
     "metadata": {},
     "output_type": "display_data"
    }
   ],
   "source": [
    "#total de recuperados en el mundo\n",
    "total_recovered=global_recovered.groupBy('Country/Region').max('Cases').groupBy().agg(F.sum(\"max(Cases)\")).collect()"
   ]
  },
  {
   "cell_type": "code",
   "execution_count": 201,
   "metadata": {},
   "outputs": [
    {
     "data": {
      "application/vnd.jupyter.widget-view+json": {
       "model_id": "516c3609d03a434fa30550c44fbd463b",
       "version_major": 2,
       "version_minor": 0
      },
      "text/plain": [
       "VBox()"
      ]
     },
     "metadata": {},
     "output_type": "display_data"
    },
    {
     "data": {
      "application/vnd.jupyter.widget-view+json": {
       "model_id": "",
       "version_major": 2,
       "version_minor": 0
      },
      "text/plain": [
       "FloatProgress(value=0.0, bar_style='info', description='Progress:', layout=Layout(height='25px', width='50%'),…"
      ]
     },
     "metadata": {},
     "output_type": "display_data"
    },
    {
     "name": "stdout",
     "output_type": "stream",
     "text": [
      "1616363"
     ]
    }
   ],
   "source": [
    "print(total_recovered[0]['sum(max(Cases))']) "
   ]
  },
  {
   "cell_type": "code",
   "execution_count": 202,
   "metadata": {},
   "outputs": [
    {
     "data": {
      "application/vnd.jupyter.widget-view+json": {
       "model_id": "f070549749c7464fa17559771a91a875",
       "version_major": 2,
       "version_minor": 0
      },
      "text/plain": [
       "VBox()"
      ]
     },
     "metadata": {},
     "output_type": "display_data"
    },
    {
     "data": {
      "application/vnd.jupyter.widget-view+json": {
       "model_id": "",
       "version_major": 2,
       "version_minor": 0
      },
      "text/plain": [
       "FloatProgress(value=0.0, bar_style='info', description='Progress:', layout=Layout(height='25px', width='50%'),…"
      ]
     },
     "metadata": {},
     "output_type": "display_data"
    }
   ],
   "source": [
    "#muertes totales en el mundo\n",
    "total_deaths=global_deaths.groupBy('Country/Region').max('Cases').groupBy().agg(F.sum(\"max(Cases)\")).collect()"
   ]
  },
  {
   "cell_type": "code",
   "execution_count": 203,
   "metadata": {
    "scrolled": true
   },
   "outputs": [
    {
     "data": {
      "application/vnd.jupyter.widget-view+json": {
       "model_id": "bc97f45d93f34e73b0507d8c7a8a92a0",
       "version_major": 2,
       "version_minor": 0
      },
      "text/plain": [
       "VBox()"
      ]
     },
     "metadata": {},
     "output_type": "display_data"
    },
    {
     "data": {
      "application/vnd.jupyter.widget-view+json": {
       "model_id": "",
       "version_major": 2,
       "version_minor": 0
      },
      "text/plain": [
       "FloatProgress(value=0.0, bar_style='info', description='Progress:', layout=Layout(height='25px', width='50%'),…"
      ]
     },
     "metadata": {},
     "output_type": "display_data"
    },
    {
     "name": "stdout",
     "output_type": "stream",
     "text": [
      "305071"
     ]
    }
   ],
   "source": [
    "print(total_deaths[0]['sum(max(Cases))']) "
   ]
  },
  {
   "cell_type": "code",
   "execution_count": 300,
   "metadata": {},
   "outputs": [
    {
     "data": {
      "application/vnd.jupyter.widget-view+json": {
       "model_id": "819c6ebd24e34254aa503176f5b2eb8d",
       "version_major": 2,
       "version_minor": 0
      },
      "text/plain": [
       "VBox()"
      ]
     },
     "metadata": {},
     "output_type": "display_data"
    },
    {
     "data": {
      "application/vnd.jupyter.widget-view+json": {
       "model_id": "",
       "version_major": 2,
       "version_minor": 0
      },
      "text/plain": [
       "FloatProgress(value=0.0, bar_style='info', description='Progress:', layout=Layout(height='25px', width='50%'),…"
      ]
     },
     "metadata": {},
     "output_type": "display_data"
    },
    {
     "name": "stdout",
     "output_type": "stream",
     "text": [
      "root\n",
      " |-- Province/State: string (nullable = true)\n",
      " |-- Country/Region: string (nullable = true)\n",
      " |-- Lat: double (nullable = true)\n",
      " |-- Long: double (nullable = true)\n",
      " |-- Date: timestamp (nullable = true)\n",
      " |-- Value: integer (nullable = true)\n",
      " |-- ISO 3166-1 Alpha 3-Codes: string (nullable = true)\n",
      " |-- Region Code: integer (nullable = true)\n",
      " |-- Sub-region Code: integer (nullable = true)\n",
      " |-- Intermediate Region Code: string (nullable = true)\n",
      " |-- continent: string (nullable = true)\n",
      " |-- mes: string (nullable = true)\n",
      " |-- Dates: string (nullable = true)"
     ]
    }
   ],
   "source": [
    "#printSchema\n",
    "global_cases.printSchema()"
   ]
  },
  {
   "cell_type": "code",
   "execution_count": 269,
   "metadata": {},
   "outputs": [
    {
     "data": {
      "application/vnd.jupyter.widget-view+json": {
       "model_id": "73483526b63a470b95022690b4b8ce0d",
       "version_major": 2,
       "version_minor": 0
      },
      "text/plain": [
       "VBox()"
      ]
     },
     "metadata": {},
     "output_type": "display_data"
    },
    {
     "data": {
      "application/vnd.jupyter.widget-view+json": {
       "model_id": "",
       "version_major": 2,
       "version_minor": 0
      },
      "text/plain": [
       "FloatProgress(value=0.0, bar_style='info', description='Progress:', layout=Layout(height='25px', width='50%'),…"
      ]
     },
     "metadata": {},
     "output_type": "display_data"
    },
    {
     "name": "stdout",
     "output_type": "stream",
     "text": [
      "+---+----------+\n",
      "|mes|max(value)|\n",
      "+---+----------+\n",
      "| 01|      5806|\n",
      "| 02|     66337|\n",
      "| 03|    188172|\n",
      "| 04|   1069424|\n",
      "| 05|   1442824|\n",
      "+---+----------+"
     ]
    }
   ],
   "source": [
    "#Mayores casos totales por mes\n",
    "global_cases.groupBy('mes').max('value').orderBy('mes',ascendent=False).show()"
   ]
  },
  {
   "cell_type": "code",
   "execution_count": 272,
   "metadata": {},
   "outputs": [
    {
     "data": {
      "application/vnd.jupyter.widget-view+json": {
       "model_id": "2ff8047fa2ed42af8ea98b96f0add675",
       "version_major": 2,
       "version_minor": 0
      },
      "text/plain": [
       "VBox()"
      ]
     },
     "metadata": {},
     "output_type": "display_data"
    },
    {
     "data": {
      "application/vnd.jupyter.widget-view+json": {
       "model_id": "",
       "version_major": 2,
       "version_minor": 0
      },
      "text/plain": [
       "FloatProgress(value=0.0, bar_style='info', description='Progress:', layout=Layout(height='25px', width='50%'),…"
      ]
     },
     "metadata": {},
     "output_type": "display_data"
    }
   ],
   "source": [
    "global_deaths=global_deaths.withColumn('mes',month_udf(global_deaths['Date']))\n",
    "global_recovered=global_recovered.withColumn('mes',month_udf(global_recovered['Date']))"
   ]
  },
  {
   "cell_type": "code",
   "execution_count": 273,
   "metadata": {},
   "outputs": [
    {
     "data": {
      "application/vnd.jupyter.widget-view+json": {
       "model_id": "cddc291468de4fd4a199fdbde716dfe7",
       "version_major": 2,
       "version_minor": 0
      },
      "text/plain": [
       "VBox()"
      ]
     },
     "metadata": {},
     "output_type": "display_data"
    },
    {
     "data": {
      "application/vnd.jupyter.widget-view+json": {
       "model_id": "",
       "version_major": 2,
       "version_minor": 0
      },
      "text/plain": [
       "FloatProgress(value=0.0, bar_style='info', description='Progress:', layout=Layout(height='25px', width='50%'),…"
      ]
     },
     "metadata": {},
     "output_type": "display_data"
    },
    {
     "name": "stdout",
     "output_type": "stream",
     "text": [
      "+---+----------+\n",
      "|mes|max(Value)|\n",
      "+---+----------+\n",
      "| 01|       204|\n",
      "| 02|      2727|\n",
      "| 03|     12428|\n",
      "| 04|     62996|\n",
      "| 05|     87530|\n",
      "+---+----------+\n",
      "\n",
      "+---+----------+\n",
      "|mes|max(Value)|\n",
      "+---+----------+\n",
      "| 01|       141|\n",
      "| 02|     28993|\n",
      "| 03|     63153|\n",
      "| 04|    153947|\n",
      "| 05|    250747|\n",
      "+---+----------+"
     ]
    }
   ],
   "source": [
    "#Los mayores casos globales de muertes y recuperaciones por cada mes\n",
    "global_deaths.groupBy('mes').max('Value').orderBy('mes',ascendent=False).show()\n",
    "global_recovered.groupBy('mes').max('Value').orderBy('mes',ascendent=False).show()"
   ]
  },
  {
   "cell_type": "code",
   "execution_count": 208,
   "metadata": {},
   "outputs": [
    {
     "data": {
      "application/vnd.jupyter.widget-view+json": {
       "model_id": "e21ff1de8a0c4e1b8f088946c699404f",
       "version_major": 2,
       "version_minor": 0
      },
      "text/plain": [
       "VBox()"
      ]
     },
     "metadata": {},
     "output_type": "display_data"
    },
    {
     "data": {
      "application/vnd.jupyter.widget-view+json": {
       "model_id": "",
       "version_major": 2,
       "version_minor": 0
      },
      "text/plain": [
       "FloatProgress(value=0.0, bar_style='info', description='Progress:', layout=Layout(height='25px', width='50%'),…"
      ]
     },
     "metadata": {},
     "output_type": "display_data"
    },
    {
     "name": "stdout",
     "output_type": "stream",
     "text": [
      "+-------------------+----------+\n",
      "|               Date|max(Value)|\n",
      "+-------------------+----------+\n",
      "|2020-01-22 00:00:00|       444|\n",
      "|2020-01-23 00:00:00|       444|\n",
      "|2020-01-24 00:00:00|       549|\n",
      "|2020-01-25 00:00:00|       761|\n",
      "|2020-01-26 00:00:00|      1058|\n",
      "|2020-01-27 00:00:00|      1423|\n",
      "|2020-01-28 00:00:00|      3554|\n",
      "|2020-01-29 00:00:00|      3554|\n",
      "|2020-01-30 00:00:00|      4903|\n",
      "|2020-01-31 00:00:00|      5806|\n",
      "|2020-02-01 00:00:00|      7153|\n",
      "|2020-02-02 00:00:00|     11177|\n",
      "|2020-02-03 00:00:00|     13522|\n",
      "|2020-02-04 00:00:00|     16678|\n",
      "|2020-02-05 00:00:00|     19665|\n",
      "|2020-02-06 00:00:00|     22112|\n",
      "|2020-02-07 00:00:00|     24953|\n",
      "|2020-02-08 00:00:00|     27100|\n",
      "|2020-02-09 00:00:00|     29631|\n",
      "|2020-02-10 00:00:00|     31728|\n",
      "+-------------------+----------+\n",
      "only showing top 20 rows"
     ]
    }
   ],
   "source": [
    "#Mayores casos por fecha\n",
    "global_cases.groupBy('Date').max('Value').orderBy('Date', ascending=True).show()"
   ]
  },
  {
   "cell_type": "code",
   "execution_count": null,
   "metadata": {},
   "outputs": [],
   "source": []
  },
  {
   "cell_type": "code",
   "execution_count": 209,
   "metadata": {},
   "outputs": [
    {
     "data": {
      "application/vnd.jupyter.widget-view+json": {
       "model_id": "10b475ce8034409bb542cc2569ddc21d",
       "version_major": 2,
       "version_minor": 0
      },
      "text/plain": [
       "VBox()"
      ]
     },
     "metadata": {},
     "output_type": "display_data"
    },
    {
     "data": {
      "application/vnd.jupyter.widget-view+json": {
       "model_id": "",
       "version_major": 2,
       "version_minor": 0
      },
      "text/plain": [
       "FloatProgress(value=0.0, bar_style='info', description='Progress:', layout=Layout(height='25px', width='50%'),…"
      ]
     },
     "metadata": {},
     "output_type": "display_data"
    }
   ],
   "source": [
    "#Libreria matplot y pandas\n",
    "import matplotlib.pyplot as plt\n",
    "import pandas as pd\n"
   ]
  },
  {
   "cell_type": "code",
   "execution_count": 210,
   "metadata": {},
   "outputs": [
    {
     "data": {
      "application/vnd.jupyter.widget-view+json": {
       "model_id": "58d8163f40f54c458e88a25f7c705fac",
       "version_major": 2,
       "version_minor": 0
      },
      "text/plain": [
       "VBox()"
      ]
     },
     "metadata": {},
     "output_type": "display_data"
    },
    {
     "data": {
      "application/vnd.jupyter.widget-view+json": {
       "model_id": "",
       "version_major": 2,
       "version_minor": 0
      },
      "text/plain": [
       "FloatProgress(value=0.0, bar_style='info', description='Progress:', layout=Layout(height='25px', width='50%'),…"
      ]
     },
     "metadata": {},
     "output_type": "display_data"
    },
    {
     "data": {
      "image/png": "[encoded data removed]",
      "text/plain": [
       "<IPython.core.display.Image object>"
      ]
     },
     "metadata": {},
     "output_type": "display_data"
    }
   ],
   "source": [
    "#Casos actuales en el mundo\n",
    "actives = total_cases[0]['sum(max(Cases))']-(total_recovered[0]['sum(max(Cases))']+total_deaths[0]['sum(max(Cases))'])\n",
    "recovered =total_recovered[0]['sum(max(Cases))']\n",
    "death = total_deaths[0]['sum(max(Cases))']\n",
    "labels= ['Activos','Recuperados', 'Fallecidos']\n",
    "sizes=[actives,recovered,death]\n",
    "fig1, ax1 = plt.subplots()\n",
    "ax1.pie(sizes,  labels=labels, autopct='%1.1f%%',\n",
    "        shadow=True, startangle=90)\n",
    "ax1.axis('equal')\n",
    "ax1.set_title('Casos globales')\n",
    "%matplot plt"
   ]
  },
  {
   "cell_type": "code",
   "execution_count": 241,
   "metadata": {},
   "outputs": [
    {
     "data": {
      "application/vnd.jupyter.widget-view+json": {
       "model_id": "7e3811b0d3724fa3b06ec1572d1d19de",
       "version_major": 2,
       "version_minor": 0
      },
      "text/plain": [
       "VBox()"
      ]
     },
     "metadata": {},
     "output_type": "display_data"
    },
    {
     "data": {
      "application/vnd.jupyter.widget-view+json": {
       "model_id": "",
       "version_major": 2,
       "version_minor": 0
      },
      "text/plain": [
       "FloatProgress(value=0.0, bar_style='info', description='Progress:', layout=Layout(height='25px', width='50%'),…"
      ]
     },
     "metadata": {},
     "output_type": "display_data"
    },
    {
     "data": {
      "image/png": "[encoded data removed]",
      "text/plain": [
       "<IPython.core.display.Image object>"
      ]
     },
     "metadata": {},
     "output_type": "display_data"
    }
   ],
   "source": [
    "#Casos totales, recuperados y de muertes por cada continente\n",
    "\n",
    "contc = ['America','Asia','Africa', 'Oceania','Europa']\n",
    "casosc=[america[0]['sum(max(Value))'],asia[0]['sum(max(Value))'],africa[0]['sum(max(Value))'],oceania[0]['sum(max(Value))'],europa[0]['sum(max(Value))']]\n",
    "\n",
    "casosr=[americar[0]['sum(max(Value))'],asiar[0]['sum(max(Value))'],africar[0]['sum(max(Value))'],oceaniar[0]['sum(max(Value))'],europar[0]['sum(max(Value))']]\n",
    "\n",
    "casosd=[americad[0]['sum(max(Value))'],asiad[0]['sum(max(Value))'],africad[0]['sum(max(Value))'],oceaniad[0]['sum(max(Value))'],europad[0]['sum(max(Value))']]\n",
    "\n",
    "fig, ax = plt.subplots(figsize=(10, 5))\n",
    "ax.barh(contc, casosc, color='Orange', label ='Casos totales')\n",
    "ax.barh(contc, casosr, color='Green', label ='Casos recuperados')\n",
    "ax.barh(contc, casosd, color='Red', label ='Casos fallecidos')\n",
    "ax.set(xlabel='Cases', ylabel='Country',\n",
    "       title='Casos por continente')\n",
    "ax.grid()\n",
    "ax.legend()\n",
    "%matplot plt"
   ]
  },
  {
   "cell_type": "code",
   "execution_count": 277,
   "metadata": {},
   "outputs": [
    {
     "data": {
      "application/vnd.jupyter.widget-view+json": {
       "model_id": "b8b1e57389d84d7fa12d21434e8367eb",
       "version_major": 2,
       "version_minor": 0
      },
      "text/plain": [
       "VBox()"
      ]
     },
     "metadata": {},
     "output_type": "display_data"
    },
    {
     "data": {
      "application/vnd.jupyter.widget-view+json": {
       "model_id": "",
       "version_major": 2,
       "version_minor": 0
      },
      "text/plain": [
       "FloatProgress(value=0.0, bar_style='info', description='Progress:', layout=Layout(height='25px', width='50%'),…"
      ]
     },
     "metadata": {},
     "output_type": "display_data"
    },
    {
     "data": {
      "image/png": "[encoded data removed]",
      "text/plain": [
       "<IPython.core.display.Image object>"
      ]
     },
     "metadata": {},
     "output_type": "display_data"
    }
   ],
   "source": [
    "#Mayores casos reportados por mes\n",
    "meses=  global_cases.groupBy('mes').max('Value').orderBy('mes',ascending=True).toPandas()['mes'].values.tolist()\n",
    "cantidad= global_cases.groupBy('mes').max('Value').orderBy('mes',ascending=True).toPandas()['max(Value)'].values.tolist()\n",
    "fig, ax = plt.subplots()\n",
    "ax.plot(meses, cantidad)\n",
    "ax.set(xlabel='Months', ylabel='Cases',\n",
    "       title='Mayores casos reportados por mes')\n",
    "ax.grid()\n",
    "%matplot plt"
   ]
  },
  {
   "cell_type": "code",
   "execution_count": 288,
   "metadata": {},
   "outputs": [
    {
     "data": {
      "application/vnd.jupyter.widget-view+json": {
       "model_id": "bc4e40fa62c64e5793b9a0f42259f11c",
       "version_major": 2,
       "version_minor": 0
      },
      "text/plain": [
       "VBox()"
      ]
     },
     "metadata": {},
     "output_type": "display_data"
    },
    {
     "data": {
      "application/vnd.jupyter.widget-view+json": {
       "model_id": "",
       "version_major": 2,
       "version_minor": 0
      },
      "text/plain": [
       "FloatProgress(value=0.0, bar_style='info', description='Progress:', layout=Layout(height='25px', width='50%'),…"
      ]
     },
     "metadata": {},
     "output_type": "display_data"
    },
    {
     "data": {
      "image/png": "[encoded data removed]",
      "text/plain": [
       "<IPython.core.display.Image object>"
      ]
     },
     "metadata": {},
     "output_type": "display_data"
    }
   ],
   "source": [
    "#Los 10 paises con mas casos\n",
    "paises=  global_cases.groupBy('Country/Region').max('Value').orderBy('max(Value)',ascending=False).toPandas()['Country/Region'].values.tolist()\n",
    "casos=global_cases.groupBy('Country/Region').max('Value').orderBy('max(Value)',ascending=False).toPandas()['max(Value)'].values.tolist()\n",
    "fig, ax = plt.subplots(figsize=(12,5))\n",
    "ax.bar(paises[0:10], casos[0:10])\n",
    "ax.set(xlabel='Cases', ylabel='Country',\n",
    "       title='Top Paises con mas casos')\n",
    "ax.grid()\n",
    "%matplot plt"
   ]
  },
  {
   "cell_type": "code",
   "execution_count": 290,
   "metadata": {},
   "outputs": [
    {
     "data": {
      "application/vnd.jupyter.widget-view+json": {
       "model_id": "670ab871a8824b25ae05072f20fda40f",
       "version_major": 2,
       "version_minor": 0
      },
      "text/plain": [
       "VBox()"
      ]
     },
     "metadata": {},
     "output_type": "display_data"
    },
    {
     "data": {
      "application/vnd.jupyter.widget-view+json": {
       "model_id": "",
       "version_major": 2,
       "version_minor": 0
      },
      "text/plain": [
       "FloatProgress(value=0.0, bar_style='info', description='Progress:', layout=Layout(height='25px', width='50%'),…"
      ]
     },
     "metadata": {},
     "output_type": "display_data"
    },
    {
     "data": {
      "image/png": "[encoded data removed]",
      "text/plain": [
       "<IPython.core.display.Image object>"
      ]
     },
     "metadata": {},
     "output_type": "display_data"
    }
   ],
   "source": [
    "#Los 10 paises con mas recuperados\n",
    "paises=  global_recovered.groupBy('Country/Region').max('Value').orderBy('max(Value)',ascending=False).toPandas()['Country/Region'].values.tolist()\n",
    "casos=global_recovered.groupBy('Country/Region').max('Value').orderBy('max(Value)',ascending=False).toPandas()['max(Value)'].values.tolist()\n",
    "fig, ax = plt.subplots(figsize=(10,5))\n",
    "ax.bar(paises[0:10], casos[0:10],color='Green')\n",
    "ax.set(xlabel='Country', ylabel='Cases', \n",
    "       title='Top Paises con mas casos recuperados')\n",
    "ax.grid()\n",
    "%matplot plt"
   ]
  },
  {
   "cell_type": "code",
   "execution_count": 293,
   "metadata": {},
   "outputs": [
    {
     "data": {
      "application/vnd.jupyter.widget-view+json": {
       "model_id": "16f4c6b14bf24cc9aed46e5935cd8ea6",
       "version_major": 2,
       "version_minor": 0
      },
      "text/plain": [
       "VBox()"
      ]
     },
     "metadata": {},
     "output_type": "display_data"
    },
    {
     "data": {
      "application/vnd.jupyter.widget-view+json": {
       "model_id": "",
       "version_major": 2,
       "version_minor": 0
      },
      "text/plain": [
       "FloatProgress(value=0.0, bar_style='info', description='Progress:', layout=Layout(height='25px', width='50%'),…"
      ]
     },
     "metadata": {},
     "output_type": "display_data"
    },
    {
     "data": {
      "image/png": "[encoded data removed]",
      "text/plain": [
       "<IPython.core.display.Image object>"
      ]
     },
     "metadata": {},
     "output_type": "display_data"
    }
   ],
   "source": [
    "#Los 10 paises con mas fallecidos\n",
    "paises=  global_deaths.groupBy('Country/Region').max('Value').orderBy('max(Value)',ascending=False).toPandas()['Country/Region'].values.tolist()\n",
    "casos=global_deaths.groupBy('Country/Region').max('Value').orderBy('max(Value)',ascending=False).toPandas()['max(Value)'].values.tolist()\n",
    "fig, ax = plt.subplots(figsize=(10,5))\n",
    "ax.bar(paises[0:10], casos[0:10],color='Red')\n",
    "ax.set(xlabel='Country', ylabel='Cases', \n",
    "       title='Top Paises con mas casos fallecidos')\n",
    "ax.grid()\n",
    "%matplot plt"
   ]
  },
  {
   "cell_type": "code",
   "execution_count": 337,
   "metadata": {},
   "outputs": [
    {
     "data": {
      "application/vnd.jupyter.widget-view+json": {
       "model_id": "9d235f14c62744d98018232c239bc3b9",
       "version_major": 2,
       "version_minor": 0
      },
      "text/plain": [
       "VBox()"
      ]
     },
     "metadata": {},
     "output_type": "display_data"
    },
    {
     "data": {
      "application/vnd.jupyter.widget-view+json": {
       "model_id": "",
       "version_major": 2,
       "version_minor": 0
      },
      "text/plain": [
       "FloatProgress(value=0.0, bar_style='info', description='Progress:', layout=Layout(height='25px', width='50%'),…"
      ]
     },
     "metadata": {},
     "output_type": "display_data"
    },
    {
     "data": {
      "image/png": "[encoded data removed]",
      "text/plain": [
       "<IPython.core.display.Image object>"
      ]
     },
     "metadata": {},
     "output_type": "display_data"
    }
   ],
   "source": [
    "#Historico de los 5 paises mas infectados\n",
    "#US\n",
    "global_cases=global_cases.withColumn(\"Dates\",global_cases['Date'].astype('String'))\n",
    "datessu=  global_cases.filter(global_cases['Country/Region']=='US').groupBy('Dates').max('Value').orderBy('Dates',ascending=True).toPandas()['Dates'].values.tolist()\n",
    "cantidadu= global_cases.filter(global_cases['Country/Region']=='US').groupBy('Dates').max('Value').orderBy('Dates',ascending=True).toPandas()['max(Value)'].values.tolist()\n",
    "#Russia\n",
    "datessr=  global_cases.filter(global_cases['Country/Region']=='Russia').groupBy('Dates').max('Value').orderBy('Dates',ascending=True).toPandas()['Dates'].values.tolist()\n",
    "cantidadr= global_cases.filter(global_cases['Country/Region']=='Russia').groupBy('Dates').max('Value').orderBy('Dates',ascending=True).toPandas()['max(Value)'].values.tolist()\n",
    "#United Kingdom\n",
    "datessuk=  global_cases.filter(global_cases['Country/Region']=='United Kingdom').groupBy('Dates').max('Value').orderBy('Dates',ascending=True).toPandas()['Dates'].values.tolist()\n",
    "cantidaduk= global_cases.filter(global_cases['Country/Region']=='United Kingdom').groupBy('Dates').max('Value').orderBy('Dates',ascending=True).toPandas()['max(Value)'].values.tolist()\n",
    "#Spain\n",
    "datessus=  global_cases.filter(global_cases['Country/Region']=='Spain').groupBy('Dates').max('Value').orderBy('Dates',ascending=True).toPandas()['Dates'].values.tolist()\n",
    "cantidadus= global_cases.filter(global_cases['Country/Region']=='Spain').groupBy('Dates').max('Value').orderBy('Dates',ascending=True).toPandas()['max(Value)'].values.tolist()\n",
    "#Italy\n",
    "datessui=  global_cases.filter(global_cases['Country/Region']=='Italy').groupBy('Dates').max('Value').orderBy('Dates',ascending=True).toPandas()['Dates'].values.tolist()\n",
    "cantidadui= global_cases.filter(global_cases['Country/Region']=='Italy').groupBy('Dates').max('Value').orderBy('Dates',ascending=True).toPandas()['max(Value)'].values.tolist()\n",
    "\n",
    "\n",
    "fig, ax = plt.subplots(figsize=(10,5))\n",
    "ax.plot(datessu, cantidadu,label='US')\n",
    "ax.plot(datessr, cantidadr,label='Russia')\n",
    "ax.plot(datessuk, cantidaduk, label='UK')\n",
    "ax.plot(datessus, cantidadus, label='Spain')\n",
    "ax.plot(datessui, cantidadui, label='Italy')\n",
    "\n",
    "ax.set(xlabel='Dates', ylabel='Cases',\n",
    "       title='Curva de los 5 paises con mas casos')\n",
    "ax.grid()\n",
    "ax.set_xticks(datesu[-1:])\n",
    "ax.legend()\n",
    "%matplot plt"
   ]
  },
  {
   "cell_type": "code",
   "execution_count": null,
   "metadata": {},
   "outputs": [],
   "source": []
  },
  {
   "cell_type": "code",
   "execution_count": 315,
   "metadata": {},
   "outputs": [
    {
     "data": {
      "application/vnd.jupyter.widget-view+json": {
       "model_id": "10a8383c1dbb49b1b600700689feb2ff",
       "version_major": 2,
       "version_minor": 0
      },
      "text/plain": [
       "VBox()"
      ]
     },
     "metadata": {},
     "output_type": "display_data"
    },
    {
     "data": {
      "application/vnd.jupyter.widget-view+json": {
       "model_id": "",
       "version_major": 2,
       "version_minor": 0
      },
      "text/plain": [
       "FloatProgress(value=0.0, bar_style='info', description='Progress:', layout=Layout(height='25px', width='50%'),…"
      ]
     },
     "metadata": {},
     "output_type": "display_data"
    }
   ],
   "source": []
  },
  {
   "cell_type": "code",
   "execution_count": null,
   "metadata": {},
   "outputs": [],
   "source": []
  }
 ],
 "metadata": {
  "kernelspec": {
   "display_name": "PySpark",
   "language": "",
   "name": "pysparkkernel"
  },
  "language_info": {
   "codemirror_mode": {
    "name": "python",
    "version": 2
   },
   "mimetype": "text/x-python",
   "name": "pyspark",
   "pygments_lexer": "python2"
  }
 },
 "nbformat": 4,
 "nbformat_minor": 4
}
